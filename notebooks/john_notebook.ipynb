{
 "cells": [
  {
   "cell_type": "markdown",
   "id": "71db4f27",
   "metadata": {},
   "source": [
    "## use case 1: create dataset with specific criteria  \n",
    "\n",
    "\"create a dataframe in python with random sales for a period of 1 month. I want the Columns Name Surname, Age, Quantity, Budget, Date of Purchase and Store Name. Purchase date cannot be greater than today and men should be 70% of the dataset. Total rows 100.\""
   ]
  },
  {
   "cell_type": "code",
   "execution_count": 6,
   "id": "f711a43c",
   "metadata": {},
   "outputs": [
    {
     "name": "stdout",
     "output_type": "stream",
     "text": [
      "Requirement already satisfied: pip in /Users/ioanniskoutsoukis/Projects/LLMs_Code_Capabilities_Investigation/.conda/lib/python3.11/site-packages (25.1.1)\n",
      "Requirement already satisfied: setuptools in /Users/ioanniskoutsoukis/Projects/LLMs_Code_Capabilities_Investigation/.conda/lib/python3.11/site-packages (80.9.0)\n",
      "Requirement already satisfied: wheel in /Users/ioanniskoutsoukis/Projects/LLMs_Code_Capabilities_Investigation/.conda/lib/python3.11/site-packages (0.45.1)\n",
      "Note: you may need to restart the kernel to use updated packages.\n",
      "Requirement already satisfied: pandas in /Users/ioanniskoutsoukis/Projects/LLMs_Code_Capabilities_Investigation/.conda/lib/python3.11/site-packages (2.3.0)\n",
      "Requirement already satisfied: numpy in /Users/ioanniskoutsoukis/Projects/LLMs_Code_Capabilities_Investigation/.conda/lib/python3.11/site-packages (2.3.1)\n",
      "Requirement already satisfied: plotly in /Users/ioanniskoutsoukis/Projects/LLMs_Code_Capabilities_Investigation/.conda/lib/python3.11/site-packages (6.2.0)\n",
      "Requirement already satisfied: python-dateutil>=2.8.2 in /Users/ioanniskoutsoukis/Projects/LLMs_Code_Capabilities_Investigation/.conda/lib/python3.11/site-packages (from pandas) (2.9.0.post0)\n",
      "Requirement already satisfied: pytz>=2020.1 in /Users/ioanniskoutsoukis/Projects/LLMs_Code_Capabilities_Investigation/.conda/lib/python3.11/site-packages (from pandas) (2025.2)\n",
      "Requirement already satisfied: tzdata>=2022.7 in /Users/ioanniskoutsoukis/Projects/LLMs_Code_Capabilities_Investigation/.conda/lib/python3.11/site-packages (from pandas) (2025.2)\n",
      "Requirement already satisfied: narwhals>=1.15.1 in /Users/ioanniskoutsoukis/Projects/LLMs_Code_Capabilities_Investigation/.conda/lib/python3.11/site-packages (from plotly) (1.45.0)\n",
      "Requirement already satisfied: packaging in /Users/ioanniskoutsoukis/Projects/LLMs_Code_Capabilities_Investigation/.conda/lib/python3.11/site-packages (from plotly) (25.0)\n",
      "Requirement already satisfied: six>=1.5 in /Users/ioanniskoutsoukis/Projects/LLMs_Code_Capabilities_Investigation/.conda/lib/python3.11/site-packages (from python-dateutil>=2.8.2->pandas) (1.17.0)\n",
      "Note: you may need to restart the kernel to use updated packages.\n",
      "Collecting nbformat\n",
      "  Using cached nbformat-5.10.4-py3-none-any.whl.metadata (3.6 kB)\n",
      "Collecting fastjsonschema>=2.15 (from nbformat)\n",
      "  Using cached fastjsonschema-2.21.1-py3-none-any.whl.metadata (2.2 kB)\n",
      "Collecting jsonschema>=2.6 (from nbformat)\n",
      "  Using cached jsonschema-4.24.0-py3-none-any.whl.metadata (7.8 kB)\n",
      "Requirement already satisfied: jupyter-core!=5.0.*,>=4.12 in /Users/ioanniskoutsoukis/Projects/LLMs_Code_Capabilities_Investigation/.conda/lib/python3.11/site-packages (from nbformat) (5.8.1)\n",
      "Requirement already satisfied: traitlets>=5.1 in /Users/ioanniskoutsoukis/Projects/LLMs_Code_Capabilities_Investigation/.conda/lib/python3.11/site-packages (from nbformat) (5.14.3)\n",
      "Collecting attrs>=22.2.0 (from jsonschema>=2.6->nbformat)\n",
      "  Using cached attrs-25.3.0-py3-none-any.whl.metadata (10 kB)\n",
      "Collecting jsonschema-specifications>=2023.03.6 (from jsonschema>=2.6->nbformat)\n",
      "  Using cached jsonschema_specifications-2025.4.1-py3-none-any.whl.metadata (2.9 kB)\n",
      "Collecting referencing>=0.28.4 (from jsonschema>=2.6->nbformat)\n",
      "  Using cached referencing-0.36.2-py3-none-any.whl.metadata (2.8 kB)\n",
      "Collecting rpds-py>=0.7.1 (from jsonschema>=2.6->nbformat)\n",
      "  Downloading rpds_py-0.26.0-cp311-cp311-macosx_11_0_arm64.whl.metadata (4.2 kB)\n",
      "Requirement already satisfied: platformdirs>=2.5 in /Users/ioanniskoutsoukis/Projects/LLMs_Code_Capabilities_Investigation/.conda/lib/python3.11/site-packages (from jupyter-core!=5.0.*,>=4.12->nbformat) (4.3.8)\n",
      "Requirement already satisfied: typing-extensions>=4.4.0 in /Users/ioanniskoutsoukis/Projects/LLMs_Code_Capabilities_Investigation/.conda/lib/python3.11/site-packages (from referencing>=0.28.4->jsonschema>=2.6->nbformat) (4.14.1)\n",
      "Using cached nbformat-5.10.4-py3-none-any.whl (78 kB)\n",
      "Using cached fastjsonschema-2.21.1-py3-none-any.whl (23 kB)\n",
      "Using cached jsonschema-4.24.0-py3-none-any.whl (88 kB)\n",
      "Using cached attrs-25.3.0-py3-none-any.whl (63 kB)\n",
      "Using cached jsonschema_specifications-2025.4.1-py3-none-any.whl (18 kB)\n",
      "Using cached referencing-0.36.2-py3-none-any.whl (26 kB)\n",
      "Downloading rpds_py-0.26.0-cp311-cp311-macosx_11_0_arm64.whl (358 kB)\n",
      "Installing collected packages: fastjsonschema, rpds-py, attrs, referencing, jsonschema-specifications, jsonschema, nbformat\n",
      "\u001b[2K   \u001b[90m━━━━━━━━━━━━━━━━━━━━━━━━━━━━━━━━━━━━━━━━\u001b[0m \u001b[32m7/7\u001b[0m [nbformat]\n",
      "\u001b[1A\u001b[2KSuccessfully installed attrs-25.3.0 fastjsonschema-2.21.1 jsonschema-4.24.0 jsonschema-specifications-2025.4.1 nbformat-5.10.4 referencing-0.36.2 rpds-py-0.26.0\n",
      "Note: you may need to restart the kernel to use updated packages.\n"
     ]
    }
   ],
   "source": [
    "%pip install --upgrade pip setuptools wheel\n",
    "%pip install pandas numpy plotly\n",
    "%pip install --upgrade nbformat"
   ]
  },
  {
   "cell_type": "code",
   "execution_count": 5,
   "id": "22ad36c4",
   "metadata": {},
   "outputs": [
    {
     "data": {
      "text/html": [
       "<div>\n",
       "<style scoped>\n",
       "    .dataframe tbody tr th:only-of-type {\n",
       "        vertical-align: middle;\n",
       "    }\n",
       "\n",
       "    .dataframe tbody tr th {\n",
       "        vertical-align: top;\n",
       "    }\n",
       "\n",
       "    .dataframe thead th {\n",
       "        text-align: right;\n",
       "    }\n",
       "</style>\n",
       "<table border=\"1\" class=\"dataframe\">\n",
       "  <thead>\n",
       "    <tr style=\"text-align: right;\">\n",
       "      <th></th>\n",
       "      <th>Name</th>\n",
       "      <th>Surname</th>\n",
       "      <th>Age</th>\n",
       "      <th>Quantity</th>\n",
       "      <th>Budget</th>\n",
       "      <th>Date of Purchase</th>\n",
       "      <th>Store Name</th>\n",
       "    </tr>\n",
       "  </thead>\n",
       "  <tbody>\n",
       "    <tr>\n",
       "      <th>0</th>\n",
       "      <td>Robert</td>\n",
       "      <td>Williams</td>\n",
       "      <td>42</td>\n",
       "      <td>4</td>\n",
       "      <td>277.36</td>\n",
       "      <td>2025-06-04</td>\n",
       "      <td>Store C</td>\n",
       "    </tr>\n",
       "    <tr>\n",
       "      <th>1</th>\n",
       "      <td>Barbara</td>\n",
       "      <td>Garcia</td>\n",
       "      <td>59</td>\n",
       "      <td>3</td>\n",
       "      <td>93.29</td>\n",
       "      <td>2025-06-09</td>\n",
       "      <td>Store B</td>\n",
       "    </tr>\n",
       "    <tr>\n",
       "      <th>2</th>\n",
       "      <td>James</td>\n",
       "      <td>Williams</td>\n",
       "      <td>50</td>\n",
       "      <td>2</td>\n",
       "      <td>388.44</td>\n",
       "      <td>2025-06-12</td>\n",
       "      <td>Store C</td>\n",
       "    </tr>\n",
       "    <tr>\n",
       "      <th>3</th>\n",
       "      <td>Richard</td>\n",
       "      <td>Johnson</td>\n",
       "      <td>38</td>\n",
       "      <td>6</td>\n",
       "      <td>478.46</td>\n",
       "      <td>2025-06-04</td>\n",
       "      <td>Store D</td>\n",
       "    </tr>\n",
       "    <tr>\n",
       "      <th>4</th>\n",
       "      <td>David</td>\n",
       "      <td>Williams</td>\n",
       "      <td>22</td>\n",
       "      <td>6</td>\n",
       "      <td>286.99</td>\n",
       "      <td>2025-07-01</td>\n",
       "      <td>Store A</td>\n",
       "    </tr>\n",
       "    <tr>\n",
       "      <th>...</th>\n",
       "      <td>...</td>\n",
       "      <td>...</td>\n",
       "      <td>...</td>\n",
       "      <td>...</td>\n",
       "      <td>...</td>\n",
       "      <td>...</td>\n",
       "      <td>...</td>\n",
       "    </tr>\n",
       "    <tr>\n",
       "      <th>95</th>\n",
       "      <td>Michael</td>\n",
       "      <td>Johnson</td>\n",
       "      <td>63</td>\n",
       "      <td>4</td>\n",
       "      <td>146.10</td>\n",
       "      <td>2025-06-16</td>\n",
       "      <td>Store B</td>\n",
       "    </tr>\n",
       "    <tr>\n",
       "      <th>96</th>\n",
       "      <td>Patricia</td>\n",
       "      <td>Smith</td>\n",
       "      <td>23</td>\n",
       "      <td>6</td>\n",
       "      <td>14.06</td>\n",
       "      <td>2025-06-29</td>\n",
       "      <td>Store C</td>\n",
       "    </tr>\n",
       "    <tr>\n",
       "      <th>97</th>\n",
       "      <td>Michael</td>\n",
       "      <td>Jones</td>\n",
       "      <td>38</td>\n",
       "      <td>9</td>\n",
       "      <td>81.85</td>\n",
       "      <td>2025-06-16</td>\n",
       "      <td>Store C</td>\n",
       "    </tr>\n",
       "    <tr>\n",
       "      <th>98</th>\n",
       "      <td>Linda</td>\n",
       "      <td>Williams</td>\n",
       "      <td>45</td>\n",
       "      <td>4</td>\n",
       "      <td>447.93</td>\n",
       "      <td>2025-06-08</td>\n",
       "      <td>Store C</td>\n",
       "    </tr>\n",
       "    <tr>\n",
       "      <th>99</th>\n",
       "      <td>Robert</td>\n",
       "      <td>Johnson</td>\n",
       "      <td>39</td>\n",
       "      <td>6</td>\n",
       "      <td>291.06</td>\n",
       "      <td>2025-06-21</td>\n",
       "      <td>Store A</td>\n",
       "    </tr>\n",
       "  </tbody>\n",
       "</table>\n",
       "<p>100 rows × 7 columns</p>\n",
       "</div>"
      ],
      "text/plain": [
       "        Name   Surname  Age  Quantity  Budget Date of Purchase Store Name\n",
       "0     Robert  Williams   42         4  277.36       2025-06-04    Store C\n",
       "1    Barbara    Garcia   59         3   93.29       2025-06-09    Store B\n",
       "2      James  Williams   50         2  388.44       2025-06-12    Store C\n",
       "3    Richard   Johnson   38         6  478.46       2025-06-04    Store D\n",
       "4      David  Williams   22         6  286.99       2025-07-01    Store A\n",
       "..       ...       ...  ...       ...     ...              ...        ...\n",
       "95   Michael   Johnson   63         4  146.10       2025-06-16    Store B\n",
       "96  Patricia     Smith   23         6   14.06       2025-06-29    Store C\n",
       "97   Michael     Jones   38         9   81.85       2025-06-16    Store C\n",
       "98     Linda  Williams   45         4  447.93       2025-06-08    Store C\n",
       "99    Robert   Johnson   39         6  291.06       2025-06-21    Store A\n",
       "\n",
       "[100 rows x 7 columns]"
      ]
     },
     "execution_count": 5,
     "metadata": {},
     "output_type": "execute_result"
    }
   ],
   "source": [
    "import pandas as pd\n",
    "import numpy as np\n",
    "from datetime import datetime, timedelta\n",
    "import random\n",
    "\n",
    "# Sample data for names and stores\n",
    "male_names = ['John', 'Michael', 'David', 'James', 'Robert', 'William', 'Richard']\n",
    "female_names = ['Mary', 'Patricia', 'Linda', 'Barbara', 'Elizabeth', 'Jennifer', 'Maria']\n",
    "surnames = ['Smith', 'Johnson', 'Williams', 'Brown', 'Jones', 'Garcia', 'Miller']\n",
    "stores = ['Store A', 'Store B', 'Store C', 'Store D']\n",
    "\n",
    "num_rows = 100\n",
    "num_men = int(num_rows * 0.7)\n",
    "num_women = num_rows - num_men\n",
    "\n",
    "# Generate gender list\n",
    "genders = ['M'] * num_men + ['F'] * num_women\n",
    "random.shuffle(genders)\n",
    "\n",
    "# Generate data\n",
    "names = [random.choice(male_names if g == 'M' else female_names) for g in genders]\n",
    "surnames_list = [random.choice(surnames) for _ in range(num_rows)]\n",
    "ages = np.random.randint(18, 65, size=num_rows)\n",
    "quantities = np.random.randint(1, 10, size=num_rows)\n",
    "budgets = np.round(np.random.uniform(10, 500, size=num_rows), 2)\n",
    "today = datetime.today()\n",
    "start_date = today - timedelta(days=30)\n",
    "dates = [start_date + timedelta(days=random.randint(0, (today - start_date).days)) for _ in range(num_rows)]\n",
    "store_names = [random.choice(stores) for _ in range(num_rows)]\n",
    "\n",
    "# Create DataFrame\n",
    "df = pd.DataFrame({\n",
    "    'Name': names,\n",
    "    'Surname': surnames_list,\n",
    "    'Age': ages,\n",
    "    'Quantity': quantities,\n",
    "    'Budget': budgets,\n",
    "    'Date of Purchase': [d.date() for d in dates],\n",
    "    'Store Name': store_names\n",
    "})\n",
    "\n",
    "df"
   ]
  },
  {
   "cell_type": "code",
   "execution_count": 8,
   "id": "687fb034",
   "metadata": {},
   "outputs": [
    {
     "ename": "TypeError",
     "evalue": "Invalid comparison between dtype=datetime64[ns] and date",
     "output_type": "error",
     "traceback": [
      "\u001b[31m---------------------------------------------------------------------------\u001b[39m",
      "\u001b[31mInvalidComparison\u001b[39m                         Traceback (most recent call last)",
      "\u001b[36mFile \u001b[39m\u001b[32m~/Projects/LLMs_Code_Capabilities_Investigation/.conda/lib/python3.11/site-packages/pandas/core/arrays/datetimelike.py:1006\u001b[39m, in \u001b[36mDatetimeLikeArrayMixin._cmp_method\u001b[39m\u001b[34m(self, other, op)\u001b[39m\n\u001b[32m   1005\u001b[39m \u001b[38;5;28;01mtry\u001b[39;00m:\n\u001b[32m-> \u001b[39m\u001b[32m1006\u001b[39m     other = \u001b[38;5;28;43mself\u001b[39;49m\u001b[43m.\u001b[49m\u001b[43m_validate_comparison_value\u001b[49m\u001b[43m(\u001b[49m\u001b[43mother\u001b[49m\u001b[43m)\u001b[49m\n\u001b[32m   1007\u001b[39m \u001b[38;5;28;01mexcept\u001b[39;00m InvalidComparison:\n",
      "\u001b[36mFile \u001b[39m\u001b[32m~/Projects/LLMs_Code_Capabilities_Investigation/.conda/lib/python3.11/site-packages/pandas/core/arrays/datetimelike.py:565\u001b[39m, in \u001b[36mDatetimeLikeArrayMixin._validate_comparison_value\u001b[39m\u001b[34m(self, other)\u001b[39m\n\u001b[32m    564\u001b[39m \u001b[38;5;28;01melif\u001b[39;00m \u001b[38;5;129;01mnot\u001b[39;00m is_list_like(other):\n\u001b[32m--> \u001b[39m\u001b[32m565\u001b[39m     \u001b[38;5;28;01mraise\u001b[39;00m InvalidComparison(other)\n\u001b[32m    567\u001b[39m \u001b[38;5;28;01melif\u001b[39;00m \u001b[38;5;28mlen\u001b[39m(other) != \u001b[38;5;28mlen\u001b[39m(\u001b[38;5;28mself\u001b[39m):\n",
      "\u001b[31mInvalidComparison\u001b[39m: 2025-07-04",
      "\nDuring handling of the above exception, another exception occurred:\n",
      "\u001b[31mTypeError\u001b[39m                                 Traceback (most recent call last)",
      "\u001b[36mCell\u001b[39m\u001b[36m \u001b[39m\u001b[32mIn[8]\u001b[39m\u001b[32m, line 21\u001b[39m\n\u001b[32m     19\u001b[39m \u001b[38;5;66;03m# 4. Check purchase date is not greater than today\u001b[39;00m\n\u001b[32m     20\u001b[39m df_dates = pd.to_datetime(df[\u001b[33m'\u001b[39m\u001b[33mDate of Purchase\u001b[39m\u001b[33m'\u001b[39m])\n\u001b[32m---> \u001b[39m\u001b[32m21\u001b[39m validation_results[\u001b[33m'\u001b[39m\u001b[33mdates_not_future\u001b[39m\u001b[33m'\u001b[39m] = \u001b[38;5;28mall\u001b[39m(\u001b[43mdf_dates\u001b[49m\u001b[43m \u001b[49m\u001b[43m<\u001b[49m\u001b[43m=\u001b[49m\u001b[43m \u001b[49m\u001b[43mtoday\u001b[49m\u001b[43m.\u001b[49m\u001b[43mdate\u001b[49m\u001b[43m(\u001b[49m\u001b[43m)\u001b[49m)\n\u001b[32m     23\u001b[39m \u001b[38;5;66;03m# 5. Check date range is within 1 month\u001b[39;00m\n\u001b[32m     24\u001b[39m validation_results[\u001b[33m'\u001b[39m\u001b[33mdates_within_1_month\u001b[39m\u001b[33m'\u001b[39m] = (df_dates.max() - df_dates.min()).days <= \u001b[32m31\u001b[39m\n",
      "\u001b[36mFile \u001b[39m\u001b[32m~/Projects/LLMs_Code_Capabilities_Investigation/.conda/lib/python3.11/site-packages/pandas/core/ops/common.py:76\u001b[39m, in \u001b[36m_unpack_zerodim_and_defer.<locals>.new_method\u001b[39m\u001b[34m(self, other)\u001b[39m\n\u001b[32m     72\u001b[39m             \u001b[38;5;28;01mreturn\u001b[39;00m \u001b[38;5;28mNotImplemented\u001b[39m\n\u001b[32m     74\u001b[39m other = item_from_zerodim(other)\n\u001b[32m---> \u001b[39m\u001b[32m76\u001b[39m \u001b[38;5;28;01mreturn\u001b[39;00m \u001b[43mmethod\u001b[49m\u001b[43m(\u001b[49m\u001b[38;5;28;43mself\u001b[39;49m\u001b[43m,\u001b[49m\u001b[43m \u001b[49m\u001b[43mother\u001b[49m\u001b[43m)\u001b[49m\n",
      "\u001b[36mFile \u001b[39m\u001b[32m~/Projects/LLMs_Code_Capabilities_Investigation/.conda/lib/python3.11/site-packages/pandas/core/arraylike.py:52\u001b[39m, in \u001b[36mOpsMixin.__le__\u001b[39m\u001b[34m(self, other)\u001b[39m\n\u001b[32m     50\u001b[39m \u001b[38;5;129m@unpack_zerodim_and_defer\u001b[39m(\u001b[33m\"\u001b[39m\u001b[33m__le__\u001b[39m\u001b[33m\"\u001b[39m)\n\u001b[32m     51\u001b[39m \u001b[38;5;28;01mdef\u001b[39;00m\u001b[38;5;250m \u001b[39m\u001b[34m__le__\u001b[39m(\u001b[38;5;28mself\u001b[39m, other):\n\u001b[32m---> \u001b[39m\u001b[32m52\u001b[39m     \u001b[38;5;28;01mreturn\u001b[39;00m \u001b[38;5;28;43mself\u001b[39;49m\u001b[43m.\u001b[49m\u001b[43m_cmp_method\u001b[49m\u001b[43m(\u001b[49m\u001b[43mother\u001b[49m\u001b[43m,\u001b[49m\u001b[43m \u001b[49m\u001b[43moperator\u001b[49m\u001b[43m.\u001b[49m\u001b[43mle\u001b[49m\u001b[43m)\u001b[49m\n",
      "\u001b[36mFile \u001b[39m\u001b[32m~/Projects/LLMs_Code_Capabilities_Investigation/.conda/lib/python3.11/site-packages/pandas/core/series.py:6130\u001b[39m, in \u001b[36mSeries._cmp_method\u001b[39m\u001b[34m(self, other, op)\u001b[39m\n\u001b[32m   6127\u001b[39m lvalues = \u001b[38;5;28mself\u001b[39m._values\n\u001b[32m   6128\u001b[39m rvalues = extract_array(other, extract_numpy=\u001b[38;5;28;01mTrue\u001b[39;00m, extract_range=\u001b[38;5;28;01mTrue\u001b[39;00m)\n\u001b[32m-> \u001b[39m\u001b[32m6130\u001b[39m res_values = \u001b[43mops\u001b[49m\u001b[43m.\u001b[49m\u001b[43mcomparison_op\u001b[49m\u001b[43m(\u001b[49m\u001b[43mlvalues\u001b[49m\u001b[43m,\u001b[49m\u001b[43m \u001b[49m\u001b[43mrvalues\u001b[49m\u001b[43m,\u001b[49m\u001b[43m \u001b[49m\u001b[43mop\u001b[49m\u001b[43m)\u001b[49m\n\u001b[32m   6132\u001b[39m \u001b[38;5;28;01mreturn\u001b[39;00m \u001b[38;5;28mself\u001b[39m._construct_result(res_values, name=res_name)\n",
      "\u001b[36mFile \u001b[39m\u001b[32m~/Projects/LLMs_Code_Capabilities_Investigation/.conda/lib/python3.11/site-packages/pandas/core/ops/array_ops.py:330\u001b[39m, in \u001b[36mcomparison_op\u001b[39m\u001b[34m(left, right, op)\u001b[39m\n\u001b[32m    321\u001b[39m         \u001b[38;5;28;01mraise\u001b[39;00m \u001b[38;5;167;01mValueError\u001b[39;00m(\n\u001b[32m    322\u001b[39m             \u001b[33m\"\u001b[39m\u001b[33mLengths must match to compare\u001b[39m\u001b[33m\"\u001b[39m, lvalues.shape, rvalues.shape\n\u001b[32m    323\u001b[39m         )\n\u001b[32m    325\u001b[39m \u001b[38;5;28;01mif\u001b[39;00m should_extension_dispatch(lvalues, rvalues) \u001b[38;5;129;01mor\u001b[39;00m (\n\u001b[32m    326\u001b[39m     (\u001b[38;5;28misinstance\u001b[39m(rvalues, (Timedelta, BaseOffset, Timestamp)) \u001b[38;5;129;01mor\u001b[39;00m right \u001b[38;5;129;01mis\u001b[39;00m NaT)\n\u001b[32m    327\u001b[39m     \u001b[38;5;129;01mand\u001b[39;00m lvalues.dtype != \u001b[38;5;28mobject\u001b[39m\n\u001b[32m    328\u001b[39m ):\n\u001b[32m    329\u001b[39m     \u001b[38;5;66;03m# Call the method on lvalues\u001b[39;00m\n\u001b[32m--> \u001b[39m\u001b[32m330\u001b[39m     res_values = \u001b[43mop\u001b[49m\u001b[43m(\u001b[49m\u001b[43mlvalues\u001b[49m\u001b[43m,\u001b[49m\u001b[43m \u001b[49m\u001b[43mrvalues\u001b[49m\u001b[43m)\u001b[49m\n\u001b[32m    332\u001b[39m \u001b[38;5;28;01melif\u001b[39;00m is_scalar(rvalues) \u001b[38;5;129;01mand\u001b[39;00m isna(rvalues):  \u001b[38;5;66;03m# TODO: but not pd.NA?\u001b[39;00m\n\u001b[32m    333\u001b[39m     \u001b[38;5;66;03m# numpy does not like comparisons vs None\u001b[39;00m\n\u001b[32m    334\u001b[39m     \u001b[38;5;28;01mif\u001b[39;00m op \u001b[38;5;129;01mis\u001b[39;00m operator.ne:\n",
      "\u001b[36mFile \u001b[39m\u001b[32m~/Projects/LLMs_Code_Capabilities_Investigation/.conda/lib/python3.11/site-packages/pandas/core/ops/common.py:76\u001b[39m, in \u001b[36m_unpack_zerodim_and_defer.<locals>.new_method\u001b[39m\u001b[34m(self, other)\u001b[39m\n\u001b[32m     72\u001b[39m             \u001b[38;5;28;01mreturn\u001b[39;00m \u001b[38;5;28mNotImplemented\u001b[39m\n\u001b[32m     74\u001b[39m other = item_from_zerodim(other)\n\u001b[32m---> \u001b[39m\u001b[32m76\u001b[39m \u001b[38;5;28;01mreturn\u001b[39;00m \u001b[43mmethod\u001b[49m\u001b[43m(\u001b[49m\u001b[38;5;28;43mself\u001b[39;49m\u001b[43m,\u001b[49m\u001b[43m \u001b[49m\u001b[43mother\u001b[49m\u001b[43m)\u001b[49m\n",
      "\u001b[36mFile \u001b[39m\u001b[32m~/Projects/LLMs_Code_Capabilities_Investigation/.conda/lib/python3.11/site-packages/pandas/core/arraylike.py:52\u001b[39m, in \u001b[36mOpsMixin.__le__\u001b[39m\u001b[34m(self, other)\u001b[39m\n\u001b[32m     50\u001b[39m \u001b[38;5;129m@unpack_zerodim_and_defer\u001b[39m(\u001b[33m\"\u001b[39m\u001b[33m__le__\u001b[39m\u001b[33m\"\u001b[39m)\n\u001b[32m     51\u001b[39m \u001b[38;5;28;01mdef\u001b[39;00m\u001b[38;5;250m \u001b[39m\u001b[34m__le__\u001b[39m(\u001b[38;5;28mself\u001b[39m, other):\n\u001b[32m---> \u001b[39m\u001b[32m52\u001b[39m     \u001b[38;5;28;01mreturn\u001b[39;00m \u001b[38;5;28;43mself\u001b[39;49m\u001b[43m.\u001b[49m\u001b[43m_cmp_method\u001b[49m\u001b[43m(\u001b[49m\u001b[43mother\u001b[49m\u001b[43m,\u001b[49m\u001b[43m \u001b[49m\u001b[43moperator\u001b[49m\u001b[43m.\u001b[49m\u001b[43mle\u001b[49m\u001b[43m)\u001b[49m\n",
      "\u001b[36mFile \u001b[39m\u001b[32m~/Projects/LLMs_Code_Capabilities_Investigation/.conda/lib/python3.11/site-packages/pandas/core/arrays/datetimelike.py:1008\u001b[39m, in \u001b[36mDatetimeLikeArrayMixin._cmp_method\u001b[39m\u001b[34m(self, other, op)\u001b[39m\n\u001b[32m   1006\u001b[39m     other = \u001b[38;5;28mself\u001b[39m._validate_comparison_value(other)\n\u001b[32m   1007\u001b[39m \u001b[38;5;28;01mexcept\u001b[39;00m InvalidComparison:\n\u001b[32m-> \u001b[39m\u001b[32m1008\u001b[39m     \u001b[38;5;28;01mreturn\u001b[39;00m \u001b[43minvalid_comparison\u001b[49m\u001b[43m(\u001b[49m\u001b[38;5;28;43mself\u001b[39;49m\u001b[43m,\u001b[49m\u001b[43m \u001b[49m\u001b[43mother\u001b[49m\u001b[43m,\u001b[49m\u001b[43m \u001b[49m\u001b[43mop\u001b[49m\u001b[43m)\u001b[49m\n\u001b[32m   1010\u001b[39m dtype = \u001b[38;5;28mgetattr\u001b[39m(other, \u001b[33m\"\u001b[39m\u001b[33mdtype\u001b[39m\u001b[33m\"\u001b[39m, \u001b[38;5;28;01mNone\u001b[39;00m)\n\u001b[32m   1011\u001b[39m \u001b[38;5;28;01mif\u001b[39;00m is_object_dtype(dtype):\n\u001b[32m   1012\u001b[39m     \u001b[38;5;66;03m# We have to use comp_method_OBJECT_ARRAY instead of numpy\u001b[39;00m\n\u001b[32m   1013\u001b[39m     \u001b[38;5;66;03m#  comparison otherwise it would raise when comparing to None\u001b[39;00m\n",
      "\u001b[36mFile \u001b[39m\u001b[32m~/Projects/LLMs_Code_Capabilities_Investigation/.conda/lib/python3.11/site-packages/pandas/core/ops/invalid.py:40\u001b[39m, in \u001b[36minvalid_comparison\u001b[39m\u001b[34m(left, right, op)\u001b[39m\n\u001b[32m     38\u001b[39m \u001b[38;5;28;01melse\u001b[39;00m:\n\u001b[32m     39\u001b[39m     typ = \u001b[38;5;28mtype\u001b[39m(right).\u001b[34m__name__\u001b[39m\n\u001b[32m---> \u001b[39m\u001b[32m40\u001b[39m     \u001b[38;5;28;01mraise\u001b[39;00m \u001b[38;5;167;01mTypeError\u001b[39;00m(\u001b[33mf\u001b[39m\u001b[33m\"\u001b[39m\u001b[33mInvalid comparison between dtype=\u001b[39m\u001b[38;5;132;01m{\u001b[39;00mleft.dtype\u001b[38;5;132;01m}\u001b[39;00m\u001b[33m and \u001b[39m\u001b[38;5;132;01m{\u001b[39;00mtyp\u001b[38;5;132;01m}\u001b[39;00m\u001b[33m\"\u001b[39m)\n\u001b[32m     41\u001b[39m \u001b[38;5;28;01mreturn\u001b[39;00m res_values\n",
      "\u001b[31mTypeError\u001b[39m: Invalid comparison between dtype=datetime64[ns] and date"
     ]
    }
   ],
   "source": [
    "from collections import Counter\n",
    "\n",
    "# Validate the rules for the generated dataset\n",
    "\n",
    "\n",
    "validation_results = {}\n",
    "\n",
    "# 1. Check total rows\n",
    "validation_results['total_rows'] = len(df) == 100\n",
    "\n",
    "# 2. Check columns\n",
    "expected_columns = {'Name', 'Surname', 'Age', 'Quantity', 'Budget', 'Date of Purchase', 'Store Name'}\n",
    "validation_results['columns'] = set(df.columns) == expected_columns\n",
    "\n",
    "# 3. Check men are 70% of dataset\n",
    "gender_count = Counter(genders)\n",
    "validation_results['men_70_percent'] = abs(gender_count['M'] / len(genders) - 0.7) < 0.01\n",
    "\n",
    "# 4. Check purchase date is not greater than today\n",
    "df_dates = pd.to_datetime(df['Date of Purchase'])\n",
    "validation_results['dates_not_future'] = all(df_dates <= today.date())\n",
    "\n",
    "# 5. Check date range is within 1 month\n",
    "validation_results['dates_within_1_month'] = (df_dates.max() - df_dates.min()).days <= 31\n",
    "\n",
    "validation_results"
   ]
  },
  {
   "cell_type": "code",
   "execution_count": 9,
   "id": "7b07f210",
   "metadata": {},
   "outputs": [
    {
     "data": {
      "text/plain": [
       "{'total_rows': True,\n",
       " 'columns': True,\n",
       " 'men_70_percent': True,\n",
       " 'dates_not_future': np.True_,\n",
       " 'dates_within_1_month': True}"
      ]
     },
     "execution_count": 9,
     "metadata": {},
     "output_type": "execute_result"
    }
   ],
   "source": [
    "from collections import Counter\n",
    "\n",
    "# Validate the rules for the generated dataset\n",
    "\n",
    "\n",
    "validation_results = {}\n",
    "\n",
    "# 1. Check total rows\n",
    "validation_results['total_rows'] = len(df) == 100\n",
    "\n",
    "# 2. Check columns\n",
    "expected_columns = {'Name', 'Surname', 'Age', 'Quantity', 'Budget', 'Date of Purchase', 'Store Name'}\n",
    "validation_results['columns'] = set(df.columns) == expected_columns\n",
    "\n",
    "# 3. Check men are 70% of dataset\n",
    "gender_count = Counter(genders)\n",
    "validation_results['men_70_percent'] = abs(gender_count['M'] / len(genders) - 0.7) < 0.01\n",
    "\n",
    "# 4. Check purchase date is not greater than today\n",
    "df_dates = pd.to_datetime(df['Date of Purchase'])\n",
    "today_ts = pd.Timestamp(datetime.now())  # ή σήμερα = pd.Timestamp.today()\n",
    "\n",
    "validation_results['dates_not_future'] = (df_dates <= today_ts).all()\n",
    "\n",
    "# 5. Check date range is within 1 month\n",
    "validation_results['dates_within_1_month'] = (df_dates.max() - df_dates.min()).days <= 31\n",
    "\n",
    "validation_results"
   ]
  },
  {
   "cell_type": "markdown",
   "id": "c98ca20b",
   "metadata": {},
   "source": [
    "### notes/findings:\n",
    "- pip install was required for the code in order to run\n",
    "- caught the context and create the dataset\n",
    "- when asked for validation script, did a logical werror which resulted in failure, needing manual adjustment.\n"
   ]
  },
  {
   "cell_type": "markdown",
   "id": "a34e6adb",
   "metadata": {},
   "source": [
    "## Case 2 - Data Manipulation\n",
    "\n",
    "\n",
    "Now I want to add +50 in the quantities of the woman and - 50 from the quantities of the men. Also create a new column which shows the rate quantity/budget. Finally add the country in a new column after the store name. Note that The same name cannot be in 2 different countries  "
   ]
  },
  {
   "cell_type": "code",
   "execution_count": 10,
   "id": "d173f502",
   "metadata": {},
   "outputs": [
    {
     "data": {
      "text/html": [
       "<div>\n",
       "<style scoped>\n",
       "    .dataframe tbody tr th:only-of-type {\n",
       "        vertical-align: middle;\n",
       "    }\n",
       "\n",
       "    .dataframe tbody tr th {\n",
       "        vertical-align: top;\n",
       "    }\n",
       "\n",
       "    .dataframe thead th {\n",
       "        text-align: right;\n",
       "    }\n",
       "</style>\n",
       "<table border=\"1\" class=\"dataframe\">\n",
       "  <thead>\n",
       "    <tr style=\"text-align: right;\">\n",
       "      <th></th>\n",
       "      <th>Name</th>\n",
       "      <th>Surname</th>\n",
       "      <th>Age</th>\n",
       "      <th>Quantity</th>\n",
       "      <th>Budget</th>\n",
       "      <th>Date of Purchase</th>\n",
       "      <th>Store Name</th>\n",
       "      <th>Country</th>\n",
       "      <th>Rate</th>\n",
       "    </tr>\n",
       "  </thead>\n",
       "  <tbody>\n",
       "    <tr>\n",
       "      <th>0</th>\n",
       "      <td>Robert</td>\n",
       "      <td>Williams</td>\n",
       "      <td>42</td>\n",
       "      <td>-46</td>\n",
       "      <td>277.36</td>\n",
       "      <td>2025-06-04</td>\n",
       "      <td>Store C</td>\n",
       "      <td>Germany</td>\n",
       "      <td>-0.165849</td>\n",
       "    </tr>\n",
       "    <tr>\n",
       "      <th>1</th>\n",
       "      <td>Barbara</td>\n",
       "      <td>Garcia</td>\n",
       "      <td>59</td>\n",
       "      <td>53</td>\n",
       "      <td>93.29</td>\n",
       "      <td>2025-06-09</td>\n",
       "      <td>Store B</td>\n",
       "      <td>UK</td>\n",
       "      <td>0.568121</td>\n",
       "    </tr>\n",
       "    <tr>\n",
       "      <th>2</th>\n",
       "      <td>James</td>\n",
       "      <td>Williams</td>\n",
       "      <td>50</td>\n",
       "      <td>-48</td>\n",
       "      <td>388.44</td>\n",
       "      <td>2025-06-12</td>\n",
       "      <td>Store C</td>\n",
       "      <td>UK</td>\n",
       "      <td>-0.123571</td>\n",
       "    </tr>\n",
       "    <tr>\n",
       "      <th>3</th>\n",
       "      <td>Richard</td>\n",
       "      <td>Johnson</td>\n",
       "      <td>38</td>\n",
       "      <td>-44</td>\n",
       "      <td>478.46</td>\n",
       "      <td>2025-06-04</td>\n",
       "      <td>Store D</td>\n",
       "      <td>USA</td>\n",
       "      <td>-0.091962</td>\n",
       "    </tr>\n",
       "    <tr>\n",
       "      <th>4</th>\n",
       "      <td>David</td>\n",
       "      <td>Williams</td>\n",
       "      <td>22</td>\n",
       "      <td>-44</td>\n",
       "      <td>286.99</td>\n",
       "      <td>2025-07-01</td>\n",
       "      <td>Store A</td>\n",
       "      <td>Canada</td>\n",
       "      <td>-0.153315</td>\n",
       "    </tr>\n",
       "  </tbody>\n",
       "</table>\n",
       "</div>"
      ],
      "text/plain": [
       "      Name   Surname  Age  Quantity  Budget Date of Purchase Store Name  \\\n",
       "0   Robert  Williams   42       -46  277.36       2025-06-04    Store C   \n",
       "1  Barbara    Garcia   59        53   93.29       2025-06-09    Store B   \n",
       "2    James  Williams   50       -48  388.44       2025-06-12    Store C   \n",
       "3  Richard   Johnson   38       -44  478.46       2025-06-04    Store D   \n",
       "4    David  Williams   22       -44  286.99       2025-07-01    Store A   \n",
       "\n",
       "   Country      Rate  \n",
       "0  Germany -0.165849  \n",
       "1       UK  0.568121  \n",
       "2       UK -0.123571  \n",
       "3      USA -0.091962  \n",
       "4   Canada -0.153315  "
      ]
     },
     "execution_count": 10,
     "metadata": {},
     "output_type": "execute_result"
    }
   ],
   "source": [
    "df_orig = df.copy()\n",
    "\n",
    "# Adjust quantities: +50 for women, -50 for men\n",
    "df['Quantity'] = df['Quantity'] + [50 if g == 'F' else -50 for g in genders]\n",
    "\n",
    "# Create rate column: Quantity / Budget\n",
    "df['Rate'] = df['Quantity'] / df['Budget']\n",
    "\n",
    "# Assign countries ensuring the same name is not in 2 different countries\n",
    "countries = ['USA', 'Canada', 'UK', 'Germany']\n",
    "name_to_country = {}\n",
    "used_countries = {name: set() for name in set(df['Name'])}\n",
    "\n",
    "assigned_countries = []\n",
    "for name in df['Name']:\n",
    "    if name not in name_to_country:\n",
    "        # Assign a country not already used for this name\n",
    "        available = [c for c in countries if c not in used_countries[name]]\n",
    "        country = random.choice(available)\n",
    "        name_to_country[name] = country\n",
    "        used_countries[name].add(country)\n",
    "    assigned_countries.append(name_to_country[name])\n",
    "\n",
    "# Insert country column after 'Store Name'\n",
    "df.insert(df.columns.get_loc('Store Name') + 1, 'Country', assigned_countries)\n",
    "\n",
    "df.head()"
   ]
  },
  {
   "cell_type": "code",
   "execution_count": 11,
   "id": "66b2ee24",
   "metadata": {
    "vscode": {
     "languageId": "ruby"
    }
   },
   "outputs": [
    {
     "data": {
      "text/plain": [
       "{'quantity_adjustment': True,\n",
       " 'rate_column': True,\n",
       " 'country_column_exists': True,\n",
       " 'name_country_unique': np.True_}"
      ]
     },
     "execution_count": 11,
     "metadata": {},
     "output_type": "execute_result"
    }
   ],
   "source": [
    "# Validate the manipulation by comparing df and df_orig\n",
    "\n",
    "validation_manipulation = {}\n",
    "\n",
    "# 1. Check that for women, Quantity increased by 50; for men, decreased by 50\n",
    "quantity_diff = df['Quantity'].values - df_orig['Quantity'].values\n",
    "expected_diff = np.array([50 if g == 'F' else -50 for g in genders])\n",
    "validation_manipulation['quantity_adjustment'] = np.array_equal(quantity_diff, expected_diff)\n",
    "\n",
    "# 2. Check that Rate column is correct: Quantity / Budget\n",
    "rate_correct = np.allclose(df['Rate'], df['Quantity'] / df['Budget'])\n",
    "validation_manipulation['rate_column'] = rate_correct\n",
    "\n",
    "# 3. Check that Country column exists and same name is not in 2 different countries\n",
    "country_column_exists = 'Country' in df.columns\n",
    "name_country_unique = df.groupby('Name')['Country'].nunique().max() == 1\n",
    "validation_manipulation['country_column_exists'] = country_column_exists\n",
    "validation_manipulation['name_country_unique'] = name_country_unique\n",
    "\n",
    "validation_manipulation"
   ]
  },
  {
   "cell_type": "markdown",
   "id": "38e85b50",
   "metadata": {},
   "source": [
    "### notes/findings\n",
    "- perfect implemnation, totally correct"
   ]
  },
  {
   "cell_type": "markdown",
   "id": "151e55ad",
   "metadata": {},
   "source": [
    "## Case 3 - Complex Data Creation, Validation & Postprocessing\n",
    "\n",
    "“Create a streaming Python script that produces 100 rows of sales data for the last calendar month, writing each record immediately to output.csv without keeping the entire DataFrame in memory.\n",
    "\n",
    "Columns: Name (random Greek first names), Surname (random Greek surnames), Age (Poisson with μ=35, clamped to [18,70]), Quantity (Uniform integer 1–20), UnitPrice (Normal distribution per store: Store A→N(10,2), Store B→Uniform(5,15), Store C→Triangular(3,12,6)), Budget = Quantity×UnitPrice rounded to 2 decimals, Date of Purchase (ISO 8601 with +03:00, uniform on weekdays 08:00–20:00, weekends only 10:00–18:00, include Feb 29 if applicable), Store Name (pick from JSON file), Gender (M=70%±0.5%, F rest), with random.seed(42).**\n",
    "\n",
    "Verify at runtime:\n",
    "\n",
    "Exactly 70 males (±0.5% error)\n",
    "\n",
    "No dates > today (Europe/Athens timezone)\n",
    "\n",
    "CSV valid UTF-8, no missing fields\n",
    "\n",
    "Memory footprint ≤ 10 MB"
   ]
  },
  {
   "cell_type": "markdown",
   "id": "d1b4c814",
   "metadata": {},
   "source": [
    "### zero shot generated code"
   ]
  },
  {
   "cell_type": "code",
   "execution_count": null,
   "id": "20a87673",
   "metadata": {},
   "outputs": [
    {
     "ename": "UnboundLocalError",
     "evalue": "cannot access local variable 'hour' where it is not associated with a value",
     "output_type": "error",
     "traceback": [
      "\u001b[31m---------------------------------------------------------------------------\u001b[39m",
      "\u001b[31mUnboundLocalError\u001b[39m                         Traceback (most recent call last)",
      "\u001b[36mCell\u001b[39m\u001b[36m \u001b[39m\u001b[32mIn[16]\u001b[39m\u001b[32m, line 120\u001b[39m\n\u001b[32m    118\u001b[39m price = \u001b[38;5;28mround\u001b[39m(unit_price(store), \u001b[32m2\u001b[39m)\n\u001b[32m    119\u001b[39m budget = \u001b[38;5;28mround\u001b[39m(quantity * price, \u001b[32m2\u001b[39m)\n\u001b[32m--> \u001b[39m\u001b[32m120\u001b[39m date_of_purchase = \u001b[43mrandom_datetime_in_month\u001b[49m\u001b[43m(\u001b[49m\u001b[43m)\u001b[49m\n\u001b[32m    121\u001b[39m row = {\n\u001b[32m    122\u001b[39m     \u001b[33m\"\u001b[39m\u001b[33mName\u001b[39m\u001b[33m\"\u001b[39m: name,\n\u001b[32m    123\u001b[39m     \u001b[33m\"\u001b[39m\u001b[33mSurname\u001b[39m\u001b[33m\"\u001b[39m: surname,\n\u001b[32m   (...)\u001b[39m\u001b[32m    130\u001b[39m     \u001b[33m\"\u001b[39m\u001b[33mGender\u001b[39m\u001b[33m\"\u001b[39m: gender\n\u001b[32m    131\u001b[39m }\n\u001b[32m    132\u001b[39m \u001b[38;5;66;03m# Check for missing fields\u001b[39;00m\n",
      "\u001b[36mCell\u001b[39m\u001b[36m \u001b[39m\u001b[32mIn[16]\u001b[39m\u001b[32m, line 47\u001b[39m, in \u001b[36mrandom_datetime_in_month\u001b[39m\u001b[34m()\u001b[39m\n\u001b[32m     45\u001b[39m day = random.randint(\u001b[32m1\u001b[39m, last_month_end.day)\n\u001b[32m     46\u001b[39m dt = last_month_start.replace(day=day)\n\u001b[32m---> \u001b[39m\u001b[32m47\u001b[39m dt = dt.replace(hour=\u001b[43mhour\u001b[49m, minute=minute, second=second) \u001b[38;5;66;03m# addition after 1st try \u001b[39;00m\n\u001b[32m     48\u001b[39m \u001b[38;5;28;01mif\u001b[39;00m dt <= today:\n\u001b[32m     49\u001b[39m     \u001b[38;5;28;01mreturn\u001b[39;00m dt.isoformat()\n",
      "\u001b[31mUnboundLocalError\u001b[39m: cannot access local variable 'hour' where it is not associated with a value"
     ]
    }
   ],
   "source": [
    "import csv\n",
    "import json\n",
    "import random\n",
    "import numpy as np\n",
    "from datetime import datetime, timedelta, time\n",
    "import pytz\n",
    "import os\n",
    "import sys\n",
    "\n",
    "# Set random seed\n",
    "random.seed(42)\n",
    "np.random.seed(42)\n",
    "\n",
    "# Greek names and surnames\n",
    "greek_first_names = [\n",
    "    \"Giorgos\", \"Dimitris\", \"Kostas\", \"Nikos\", \"Vasilis\", \"Giannis\", \"Panagiotis\",\n",
    "    \"Maria\", \"Eleni\", \"Katerina\", \"Vasiliki\", \"Sofia\", \"Georgia\", \"Dimitra\"\n",
    "]\n",
    "greek_surnames = [\n",
    "    \"Papadopoulos\", \"Nikolaidis\", \"Georgiou\", \"Papanikolaou\", \"Ioannidis\",\n",
    "    \"Konstantinou\", \"Christodoulou\", \"Papadakis\", \"Oikonomou\", \"Alexiou\"\n",
    "]\n",
    "\n",
    "# Store names from JSON file (simulate file)\n",
    "stores_json = '[\"Store A\", \"Store B\", \"Store C\"]'\n",
    "store_names = json.loads(stores_json)\n",
    "\n",
    "# Gender distribution\n",
    "num_rows = 100\n",
    "num_males = 70\n",
    "num_females = num_rows - num_males\n",
    "genders = ['M'] * num_males + ['F'] * num_females\n",
    "random.shuffle(genders)\n",
    "\n",
    "# Date range: last full calendar month\n",
    "athens = pytz.timezone('Europe/Athens')\n",
    "today = datetime.now(athens)\n",
    "first_of_this_month = today.replace(day=1, hour=0, minute=0, second=0, microsecond=0)\n",
    "last_month_end = first_of_this_month - timedelta(days=1)\n",
    "last_month_start = last_month_end.replace(day=1)\n",
    "\n",
    "def random_datetime_in_month():\n",
    "    # Pick a random date in last calendar month\n",
    "    while True:\n",
    "        day = random.randint(1, last_month_end.day)\n",
    "        dt = last_month_start.replace(day=day)\n",
    "        weekday = dt.weekday()\n",
    "        if weekday < 5:\n",
    "            # Weekday: 08:00–20:00\n",
    "            hour = random.randint(8, 20)\n",
    "        else:\n",
    "            # Weekend: 10:00–18:00\n",
    "            hour = random.randint(10, 18)\n",
    "        minute = random.randint(0, 59)\n",
    "        second = random.randint(0, 59)\n",
    "        dt = dt.replace(hour=hour, minute=minute, second=second)\n",
    "        dt = athens.localize(dt)\n",
    "        if dt <= today:\n",
    "            return dt.isoformat()\n",
    "\n",
    "def unit_price(store):\n",
    "    if store == \"Store A\":\n",
    "        return max(1, np.random.normal(10, 2))\n",
    "    elif store == \"Store B\":\n",
    "        return np.random.uniform(5, 15)\n",
    "    elif store == \"Store C\":\n",
    "        return np.random.triangular(3, 12, 6)\n",
    "    else:\n",
    "        return np.random.uniform(5, 15)\n",
    "\n",
    "# Prepare CSV\n",
    "fieldnames = [\n",
    "    \"Name\", \"Surname\", \"Age\", \"Quantity\", \"UnitPrice\", \"Budget\",\n",
    "    \"Date of Purchase\", \"Store Name\", \"Gender\"\n",
    "]\n",
    "with open(\"output.csv\", \"w\", encoding=\"utf-8\", newline=\"\") as f:\n",
    "    writer = csv.DictWriter(f, fieldnames=fieldnames)\n",
    "    writer.writeheader()\n",
    "    for i in range(num_rows):\n",
    "        gender = genders[i]\n",
    "        name = random.choice(greek_first_names[:7] if gender == 'M' else greek_first_names[7:])\n",
    "        surname = random.choice(greek_surnames)\n",
    "        age = int(np.clip(np.random.poisson(35), 18, 70))\n",
    "        quantity = random.randint(1, 20)\n",
    "        store = random.choice(store_names)\n",
    "        price = round(unit_price(store), 2)\n",
    "        budget = round(quantity * price, 2)\n",
    "        date_of_purchase = random_datetime_in_month()\n",
    "        row = {\n",
    "            \"Name\": name,\n",
    "            \"Surname\": surname,\n",
    "            \"Age\": age,\n",
    "            \"Quantity\": quantity,\n",
    "            \"UnitPrice\": price,\n",
    "            \"Budget\": budget,\n",
    "            \"Date of Purchase\": date_of_purchase,\n",
    "            \"Store Name\": store,\n",
    "            \"Gender\": gender\n",
    "        }\n",
    "        # Check for missing fields\n",
    "        assert all(str(v) != \"\" for v in row.values())\n",
    "        writer.writerow(row)\n",
    "\n",
    "# Validation\n",
    "with open(\"output.csv\", encoding=\"utf-8\") as f:\n",
    "    reader = csv.DictReader(f)\n",
    "    rows = list(reader)\n",
    "    assert len(rows) == 100\n",
    "    male_count = sum(1 for r in rows if r[\"Gender\"] == \"M\")\n",
    "    assert abs(male_count - 70) <= 1\n",
    "    for r in rows:\n",
    "        # Check date not in future\n",
    "        dt = datetime.fromisoformat(r[\"Date of Purchase\"])\n",
    "        assert dt <= today\n",
    "        # Check no missing fields\n",
    "        assert all(r[k] != \"\" for k in fieldnames)\n",
    "    # Check memory usage\n",
    "    assert sys.getsizeof(rows) < 10 * 1024 * 1024  # <10MB\n",
    "\n",
    "print(\"CSV generated and validated successfully.\")"
   ]
  },
  {
   "cell_type": "markdown",
   "id": "6ca74ea3",
   "metadata": {},
   "source": [
    "### polished/corrected code"
   ]
  },
  {
   "cell_type": "code",
   "execution_count": 18,
   "id": "8302756e",
   "metadata": {},
   "outputs": [
    {
     "name": "stdout",
     "output_type": "stream",
     "text": [
      "CSV generated and validated successfully.\n"
     ]
    }
   ],
   "source": [
    "import csv\n",
    "import json\n",
    "import random\n",
    "import numpy as np\n",
    "from datetime import datetime, timedelta\n",
    "import pytz\n",
    "import sys\n",
    "\n",
    "# Set random seed\n",
    "random.seed(42)\n",
    "np.random.seed(42)\n",
    "\n",
    "# Greek names and surnames\n",
    "greek_first_names = [\n",
    "    \"Giorgos\", \"Dimitris\", \"Kostas\", \"Nikos\", \"Vasilis\", \"Giannis\", \"Panagiotis\",\n",
    "    \"Maria\", \"Eleni\", \"Katerina\", \"Vasiliki\", \"Sofia\", \"Georgia\", \"Dimitra\"\n",
    "]\n",
    "greek_surnames = [\n",
    "    \"Papadopoulos\", \"Nikolaidis\", \"Georgiou\", \"Papanikolaou\", \"Ioannidis\",\n",
    "    \"Konstantinou\", \"Christodoulou\", \"Papadakis\", \"Oikonomou\", \"Alexiou\"\n",
    "]\n",
    "\n",
    "# Store names from JSON file (simulate file)\n",
    "stores_json = '[\"Store A\", \"Store B\", \"Store C\"]'\n",
    "store_names = json.loads(stores_json)\n",
    "\n",
    "# Gender distribution\n",
    "num_rows = 100\n",
    "num_males = 70\n",
    "num_females = num_rows - num_males\n",
    "genders = ['M'] * num_males + ['F'] * num_females\n",
    "random.shuffle(genders)\n",
    "\n",
    "# Date range: last full calendar month\n",
    "athens = pytz.timezone('Europe/Athens')\n",
    "today = datetime.now(athens)\n",
    "first_of_this_month = today.replace(day=1, hour=0, minute=0, second=0, microsecond=0)\n",
    "last_month_end = first_of_this_month - timedelta(days=1)\n",
    "last_month_start = last_month_end.replace(day=1)\n",
    "\n",
    "def random_datetime_in_month():\n",
    "    \"\"\"Επιστρέφει ένα ISO‐8601 timestamp μέσα στον προηγούμενο μήνα,\n",
    "    με ώρες 08–20 Δευτ–Παρασκευή, 10–18 Σαβ–Κυρ, tz Europe/Athens.\"\"\"\n",
    "    while True:\n",
    "        # διαλέγουμε τυχαία μέρα\n",
    "        day = random.randint(1, last_month_end.day)\n",
    "\n",
    "        # προσωρινό naive datetime για να δούμε weekday\n",
    "        dt0 = datetime(\n",
    "            year=last_month_start.year,\n",
    "            month=last_month_start.month,\n",
    "            day=day\n",
    "        )\n",
    "        # καθορισμός ώρας\n",
    "        if dt0.weekday() < 5:\n",
    "            hour = random.randint(8, 20)\n",
    "        else:\n",
    "            hour = random.randint(10, 18)\n",
    "        minute = random.randint(0, 59)\n",
    "        second = random.randint(0, 59)\n",
    "\n",
    "        # δημιουργούμε naive datetime με ώρα\n",
    "        dt_naive = datetime(\n",
    "            year=last_month_start.year,\n",
    "            month=last_month_start.month,\n",
    "            day=day,\n",
    "            hour=hour,\n",
    "            minute=minute,\n",
    "            second=second\n",
    "        )\n",
    "        # το κάνουμε tz-aware\n",
    "        dt_aware = athens.localize(dt_naive)\n",
    "\n",
    "        # ελέγχουμε να μην είναι μελλοντικό\n",
    "        if dt_aware <= today:\n",
    "            return dt_aware.isoformat()\n",
    "\n",
    "def unit_price(store):\n",
    "    if store == \"Store A\":\n",
    "        return max(1, np.random.normal(10, 2))\n",
    "    elif store == \"Store B\":\n",
    "        return np.random.uniform(5, 15)\n",
    "    elif store == \"Store C\":\n",
    "        # left=3, mode=6, right=12 ώστε να μην έχουμε mode>right\n",
    "        return np.random.triangular(3, 6, 12)\n",
    "    else:\n",
    "        return np.random.uniform(5, 15)\n",
    "\n",
    "\n",
    "# Prepare CSV\n",
    "fieldnames = [\n",
    "    \"Name\", \"Surname\", \"Age\", \"Quantity\", \"UnitPrice\", \"Budget\",\n",
    "    \"Date of Purchase\", \"Store Name\", \"Gender\"\n",
    "]\n",
    "with open(\"output.csv\", \"w\", encoding=\"utf-8\", newline=\"\") as f:\n",
    "    writer = csv.DictWriter(f, fieldnames=fieldnames)\n",
    "    writer.writeheader()\n",
    "    for i in range(num_rows):\n",
    "        gender = genders[i]\n",
    "        name = random.choice(greek_first_names[:7] if gender == 'M' else greek_first_names[7:])\n",
    "        surname = random.choice(greek_surnames)\n",
    "        age = int(np.clip(np.random.poisson(35), 18, 70))\n",
    "        quantity = random.randint(1, 20)\n",
    "        store = random.choice(store_names)\n",
    "        price = round(unit_price(store), 2)\n",
    "        budget = round(quantity * price, 2)\n",
    "        date_of_purchase = random_datetime_in_month()\n",
    "        row = {\n",
    "            \"Name\": name,\n",
    "            \"Surname\": surname,\n",
    "            \"Age\": age,\n",
    "            \"Quantity\": quantity,\n",
    "            \"UnitPrice\": price,\n",
    "            \"Budget\": budget,\n",
    "            \"Date of Purchase\": date_of_purchase,\n",
    "            \"Store Name\": store,\n",
    "            \"Gender\": gender\n",
    "        }\n",
    "        # Check for missing fields\n",
    "        assert all(v is not None and str(v) != \"\" for v in row.values())\n",
    "        writer.writerow(row)\n",
    "\n",
    "# Validation\n",
    "with open(\"output.csv\", encoding=\"utf-8\") as f:\n",
    "    reader = csv.DictReader(f)\n",
    "    rows = list(reader)\n",
    "    assert len(rows) == num_rows\n",
    "    male_count = sum(1 for r in rows if r[\"Gender\"] == \"M\")\n",
    "    assert male_count == num_males  # ακριβώς 70\n",
    "\n",
    "    for r in rows:\n",
    "        # Check date not in future (aware vs aware)\n",
    "        dt = datetime.fromisoformat(r[\"Date of Purchase\"])\n",
    "        assert dt <= today\n",
    "\n",
    "        # Check no missing fields\n",
    "        assert all(r[k] != \"\" for k in fieldnames)\n",
    "\n",
    "    # You could measure real memory via psutil, but for simplicity:\n",
    "    assert sys.getsizeof(rows) < 10 * 1024 * 1024  # <10MB\n",
    "\n",
    "print(\"CSV generated and validated successfully.\")\n"
   ]
  },
  {
   "cell_type": "markdown",
   "id": "3aaa41c8",
   "metadata": {},
   "source": [
    "### notes/findings\n",
    "\n",
    "- In 1st run, error \"ValueError : Not naive datetime (tzinfo is already set)\" was raised. After further searching it seems that last_month_start is already tz-aware datetime (tzinfo=Europe/Athens). As such, localize() expects a naive item (without tzinfo)\n",
    "- In 2nd run, error \"ValueError: mode > right\" was raised. This indicates that όπου ο δεύτερος παράγοντας (mode=12) είναι μεγαλύτερος από τον τρίτο (right=6), ενώ η triangular( left, mode, right ) απαιτεί left ≤ mode ≤ right"
   ]
  },
  {
   "cell_type": "markdown",
   "id": "104c690f",
   "metadata": {},
   "source": [
    "## Case 4 - Visuals Generation\n",
    "\n",
    "In a single Jupyter notebook, write Python code using Plotly (not matplotlib or seaborn) that:\n",
    "\n",
    "Re-loads the existing output.csv (from our previous step) with pandas, parsing the Date of Purchase column as timezone-aware datetime in Europe/Athens.\n",
    "Generates four interactive charts in separate code cells, always using non-default Plotly color palettes (no hard-coding of colors), and with custom hover templates:\n",
    "Age distribution histogram (Age) with 12 bins, overlaying male vs. female distributions.\n",
    "Quantity vs. Budget scatter plot, with a hover display of “Name Surname – Store Name – Date of Purchase” in ISO format.\n",
    "Time series line chart showing “Purchases per Day” on the primary y-axis, and “Average Budget per Day” on the secondary y-axis.\n",
    "Faceted bar chart of purchase counts by Store Name, faceted by gender in rows and by calendar week (Week 1…Week 5) in columns.\n",
    "Finally, create a fifth notebook cell with a 2×2 subplot grid where:\n",
    "The first three panels embed the histogram, the scatter plot, and the time series line chart.\n",
    "The fourth panel is a sunburst chart drilled down as: gender → store → weekday vs. weekend.\n",
    "All charts must:\n",
    "Use fig.update_layout(margin=…, title_font=…) so titles don’t get clipped.\n",
    "Use fig.update_xaxes or fig.update_yaxes for proper date formatting (weekday names, “DD-MM-YYYY”).\n",
    "Be responsive: if you resize the notebook window, the facets and subplots reflow appropriately.\n",
    "Additionally:\n",
    "Initialize random.seed(42) and np.random.seed(42) in case any sampling is demonstrated (e.g. for annotations).\n",
    "Include a brief Markdown comment above each cell explaining what the chart shows and the business insight it conveys.\n",
    "In the final Markdown cell, assert that “all charts render without exception and remain fully interactive.”\n",
    "\n",
    "\n",
    "Use plotly.subplots.make_subplots with shared_xaxes=True, shared_yaxes=False. Add a dropdown menu (updatemenus) to filter the sunburst chart by store.\n",
    "\n",
    "This will push the LLM on parsing timezones, custom hover templates, dual axes, facets, subplots, responsive layouts, interactive widgets, and in-notebook documentation"
   ]
  },
  {
   "cell_type": "markdown",
   "id": "41e39165",
   "metadata": {},
   "source": [
    "### 1st try"
   ]
  },
  {
   "cell_type": "code",
   "execution_count": 2,
   "id": "54ed80be",
   "metadata": {},
   "outputs": [],
   "source": [
    "import pandas as pd\n",
    "import numpy as np\n",
    "import random\n",
    "from plotly.subplots import make_subplots\n",
    "import pytz\n",
    "\n",
    "# Cell 1: Load data and prepare for Plotly charts\n",
    "\n",
    "import plotly.express as px\n",
    "import plotly.graph_objects as go\n",
    "\n",
    "# Set seeds for reproducibility\n",
    "random.seed(42)\n",
    "np.random.seed(42)\n",
    "\n",
    "# Load CSV with timezone-aware datetime\n",
    "athens = pytz.timezone('Europe/Athens')\n",
    "df_plot = pd.read_csv(\n",
    "    \"output.csv\",\n",
    "    parse_dates=['Date of Purchase']\n",
    ")\n",
    "df_plot['Date of Purchase'] = pd.to_datetime(df_plot['Date of Purchase']).dt.tz_convert('Europe/Athens')\n",
    "\n",
    "# Add helper columns for facets and sunburst\n",
    "df_plot['Week'] = df_plot['Date of Purchase'].dt.isocalendar().week - df_plot['Date of Purchase'].dt.isocalendar().week.min() + 1\n",
    "df_plot['Week'] = df_plot['Week'].clip(1, 5)\n",
    "df_plot['DayType'] = np.where(df_plot['Date of Purchase'].dt.weekday < 5, 'Weekday', 'Weekend')"
   ]
  },
  {
   "cell_type": "markdown",
   "id": "7e2b4b4a",
   "metadata": {},
   "source": [
    "In a single Jupyter cell, write Python code using Plotly (not matplotlib or seaborn) that:\n",
    "\n",
    "Re-loads the existing output.csv (from our previous step) with pandas, parsing the Date of Purchase column as timezone-aware datetime in Europe/Athens.\n",
    "Generates four interactive charts in separate code cells, always using non-default Plotly color palettes (no hard-coding of colors), and with custom hover templates:\n",
    "Age distribution histogram (Age) with 12 bins, overlaying male vs. female distributions.\n",
    "Quantity vs. Budget scatter plot, with a hover display of “Name Surname – Store Name – Date of Purchase” in ISO format.\n",
    "Time series line chart showing “Purchases per Day” on the primary y-axis, and “Average Budget per Day” on the secondary y-axis.\n",
    "Faceted bar chart of purchase counts by Store Name, faceted by gender in rows and by calendar week (Week 1…Week 5) in columns.\n",
    "Finally, create a  a 2×2 subplot grid where:\n",
    "The first three panels embed the histogram, the scatter plot, and the time series line chart.\n",
    "The fourth panel is a sunburst chart drilled down as: gender → store → weekday vs. weekend.\n",
    "All charts must:\n",
    "Use fig.update_layout(margin=…, title_font=…) so titles don’t get clipped.\n",
    "Use fig.update_xaxes or fig.update_yaxes for proper date formatting (weekday names, “DD-MM-YYYY”).\n",
    "Be responsive: if you resize the notebook window, the facets and subplots reflow appropriately.\n",
    "Additionally:\n",
    "Initialize random.seed(42) and np.random.seed(42) in case any sampling is demonstrated (e.g. for annotations).\n",
    "Include a brief Markdown comment above each cell explaining what the chart shows and the business insight it conveys.\n",
    "In the final Markdown cell, assert that “all charts render without exception and remain fully interactive.”\n",
    "\n",
    "\n",
    "Use plotly.subplots.make_subplots with shared_xaxes=True, shared_yaxes=False. Add a dropdown menu (updatemenus) to filter the sunburst chart by store.\n",
    "\n",
    "This will push the LLM on parsing timezones, custom hover templates, dual axes, facets, subplots, responsive layouts, interactive widgets, and in-notebook documentation"
   ]
  },
  {
   "cell_type": "code",
   "execution_count": 8,
   "id": "1fcdc7ae",
   "metadata": {},
   "outputs": [
    {
     "data": {
      "application/vnd.plotly.v1+json": {
       "config": {
        "plotlyServerURL": "https://plot.ly"
       },
       "data": [
        {
         "bingroup": "x",
         "hovertemplate": "<b>%{customdata[0]} %{customdata[1]}</b><br>Store: %{customdata[2]}<br>Age: %{x}<br>Count: %{y}",
         "legendgroup": "M",
         "marker": {
          "color": "rgb(102, 197, 204)",
          "opacity": 0.75,
          "pattern": {
           "shape": ""
          }
         },
         "name": "M",
         "nbinsx": 12,
         "orientation": "v",
         "showlegend": true,
         "type": "histogram",
         "x": {
          "bdata": "IRwqHSMlHRseJBkVKCkoICUkIB4oKSkgISMhHh8jHh4eJSodJiEgKyYjJSsZJSYmJyYsIyEhJicsGiIjGSMfJCYiKBUaHA==",
          "dtype": "i1"
         },
         "xaxis": "x",
         "yaxis": "y"
        },
        {
         "bingroup": "x",
         "hovertemplate": "<b>%{customdata[0]} %{customdata[1]}</b><br>Store: %{customdata[2]}<br>Age: %{x}<br>Count: %{y}",
         "legendgroup": "F",
         "marker": {
          "color": "rgb(246, 207, 113)",
          "opacity": 0.75,
          "pattern": {
           "shape": ""
          }
         },
         "name": "F",
         "nbinsx": 12,
         "orientation": "v",
         "showlegend": true,
         "type": "histogram",
         "x": {
          "bdata": "KyEcGiwfJCAgGyMkHiAmKCEpLhwbICMmJSkkHCol",
          "dtype": "i1"
         },
         "xaxis": "x",
         "yaxis": "y"
        }
       ],
       "layout": {
        "barmode": "overlay",
        "legend": {
         "title": {
          "text": "Gender"
         },
         "tracegroupgap": 0
        },
        "margin": {
         "b": 40,
         "l": 40,
         "r": 40,
         "t": 60
        },
        "template": {
         "data": {
          "bar": [
           {
            "error_x": {
             "color": "#2a3f5f"
            },
            "error_y": {
             "color": "#2a3f5f"
            },
            "marker": {
             "line": {
              "color": "#E5ECF6",
              "width": 0.5
             },
             "pattern": {
              "fillmode": "overlay",
              "size": 10,
              "solidity": 0.2
             }
            },
            "type": "bar"
           }
          ],
          "barpolar": [
           {
            "marker": {
             "line": {
              "color": "#E5ECF6",
              "width": 0.5
             },
             "pattern": {
              "fillmode": "overlay",
              "size": 10,
              "solidity": 0.2
             }
            },
            "type": "barpolar"
           }
          ],
          "carpet": [
           {
            "aaxis": {
             "endlinecolor": "#2a3f5f",
             "gridcolor": "white",
             "linecolor": "white",
             "minorgridcolor": "white",
             "startlinecolor": "#2a3f5f"
            },
            "baxis": {
             "endlinecolor": "#2a3f5f",
             "gridcolor": "white",
             "linecolor": "white",
             "minorgridcolor": "white",
             "startlinecolor": "#2a3f5f"
            },
            "type": "carpet"
           }
          ],
          "choropleth": [
           {
            "colorbar": {
             "outlinewidth": 0,
             "ticks": ""
            },
            "type": "choropleth"
           }
          ],
          "contour": [
           {
            "colorbar": {
             "outlinewidth": 0,
             "ticks": ""
            },
            "colorscale": [
             [
              0,
              "#0d0887"
             ],
             [
              0.1111111111111111,
              "#46039f"
             ],
             [
              0.2222222222222222,
              "#7201a8"
             ],
             [
              0.3333333333333333,
              "#9c179e"
             ],
             [
              0.4444444444444444,
              "#bd3786"
             ],
             [
              0.5555555555555556,
              "#d8576b"
             ],
             [
              0.6666666666666666,
              "#ed7953"
             ],
             [
              0.7777777777777778,
              "#fb9f3a"
             ],
             [
              0.8888888888888888,
              "#fdca26"
             ],
             [
              1,
              "#f0f921"
             ]
            ],
            "type": "contour"
           }
          ],
          "contourcarpet": [
           {
            "colorbar": {
             "outlinewidth": 0,
             "ticks": ""
            },
            "type": "contourcarpet"
           }
          ],
          "heatmap": [
           {
            "colorbar": {
             "outlinewidth": 0,
             "ticks": ""
            },
            "colorscale": [
             [
              0,
              "#0d0887"
             ],
             [
              0.1111111111111111,
              "#46039f"
             ],
             [
              0.2222222222222222,
              "#7201a8"
             ],
             [
              0.3333333333333333,
              "#9c179e"
             ],
             [
              0.4444444444444444,
              "#bd3786"
             ],
             [
              0.5555555555555556,
              "#d8576b"
             ],
             [
              0.6666666666666666,
              "#ed7953"
             ],
             [
              0.7777777777777778,
              "#fb9f3a"
             ],
             [
              0.8888888888888888,
              "#fdca26"
             ],
             [
              1,
              "#f0f921"
             ]
            ],
            "type": "heatmap"
           }
          ],
          "histogram": [
           {
            "marker": {
             "pattern": {
              "fillmode": "overlay",
              "size": 10,
              "solidity": 0.2
             }
            },
            "type": "histogram"
           }
          ],
          "histogram2d": [
           {
            "colorbar": {
             "outlinewidth": 0,
             "ticks": ""
            },
            "colorscale": [
             [
              0,
              "#0d0887"
             ],
             [
              0.1111111111111111,
              "#46039f"
             ],
             [
              0.2222222222222222,
              "#7201a8"
             ],
             [
              0.3333333333333333,
              "#9c179e"
             ],
             [
              0.4444444444444444,
              "#bd3786"
             ],
             [
              0.5555555555555556,
              "#d8576b"
             ],
             [
              0.6666666666666666,
              "#ed7953"
             ],
             [
              0.7777777777777778,
              "#fb9f3a"
             ],
             [
              0.8888888888888888,
              "#fdca26"
             ],
             [
              1,
              "#f0f921"
             ]
            ],
            "type": "histogram2d"
           }
          ],
          "histogram2dcontour": [
           {
            "colorbar": {
             "outlinewidth": 0,
             "ticks": ""
            },
            "colorscale": [
             [
              0,
              "#0d0887"
             ],
             [
              0.1111111111111111,
              "#46039f"
             ],
             [
              0.2222222222222222,
              "#7201a8"
             ],
             [
              0.3333333333333333,
              "#9c179e"
             ],
             [
              0.4444444444444444,
              "#bd3786"
             ],
             [
              0.5555555555555556,
              "#d8576b"
             ],
             [
              0.6666666666666666,
              "#ed7953"
             ],
             [
              0.7777777777777778,
              "#fb9f3a"
             ],
             [
              0.8888888888888888,
              "#fdca26"
             ],
             [
              1,
              "#f0f921"
             ]
            ],
            "type": "histogram2dcontour"
           }
          ],
          "mesh3d": [
           {
            "colorbar": {
             "outlinewidth": 0,
             "ticks": ""
            },
            "type": "mesh3d"
           }
          ],
          "parcoords": [
           {
            "line": {
             "colorbar": {
              "outlinewidth": 0,
              "ticks": ""
             }
            },
            "type": "parcoords"
           }
          ],
          "pie": [
           {
            "automargin": true,
            "type": "pie"
           }
          ],
          "scatter": [
           {
            "fillpattern": {
             "fillmode": "overlay",
             "size": 10,
             "solidity": 0.2
            },
            "type": "scatter"
           }
          ],
          "scatter3d": [
           {
            "line": {
             "colorbar": {
              "outlinewidth": 0,
              "ticks": ""
             }
            },
            "marker": {
             "colorbar": {
              "outlinewidth": 0,
              "ticks": ""
             }
            },
            "type": "scatter3d"
           }
          ],
          "scattercarpet": [
           {
            "marker": {
             "colorbar": {
              "outlinewidth": 0,
              "ticks": ""
             }
            },
            "type": "scattercarpet"
           }
          ],
          "scattergeo": [
           {
            "marker": {
             "colorbar": {
              "outlinewidth": 0,
              "ticks": ""
             }
            },
            "type": "scattergeo"
           }
          ],
          "scattergl": [
           {
            "marker": {
             "colorbar": {
              "outlinewidth": 0,
              "ticks": ""
             }
            },
            "type": "scattergl"
           }
          ],
          "scattermap": [
           {
            "marker": {
             "colorbar": {
              "outlinewidth": 0,
              "ticks": ""
             }
            },
            "type": "scattermap"
           }
          ],
          "scattermapbox": [
           {
            "marker": {
             "colorbar": {
              "outlinewidth": 0,
              "ticks": ""
             }
            },
            "type": "scattermapbox"
           }
          ],
          "scatterpolar": [
           {
            "marker": {
             "colorbar": {
              "outlinewidth": 0,
              "ticks": ""
             }
            },
            "type": "scatterpolar"
           }
          ],
          "scatterpolargl": [
           {
            "marker": {
             "colorbar": {
              "outlinewidth": 0,
              "ticks": ""
             }
            },
            "type": "scatterpolargl"
           }
          ],
          "scatterternary": [
           {
            "marker": {
             "colorbar": {
              "outlinewidth": 0,
              "ticks": ""
             }
            },
            "type": "scatterternary"
           }
          ],
          "surface": [
           {
            "colorbar": {
             "outlinewidth": 0,
             "ticks": ""
            },
            "colorscale": [
             [
              0,
              "#0d0887"
             ],
             [
              0.1111111111111111,
              "#46039f"
             ],
             [
              0.2222222222222222,
              "#7201a8"
             ],
             [
              0.3333333333333333,
              "#9c179e"
             ],
             [
              0.4444444444444444,
              "#bd3786"
             ],
             [
              0.5555555555555556,
              "#d8576b"
             ],
             [
              0.6666666666666666,
              "#ed7953"
             ],
             [
              0.7777777777777778,
              "#fb9f3a"
             ],
             [
              0.8888888888888888,
              "#fdca26"
             ],
             [
              1,
              "#f0f921"
             ]
            ],
            "type": "surface"
           }
          ],
          "table": [
           {
            "cells": {
             "fill": {
              "color": "#EBF0F8"
             },
             "line": {
              "color": "white"
             }
            },
            "header": {
             "fill": {
              "color": "#C8D4E3"
             },
             "line": {
              "color": "white"
             }
            },
            "type": "table"
           }
          ]
         },
         "layout": {
          "annotationdefaults": {
           "arrowcolor": "#2a3f5f",
           "arrowhead": 0,
           "arrowwidth": 1
          },
          "autotypenumbers": "strict",
          "coloraxis": {
           "colorbar": {
            "outlinewidth": 0,
            "ticks": ""
           }
          },
          "colorscale": {
           "diverging": [
            [
             0,
             "#8e0152"
            ],
            [
             0.1,
             "#c51b7d"
            ],
            [
             0.2,
             "#de77ae"
            ],
            [
             0.3,
             "#f1b6da"
            ],
            [
             0.4,
             "#fde0ef"
            ],
            [
             0.5,
             "#f7f7f7"
            ],
            [
             0.6,
             "#e6f5d0"
            ],
            [
             0.7,
             "#b8e186"
            ],
            [
             0.8,
             "#7fbc41"
            ],
            [
             0.9,
             "#4d9221"
            ],
            [
             1,
             "#276419"
            ]
           ],
           "sequential": [
            [
             0,
             "#0d0887"
            ],
            [
             0.1111111111111111,
             "#46039f"
            ],
            [
             0.2222222222222222,
             "#7201a8"
            ],
            [
             0.3333333333333333,
             "#9c179e"
            ],
            [
             0.4444444444444444,
             "#bd3786"
            ],
            [
             0.5555555555555556,
             "#d8576b"
            ],
            [
             0.6666666666666666,
             "#ed7953"
            ],
            [
             0.7777777777777778,
             "#fb9f3a"
            ],
            [
             0.8888888888888888,
             "#fdca26"
            ],
            [
             1,
             "#f0f921"
            ]
           ],
           "sequentialminus": [
            [
             0,
             "#0d0887"
            ],
            [
             0.1111111111111111,
             "#46039f"
            ],
            [
             0.2222222222222222,
             "#7201a8"
            ],
            [
             0.3333333333333333,
             "#9c179e"
            ],
            [
             0.4444444444444444,
             "#bd3786"
            ],
            [
             0.5555555555555556,
             "#d8576b"
            ],
            [
             0.6666666666666666,
             "#ed7953"
            ],
            [
             0.7777777777777778,
             "#fb9f3a"
            ],
            [
             0.8888888888888888,
             "#fdca26"
            ],
            [
             1,
             "#f0f921"
            ]
           ]
          },
          "colorway": [
           "#636efa",
           "#EF553B",
           "#00cc96",
           "#ab63fa",
           "#FFA15A",
           "#19d3f3",
           "#FF6692",
           "#B6E880",
           "#FF97FF",
           "#FECB52"
          ],
          "font": {
           "color": "#2a3f5f"
          },
          "geo": {
           "bgcolor": "white",
           "lakecolor": "white",
           "landcolor": "#E5ECF6",
           "showlakes": true,
           "showland": true,
           "subunitcolor": "white"
          },
          "hoverlabel": {
           "align": "left"
          },
          "hovermode": "closest",
          "mapbox": {
           "style": "light"
          },
          "paper_bgcolor": "white",
          "plot_bgcolor": "#E5ECF6",
          "polar": {
           "angularaxis": {
            "gridcolor": "white",
            "linecolor": "white",
            "ticks": ""
           },
           "bgcolor": "#E5ECF6",
           "radialaxis": {
            "gridcolor": "white",
            "linecolor": "white",
            "ticks": ""
           }
          },
          "scene": {
           "xaxis": {
            "backgroundcolor": "#E5ECF6",
            "gridcolor": "white",
            "gridwidth": 2,
            "linecolor": "white",
            "showbackground": true,
            "ticks": "",
            "zerolinecolor": "white"
           },
           "yaxis": {
            "backgroundcolor": "#E5ECF6",
            "gridcolor": "white",
            "gridwidth": 2,
            "linecolor": "white",
            "showbackground": true,
            "ticks": "",
            "zerolinecolor": "white"
           },
           "zaxis": {
            "backgroundcolor": "#E5ECF6",
            "gridcolor": "white",
            "gridwidth": 2,
            "linecolor": "white",
            "showbackground": true,
            "ticks": "",
            "zerolinecolor": "white"
           }
          },
          "shapedefaults": {
           "line": {
            "color": "#2a3f5f"
           }
          },
          "ternary": {
           "aaxis": {
            "gridcolor": "white",
            "linecolor": "white",
            "ticks": ""
           },
           "baxis": {
            "gridcolor": "white",
            "linecolor": "white",
            "ticks": ""
           },
           "bgcolor": "#E5ECF6",
           "caxis": {
            "gridcolor": "white",
            "linecolor": "white",
            "ticks": ""
           }
          },
          "title": {
           "x": 0.05
          },
          "xaxis": {
           "automargin": true,
           "gridcolor": "white",
           "linecolor": "white",
           "ticks": "",
           "title": {
            "standoff": 15
           },
           "zerolinecolor": "white",
           "zerolinewidth": 2
          },
          "yaxis": {
           "automargin": true,
           "gridcolor": "white",
           "linecolor": "white",
           "ticks": "",
           "title": {
            "standoff": 15
           },
           "zerolinecolor": "white",
           "zerolinewidth": 2
          }
         }
        },
        "title": {
         "font": {
          "family": "Arial",
          "size": 20
         },
         "text": "Age Distribution by Gender"
        },
        "xaxis": {
         "anchor": "y",
         "domain": [
          0,
          1
         ],
         "title": {
          "text": "Age"
         }
        },
        "yaxis": {
         "anchor": "x",
         "domain": [
          0,
          1
         ],
         "title": {
          "text": "Count"
         }
        }
       }
      }
     },
     "metadata": {},
     "output_type": "display_data"
    },
    {
     "data": {
      "application/vnd.plotly.v1+json": {
       "config": {
        "plotlyServerURL": "https://plot.ly"
       },
       "data": [
        {
         "customdata": [
          [
           "Dimitris",
           "Alexiou",
           "Store A",
           "2025-06-21T17:25:56"
          ],
          [
           "Dimitris",
           "Oikonomou",
           "Store A",
           "2025-06-25T08:55:07"
          ],
          [
           "Panagiotis",
           "Ioannidis",
           "Store A",
           "2025-06-08T11:05:46"
          ],
          [
           "Nikos",
           "Nikolaidis",
           "Store A",
           "2025-06-05T18:30:35"
          ],
          [
           "Vasilis",
           "Papadakis",
           "Store A",
           "2025-06-08T11:21:01"
          ],
          [
           "Nikos",
           "Papadopoulos",
           "Store A",
           "2025-06-13T19:21:51"
          ],
          [
           "Panagiotis",
           "Nikolaidis",
           "Store A",
           "2025-06-07T18:28:08"
          ],
          [
           "Nikos",
           "Oikonomou",
           "Store A",
           "2025-06-02T16:05:54"
          ],
          [
           "Dimitris",
           "Nikolaidis",
           "Store A",
           "2025-06-22T13:25:07"
          ],
          [
           "Kostas",
           "Papadakis",
           "Store A",
           "2025-06-01T17:39:36"
          ],
          [
           "Vasilis",
           "Ioannidis",
           "Store A",
           "2025-06-09T09:56:06"
          ],
          [
           "Kostas",
           "Georgiou",
           "Store A",
           "2025-06-24T15:35:45"
          ],
          [
           "Nikos",
           "Oikonomou",
           "Store A",
           "2025-06-03T19:57:09"
          ],
          [
           "Giorgos",
           "Ioannidis",
           "Store A",
           "2025-06-29T15:13:43"
          ],
          [
           "Dimitris",
           "Papanikolaou",
           "Store A",
           "2025-06-29T16:01:11"
          ],
          [
           "Vasilis",
           "Konstantinou",
           "Store A",
           "2025-06-29T14:11:37"
          ],
          [
           "Kostas",
           "Oikonomou",
           "Store A",
           "2025-06-14T16:43:47"
          ],
          [
           "Dimitris",
           "Papadopoulos",
           "Store A",
           "2025-06-16T17:54:49"
          ],
          [
           "Nikos",
           "Papadakis",
           "Store A",
           "2025-06-05T18:44:00"
          ],
          [
           "Panagiotis",
           "Nikolaidis",
           "Store A",
           "2025-06-06T20:44:33"
          ],
          [
           "Nikos",
           "Georgiou",
           "Store A",
           "2025-06-02T12:24:20"
          ],
          [
           "Panagiotis",
           "Papadopoulos",
           "Store A",
           "2025-06-27T08:39:09"
          ],
          [
           "Giannis",
           "Ioannidis",
           "Store A",
           "2025-06-20T17:47:45"
          ],
          [
           "Giorgos",
           "Georgiou",
           "Store A",
           "2025-06-19T08:59:19"
          ],
          [
           "Vasilis",
           "Nikolaidis",
           "Store A",
           "2025-06-12T16:27:42"
          ],
          [
           "Nikos",
           "Georgiou",
           "Store A",
           "2025-06-24T16:41:17"
          ]
         ],
         "hovertemplate": "<b>%{customdata[0]} %{customdata[1]}</b><br>Store: %{customdata[2]}<br>Date: %{customdata[3]|%Y-%m-%dT%H:%M:%S%z}<br>Quantity: %{x}<br>Budget: %{y}",
         "legendgroup": "Store A, M",
         "marker": {
          "color": "rgb(102,194,165)",
          "symbol": "circle"
         },
         "mode": "markers",
         "name": "Store A, M",
         "orientation": "v",
         "showlegend": true,
         "type": "scatter",
         "x": {
          "bdata": "CxAIEgQECBEUCwQJAQwGAQUCDQ4PCAwKEw4=",
          "dtype": "i1"
         },
         "xaxis": "x",
         "y": {
          "bdata": "MzMzMzMTX0CamZmZmRlqQEjhehSux1dAUrgehetxZ0BSuB6F61E4QHsUrkfhekBAUrgehetRVUCamZmZmfljQDMzMzMz82dAmpmZmZkpWUAK16NwPQpFQClcj8L1qFhA9ihcj8L1IkDXo3A9CjdjQJqZmZmZmUVASOF6FK5HJEAAAAAAAOBJQEjhehSuRy5ACtejcD06WkCamZmZmelkQAAAAAAA0GRA7FG4HoXrUEB7FK5H4fpjQM3MzMzMzGFAFK5H4XqkbEAUrkfhejRnQA==",
          "dtype": "f8"
         },
         "yaxis": "y"
        },
        {
         "customdata": [
          [
           "Eleni",
           "Georgiou",
           "Store A",
           "2025-06-18T20:59:33"
          ],
          [
           "Georgia",
           "Papadopoulos",
           "Store A",
           "2025-06-29T10:55:21"
          ],
          [
           "Dimitra",
           "Oikonomou",
           "Store A",
           "2025-06-21T18:53:00"
          ],
          [
           "Georgia",
           "Papadakis",
           "Store A",
           "2025-06-10T11:03:37"
          ],
          [
           "Maria",
           "Nikolaidis",
           "Store A",
           "2025-06-17T12:08:59"
          ],
          [
           "Dimitra",
           "Nikolaidis",
           "Store A",
           "2025-06-28T17:14:12"
          ],
          [
           "Vasiliki",
           "Papadopoulos",
           "Store A",
           "2025-06-30T09:29:08"
          ],
          [
           "Maria",
           "Georgiou",
           "Store A",
           "2025-06-13T19:09:45"
          ],
          [
           "Dimitra",
           "Christodoulou",
           "Store A",
           "2025-06-16T08:47:34"
          ]
         ],
         "hovertemplate": "<b>%{customdata[0]} %{customdata[1]}</b><br>Store: %{customdata[2]}<br>Date: %{customdata[3]|%Y-%m-%dT%H:%M:%S%z}<br>Quantity: %{x}<br>Budget: %{y}",
         "legendgroup": "Store A, F",
         "marker": {
          "color": "rgb(102,194,165)",
          "symbol": "diamond"
         },
         "mode": "markers",
         "name": "Store A, F",
         "orientation": "v",
         "showlegend": true,
         "type": "scatter",
         "x": {
          "bdata": "DAgEBRINEgUJ",
          "dtype": "i1"
         },
         "xaxis": "x",
         "y": {
          "bdata": "ZmZmZmZmWkA9CtejcD1NQGZmZmZm5kdAzczMzMxsSUCkcD0K19NnQM3MzMzMbFZAmpmZmZl5ZEAAAAAAAOBMQClcj8L1yFBA",
          "dtype": "f8"
         },
         "yaxis": "y"
        },
        {
         "customdata": [
          [
           "Giannis",
           "Papadakis",
           "Store B",
           "2025-06-05T11:47:35"
          ],
          [
           "Dimitris",
           "Alexiou",
           "Store B",
           "2025-06-08T17:51:26"
          ],
          [
           "Giorgos",
           "Papanikolaou",
           "Store B",
           "2025-06-16T15:13:55"
          ],
          [
           "Panagiotis",
           "Papadakis",
           "Store B",
           "2025-06-23T19:50:35"
          ],
          [
           "Kostas",
           "Nikolaidis",
           "Store B",
           "2025-06-10T10:28:53"
          ],
          [
           "Giannis",
           "Oikonomou",
           "Store B",
           "2025-06-10T17:13:45"
          ],
          [
           "Panagiotis",
           "Papadakis",
           "Store B",
           "2025-06-27T20:55:14"
          ],
          [
           "Dimitris",
           "Papadopoulos",
           "Store B",
           "2025-06-11T12:55:04"
          ],
          [
           "Panagiotis",
           "Oikonomou",
           "Store B",
           "2025-06-14T11:42:58"
          ],
          [
           "Dimitris",
           "Alexiou",
           "Store B",
           "2025-06-13T16:53:00"
          ],
          [
           "Kostas",
           "Ioannidis",
           "Store B",
           "2025-06-26T17:38:41"
          ],
          [
           "Panagiotis",
           "Georgiou",
           "Store B",
           "2025-06-17T18:40:39"
          ],
          [
           "Dimitris",
           "Papadakis",
           "Store B",
           "2025-06-25T11:53:40"
          ],
          [
           "Giannis",
           "Ioannidis",
           "Store B",
           "2025-06-11T13:57:34"
          ],
          [
           "Panagiotis",
           "Alexiou",
           "Store B",
           "2025-06-01T15:19:48"
          ],
          [
           "Dimitris",
           "Papadakis",
           "Store B",
           "2025-06-14T17:01:24"
          ],
          [
           "Dimitris",
           "Papadakis",
           "Store B",
           "2025-06-25T14:17:48"
          ],
          [
           "Panagiotis",
           "Papadakis",
           "Store B",
           "2025-06-12T18:57:53"
          ]
         ],
         "hovertemplate": "<b>%{customdata[0]} %{customdata[1]}</b><br>Store: %{customdata[2]}<br>Date: %{customdata[3]|%Y-%m-%dT%H:%M:%S%z}<br>Quantity: %{x}<br>Budget: %{y}",
         "legendgroup": "Store B, M",
         "marker": {
          "color": "rgb(252,141,98)",
          "symbol": "circle"
         },
         "mode": "markers",
         "name": "Store B, M",
         "orientation": "v",
         "showlegend": true,
         "type": "scatter",
         "x": {
          "bdata": "BRMGCggFDAcHEwcDDwgNCAsE",
          "dtype": "i1"
         },
         "xaxis": "x",
         "y": {
          "bdata": "ZmZmZmbmO0ApXI/C9QhYQClcj8L1KE1AmpmZmZnZWEDNzMzMzMxIQGZmZmZmRlJAPQrXo3DdYUAUrkfhelRGQFyPwvUo/FNAUrgehesxYUAAAAAAAOBMQFK4HoXr0TFAMzMzMzNjVkAK16NwPQpYQLgehetReFxAexSuR+F6T0AK16NwPVpcQPYoXI/CdUNA",
          "dtype": "f8"
         },
         "yaxis": "y"
        },
        {
         "customdata": [
          [
           "Sofia",
           "Ioannidis",
           "Store B",
           "2025-06-29T16:23:14"
          ],
          [
           "Maria",
           "Alexiou",
           "Store B",
           "2025-06-01T11:59:23"
          ],
          [
           "Dimitra",
           "Papanikolaou",
           "Store B",
           "2025-06-22T15:28:57"
          ],
          [
           "Maria",
           "Oikonomou",
           "Store B",
           "2025-06-22T17:13:34"
          ],
          [
           "Vasiliki",
           "Georgiou",
           "Store B",
           "2025-06-08T11:28:51"
          ],
          [
           "Vasiliki",
           "Papadopoulos",
           "Store B",
           "2025-06-01T16:16:59"
          ],
          [
           "Georgia",
           "Konstantinou",
           "Store B",
           "2025-06-13T10:42:41"
          ],
          [
           "Katerina",
           "Papadakis",
           "Store B",
           "2025-06-22T13:32:30"
          ],
          [
           "Vasiliki",
           "Alexiou",
           "Store B",
           "2025-06-27T16:28:57"
          ],
          [
           "Eleni",
           "Nikolaidis",
           "Store B",
           "2025-06-11T16:29:26"
          ],
          [
           "Maria",
           "Papanikolaou",
           "Store B",
           "2025-06-29T10:54:56"
          ],
          [
           "Katerina",
           "Christodoulou",
           "Store B",
           "2025-06-30T10:39:34"
          ],
          [
           "Sofia",
           "Oikonomou",
           "Store B",
           "2025-06-14T14:20:54"
          ]
         ],
         "hovertemplate": "<b>%{customdata[0]} %{customdata[1]}</b><br>Store: %{customdata[2]}<br>Date: %{customdata[3]|%Y-%m-%dT%H:%M:%S%z}<br>Quantity: %{x}<br>Budget: %{y}",
         "legendgroup": "Store B, F",
         "marker": {
          "color": "rgb(252,141,98)",
          "symbol": "diamond"
         },
         "mode": "markers",
         "name": "Store B, F",
         "orientation": "v",
         "showlegend": true,
         "type": "scatter",
         "x": {
          "bdata": "EwsKCAkGCA8RDg4GEA==",
          "dtype": "i1"
         },
         "xaxis": "x",
         "y": {
          "bdata": "cT0K16OwbECamZmZmdlZQGZmZmZmxmFACtejcD0KWkCPwvUoXD9SQArXo3A96lJA7FG4HoXrW0AzMzMzM0tpQKRwPQrXg25A16NwPQq3ZkCuR+F6FK5mQFyPwvUoHEBAAAAAAACAYUA=",
          "dtype": "f8"
         },
         "yaxis": "y"
        },
        {
         "customdata": [
          [
           "Dimitris",
           "Georgiou",
           "Store C",
           "2025-06-03T14:24:38"
          ],
          [
           "Nikos",
           "Oikonomou",
           "Store C",
           "2025-06-28T10:43:46"
          ],
          [
           "Giorgos",
           "Oikonomou",
           "Store C",
           "2025-06-11T09:18:27"
          ],
          [
           "Dimitris",
           "Oikonomou",
           "Store C",
           "2025-06-10T18:32:38"
          ],
          [
           "Dimitris",
           "Ioannidis",
           "Store C",
           "2025-06-14T13:59:34"
          ],
          [
           "Vasilis",
           "Oikonomou",
           "Store C",
           "2025-06-08T10:04:45"
          ],
          [
           "Dimitris",
           "Nikolaidis",
           "Store C",
           "2025-06-14T15:27:26"
          ],
          [
           "Giannis",
           "Oikonomou",
           "Store C",
           "2025-06-11T08:03:37"
          ],
          [
           "Vasilis",
           "Papanikolaou",
           "Store C",
           "2025-06-02T17:05:26"
          ],
          [
           "Giannis",
           "Alexiou",
           "Store C",
           "2025-06-11T12:13:42"
          ],
          [
           "Kostas",
           "Papanikolaou",
           "Store C",
           "2025-06-16T12:57:58"
          ],
          [
           "Panagiotis",
           "Papadopoulos",
           "Store C",
           "2025-06-14T14:02:00"
          ],
          [
           "Vasilis",
           "Papadopoulos",
           "Store C",
           "2025-06-18T10:27:08"
          ],
          [
           "Dimitris",
           "Nikolaidis",
           "Store C",
           "2025-06-29T16:39:47"
          ],
          [
           "Giannis",
           "Konstantinou",
           "Store C",
           "2025-06-28T13:17:10"
          ],
          [
           "Panagiotis",
           "Ioannidis",
           "Store C",
           "2025-06-17T14:43:53"
          ],
          [
           "Kostas",
           "Papadopoulos",
           "Store C",
           "2025-06-14T15:46:50"
          ],
          [
           "Kostas",
           "Christodoulou",
           "Store C",
           "2025-06-04T14:57:36"
          ],
          [
           "Dimitris",
           "Ioannidis",
           "Store C",
           "2025-06-14T10:33:59"
          ],
          [
           "Kostas",
           "Alexiou",
           "Store C",
           "2025-06-28T11:46:57"
          ],
          [
           "Kostas",
           "Oikonomou",
           "Store C",
           "2025-06-14T15:25:44"
          ],
          [
           "Panagiotis",
           "Papadakis",
           "Store C",
           "2025-06-20T13:48:57"
          ],
          [
           "Nikos",
           "Christodoulou",
           "Store C",
           "2025-06-24T16:51:38"
          ],
          [
           "Giorgos",
           "Konstantinou",
           "Store C",
           "2025-06-03T20:41:02"
          ],
          [
           "Vasilis",
           "Christodoulou",
           "Store C",
           "2025-06-07T11:37:44"
          ],
          [
           "Panagiotis",
           "Papanikolaou",
           "Store C",
           "2025-06-25T12:54:43"
          ]
         ],
         "hovertemplate": "<b>%{customdata[0]} %{customdata[1]}</b><br>Store: %{customdata[2]}<br>Date: %{customdata[3]|%Y-%m-%dT%H:%M:%S%z}<br>Quantity: %{x}<br>Budget: %{y}",
         "legendgroup": "Store C, M",
         "marker": {
          "color": "rgb(141,160,203)",
          "symbol": "circle"
         },
         "mode": "markers",
         "name": "Store C, M",
         "orientation": "v",
         "showlegend": true,
         "type": "scatter",
         "x": {
          "bdata": "DgkJBBEIBAITEwkDDAwODAQUAgsKERIIDQQ=",
          "dtype": "i1"
         },
         "xaxis": "x",
         "y": {
          "bdata": "7FG4HoWLVECamZmZmRlKQIXrUbgeJUpAPQrXo3A9PUBI4XoUrsdmQAAAAAAAAElA16NwPQpXQEAK16NwPYozQClcj8L1QGZAH4XrUbjGZkAzMzMzM1NKQHsUrkfhOjZAexSuR+E6WUBcj8L1KFxLQM3MzMzMjFlAcT0K16PwXUBmZmZmZmY8QDMzMzMz81ZASOF6FK5HKEBxPQrXo5BaQM3MzMzMTEdApHA9CtczWUAUrkfhevRRQNejcD0KV1FAMzMzMzPTU0AUrkfhehQzQA==",
          "dtype": "f8"
         },
         "yaxis": "y"
        },
        {
         "customdata": [
          [
           "Eleni",
           "Papadakis",
           "Store C",
           "2025-06-29T14:32:48"
          ],
          [
           "Sofia",
           "Ioannidis",
           "Store C",
           "2025-06-17T08:42:52"
          ],
          [
           "Katerina",
           "Nikolaidis",
           "Store C",
           "2025-06-10T11:51:12"
          ],
          [
           "Maria",
           "Papadakis",
           "Store C",
           "2025-06-19T11:45:44"
          ],
          [
           "Katerina",
           "Oikonomou",
           "Store C",
           "2025-06-08T14:28:04"
          ],
          [
           "Maria",
           "Christodoulou",
           "Store C",
           "2025-06-22T10:05:41"
          ],
          [
           "Eleni",
           "Georgiou",
           "Store C",
           "2025-06-04T17:13:29"
          ],
          [
           "Katerina",
           "Nikolaidis",
           "Store C",
           "2025-06-11T08:54:26"
          ]
         ],
         "hovertemplate": "<b>%{customdata[0]} %{customdata[1]}</b><br>Store: %{customdata[2]}<br>Date: %{customdata[3]|%Y-%m-%dT%H:%M:%S%z}<br>Quantity: %{x}<br>Budget: %{y}",
         "legendgroup": "Store C, F",
         "marker": {
          "color": "rgb(141,160,203)",
          "symbol": "diamond"
         },
         "mode": "markers",
         "name": "Store C, F",
         "orientation": "v",
         "showlegend": true,
         "type": "scatter",
         "x": {
          "bdata": "ARQIDhATEBE=",
          "dtype": "i1"
         },
         "xaxis": "x",
         "y": {
          "bdata": "rkfhehQuIUAAAAAAAMBdQEjhehSuR0ZAhetRuB5FWUBcj8L1KNxiQJqZmZmZCVdAZmZmZmZmVkApXI/C9VhcQA==",
          "dtype": "f8"
         },
         "yaxis": "y"
        }
       ],
       "layout": {
        "legend": {
         "title": {
          "text": "Store Name"
         },
         "tracegroupgap": 0
        },
        "margin": {
         "b": 40,
         "l": 40,
         "r": 40,
         "t": 60
        },
        "template": {
         "data": {
          "bar": [
           {
            "error_x": {
             "color": "#2a3f5f"
            },
            "error_y": {
             "color": "#2a3f5f"
            },
            "marker": {
             "line": {
              "color": "#E5ECF6",
              "width": 0.5
             },
             "pattern": {
              "fillmode": "overlay",
              "size": 10,
              "solidity": 0.2
             }
            },
            "type": "bar"
           }
          ],
          "barpolar": [
           {
            "marker": {
             "line": {
              "color": "#E5ECF6",
              "width": 0.5
             },
             "pattern": {
              "fillmode": "overlay",
              "size": 10,
              "solidity": 0.2
             }
            },
            "type": "barpolar"
           }
          ],
          "carpet": [
           {
            "aaxis": {
             "endlinecolor": "#2a3f5f",
             "gridcolor": "white",
             "linecolor": "white",
             "minorgridcolor": "white",
             "startlinecolor": "#2a3f5f"
            },
            "baxis": {
             "endlinecolor": "#2a3f5f",
             "gridcolor": "white",
             "linecolor": "white",
             "minorgridcolor": "white",
             "startlinecolor": "#2a3f5f"
            },
            "type": "carpet"
           }
          ],
          "choropleth": [
           {
            "colorbar": {
             "outlinewidth": 0,
             "ticks": ""
            },
            "type": "choropleth"
           }
          ],
          "contour": [
           {
            "colorbar": {
             "outlinewidth": 0,
             "ticks": ""
            },
            "colorscale": [
             [
              0,
              "#0d0887"
             ],
             [
              0.1111111111111111,
              "#46039f"
             ],
             [
              0.2222222222222222,
              "#7201a8"
             ],
             [
              0.3333333333333333,
              "#9c179e"
             ],
             [
              0.4444444444444444,
              "#bd3786"
             ],
             [
              0.5555555555555556,
              "#d8576b"
             ],
             [
              0.6666666666666666,
              "#ed7953"
             ],
             [
              0.7777777777777778,
              "#fb9f3a"
             ],
             [
              0.8888888888888888,
              "#fdca26"
             ],
             [
              1,
              "#f0f921"
             ]
            ],
            "type": "contour"
           }
          ],
          "contourcarpet": [
           {
            "colorbar": {
             "outlinewidth": 0,
             "ticks": ""
            },
            "type": "contourcarpet"
           }
          ],
          "heatmap": [
           {
            "colorbar": {
             "outlinewidth": 0,
             "ticks": ""
            },
            "colorscale": [
             [
              0,
              "#0d0887"
             ],
             [
              0.1111111111111111,
              "#46039f"
             ],
             [
              0.2222222222222222,
              "#7201a8"
             ],
             [
              0.3333333333333333,
              "#9c179e"
             ],
             [
              0.4444444444444444,
              "#bd3786"
             ],
             [
              0.5555555555555556,
              "#d8576b"
             ],
             [
              0.6666666666666666,
              "#ed7953"
             ],
             [
              0.7777777777777778,
              "#fb9f3a"
             ],
             [
              0.8888888888888888,
              "#fdca26"
             ],
             [
              1,
              "#f0f921"
             ]
            ],
            "type": "heatmap"
           }
          ],
          "histogram": [
           {
            "marker": {
             "pattern": {
              "fillmode": "overlay",
              "size": 10,
              "solidity": 0.2
             }
            },
            "type": "histogram"
           }
          ],
          "histogram2d": [
           {
            "colorbar": {
             "outlinewidth": 0,
             "ticks": ""
            },
            "colorscale": [
             [
              0,
              "#0d0887"
             ],
             [
              0.1111111111111111,
              "#46039f"
             ],
             [
              0.2222222222222222,
              "#7201a8"
             ],
             [
              0.3333333333333333,
              "#9c179e"
             ],
             [
              0.4444444444444444,
              "#bd3786"
             ],
             [
              0.5555555555555556,
              "#d8576b"
             ],
             [
              0.6666666666666666,
              "#ed7953"
             ],
             [
              0.7777777777777778,
              "#fb9f3a"
             ],
             [
              0.8888888888888888,
              "#fdca26"
             ],
             [
              1,
              "#f0f921"
             ]
            ],
            "type": "histogram2d"
           }
          ],
          "histogram2dcontour": [
           {
            "colorbar": {
             "outlinewidth": 0,
             "ticks": ""
            },
            "colorscale": [
             [
              0,
              "#0d0887"
             ],
             [
              0.1111111111111111,
              "#46039f"
             ],
             [
              0.2222222222222222,
              "#7201a8"
             ],
             [
              0.3333333333333333,
              "#9c179e"
             ],
             [
              0.4444444444444444,
              "#bd3786"
             ],
             [
              0.5555555555555556,
              "#d8576b"
             ],
             [
              0.6666666666666666,
              "#ed7953"
             ],
             [
              0.7777777777777778,
              "#fb9f3a"
             ],
             [
              0.8888888888888888,
              "#fdca26"
             ],
             [
              1,
              "#f0f921"
             ]
            ],
            "type": "histogram2dcontour"
           }
          ],
          "mesh3d": [
           {
            "colorbar": {
             "outlinewidth": 0,
             "ticks": ""
            },
            "type": "mesh3d"
           }
          ],
          "parcoords": [
           {
            "line": {
             "colorbar": {
              "outlinewidth": 0,
              "ticks": ""
             }
            },
            "type": "parcoords"
           }
          ],
          "pie": [
           {
            "automargin": true,
            "type": "pie"
           }
          ],
          "scatter": [
           {
            "fillpattern": {
             "fillmode": "overlay",
             "size": 10,
             "solidity": 0.2
            },
            "type": "scatter"
           }
          ],
          "scatter3d": [
           {
            "line": {
             "colorbar": {
              "outlinewidth": 0,
              "ticks": ""
             }
            },
            "marker": {
             "colorbar": {
              "outlinewidth": 0,
              "ticks": ""
             }
            },
            "type": "scatter3d"
           }
          ],
          "scattercarpet": [
           {
            "marker": {
             "colorbar": {
              "outlinewidth": 0,
              "ticks": ""
             }
            },
            "type": "scattercarpet"
           }
          ],
          "scattergeo": [
           {
            "marker": {
             "colorbar": {
              "outlinewidth": 0,
              "ticks": ""
             }
            },
            "type": "scattergeo"
           }
          ],
          "scattergl": [
           {
            "marker": {
             "colorbar": {
              "outlinewidth": 0,
              "ticks": ""
             }
            },
            "type": "scattergl"
           }
          ],
          "scattermap": [
           {
            "marker": {
             "colorbar": {
              "outlinewidth": 0,
              "ticks": ""
             }
            },
            "type": "scattermap"
           }
          ],
          "scattermapbox": [
           {
            "marker": {
             "colorbar": {
              "outlinewidth": 0,
              "ticks": ""
             }
            },
            "type": "scattermapbox"
           }
          ],
          "scatterpolar": [
           {
            "marker": {
             "colorbar": {
              "outlinewidth": 0,
              "ticks": ""
             }
            },
            "type": "scatterpolar"
           }
          ],
          "scatterpolargl": [
           {
            "marker": {
             "colorbar": {
              "outlinewidth": 0,
              "ticks": ""
             }
            },
            "type": "scatterpolargl"
           }
          ],
          "scatterternary": [
           {
            "marker": {
             "colorbar": {
              "outlinewidth": 0,
              "ticks": ""
             }
            },
            "type": "scatterternary"
           }
          ],
          "surface": [
           {
            "colorbar": {
             "outlinewidth": 0,
             "ticks": ""
            },
            "colorscale": [
             [
              0,
              "#0d0887"
             ],
             [
              0.1111111111111111,
              "#46039f"
             ],
             [
              0.2222222222222222,
              "#7201a8"
             ],
             [
              0.3333333333333333,
              "#9c179e"
             ],
             [
              0.4444444444444444,
              "#bd3786"
             ],
             [
              0.5555555555555556,
              "#d8576b"
             ],
             [
              0.6666666666666666,
              "#ed7953"
             ],
             [
              0.7777777777777778,
              "#fb9f3a"
             ],
             [
              0.8888888888888888,
              "#fdca26"
             ],
             [
              1,
              "#f0f921"
             ]
            ],
            "type": "surface"
           }
          ],
          "table": [
           {
            "cells": {
             "fill": {
              "color": "#EBF0F8"
             },
             "line": {
              "color": "white"
             }
            },
            "header": {
             "fill": {
              "color": "#C8D4E3"
             },
             "line": {
              "color": "white"
             }
            },
            "type": "table"
           }
          ]
         },
         "layout": {
          "annotationdefaults": {
           "arrowcolor": "#2a3f5f",
           "arrowhead": 0,
           "arrowwidth": 1
          },
          "autotypenumbers": "strict",
          "coloraxis": {
           "colorbar": {
            "outlinewidth": 0,
            "ticks": ""
           }
          },
          "colorscale": {
           "diverging": [
            [
             0,
             "#8e0152"
            ],
            [
             0.1,
             "#c51b7d"
            ],
            [
             0.2,
             "#de77ae"
            ],
            [
             0.3,
             "#f1b6da"
            ],
            [
             0.4,
             "#fde0ef"
            ],
            [
             0.5,
             "#f7f7f7"
            ],
            [
             0.6,
             "#e6f5d0"
            ],
            [
             0.7,
             "#b8e186"
            ],
            [
             0.8,
             "#7fbc41"
            ],
            [
             0.9,
             "#4d9221"
            ],
            [
             1,
             "#276419"
            ]
           ],
           "sequential": [
            [
             0,
             "#0d0887"
            ],
            [
             0.1111111111111111,
             "#46039f"
            ],
            [
             0.2222222222222222,
             "#7201a8"
            ],
            [
             0.3333333333333333,
             "#9c179e"
            ],
            [
             0.4444444444444444,
             "#bd3786"
            ],
            [
             0.5555555555555556,
             "#d8576b"
            ],
            [
             0.6666666666666666,
             "#ed7953"
            ],
            [
             0.7777777777777778,
             "#fb9f3a"
            ],
            [
             0.8888888888888888,
             "#fdca26"
            ],
            [
             1,
             "#f0f921"
            ]
           ],
           "sequentialminus": [
            [
             0,
             "#0d0887"
            ],
            [
             0.1111111111111111,
             "#46039f"
            ],
            [
             0.2222222222222222,
             "#7201a8"
            ],
            [
             0.3333333333333333,
             "#9c179e"
            ],
            [
             0.4444444444444444,
             "#bd3786"
            ],
            [
             0.5555555555555556,
             "#d8576b"
            ],
            [
             0.6666666666666666,
             "#ed7953"
            ],
            [
             0.7777777777777778,
             "#fb9f3a"
            ],
            [
             0.8888888888888888,
             "#fdca26"
            ],
            [
             1,
             "#f0f921"
            ]
           ]
          },
          "colorway": [
           "#636efa",
           "#EF553B",
           "#00cc96",
           "#ab63fa",
           "#FFA15A",
           "#19d3f3",
           "#FF6692",
           "#B6E880",
           "#FF97FF",
           "#FECB52"
          ],
          "font": {
           "color": "#2a3f5f"
          },
          "geo": {
           "bgcolor": "white",
           "lakecolor": "white",
           "landcolor": "#E5ECF6",
           "showlakes": true,
           "showland": true,
           "subunitcolor": "white"
          },
          "hoverlabel": {
           "align": "left"
          },
          "hovermode": "closest",
          "mapbox": {
           "style": "light"
          },
          "paper_bgcolor": "white",
          "plot_bgcolor": "#E5ECF6",
          "polar": {
           "angularaxis": {
            "gridcolor": "white",
            "linecolor": "white",
            "ticks": ""
           },
           "bgcolor": "#E5ECF6",
           "radialaxis": {
            "gridcolor": "white",
            "linecolor": "white",
            "ticks": ""
           }
          },
          "scene": {
           "xaxis": {
            "backgroundcolor": "#E5ECF6",
            "gridcolor": "white",
            "gridwidth": 2,
            "linecolor": "white",
            "showbackground": true,
            "ticks": "",
            "zerolinecolor": "white"
           },
           "yaxis": {
            "backgroundcolor": "#E5ECF6",
            "gridcolor": "white",
            "gridwidth": 2,
            "linecolor": "white",
            "showbackground": true,
            "ticks": "",
            "zerolinecolor": "white"
           },
           "zaxis": {
            "backgroundcolor": "#E5ECF6",
            "gridcolor": "white",
            "gridwidth": 2,
            "linecolor": "white",
            "showbackground": true,
            "ticks": "",
            "zerolinecolor": "white"
           }
          },
          "shapedefaults": {
           "line": {
            "color": "#2a3f5f"
           }
          },
          "ternary": {
           "aaxis": {
            "gridcolor": "white",
            "linecolor": "white",
            "ticks": ""
           },
           "baxis": {
            "gridcolor": "white",
            "linecolor": "white",
            "ticks": ""
           },
           "bgcolor": "#E5ECF6",
           "caxis": {
            "gridcolor": "white",
            "linecolor": "white",
            "ticks": ""
           }
          },
          "title": {
           "x": 0.05
          },
          "xaxis": {
           "automargin": true,
           "gridcolor": "white",
           "linecolor": "white",
           "ticks": "",
           "title": {
            "standoff": 15
           },
           "zerolinecolor": "white",
           "zerolinewidth": 2
          },
          "yaxis": {
           "automargin": true,
           "gridcolor": "white",
           "linecolor": "white",
           "ticks": "",
           "title": {
            "standoff": 15
           },
           "zerolinecolor": "white",
           "zerolinewidth": 2
          }
         }
        },
        "title": {
         "font": {
          "family": "Arial",
          "size": 20
         },
         "text": "Quantity vs. Budget by Store"
        },
        "xaxis": {
         "anchor": "y",
         "domain": [
          0,
          1
         ],
         "title": {
          "text": "Quantity"
         }
        },
        "yaxis": {
         "anchor": "x",
         "domain": [
          0,
          1
         ],
         "title": {
          "text": "Budget (€)"
         }
        }
       }
      }
     },
     "metadata": {},
     "output_type": "display_data"
    },
    {
     "data": {
      "application/vnd.plotly.v1+json": {
       "config": {
        "plotlyServerURL": "https://plot.ly"
       },
       "data": [
        {
         "hovertemplate": "Date: %{x|%A, %d-%m-%Y}<br>Purchases: %{y}",
         "marker": {
          "color": "rgb(56, 166, 165)"
         },
         "name": "Purchases per Day",
         "type": "bar",
         "x": [
          "2025-06-01",
          "2025-06-02",
          "2025-06-03",
          "2025-06-04",
          "2025-06-05",
          "2025-06-06",
          "2025-06-07",
          "2025-06-08",
          "2025-06-09",
          "2025-06-10",
          "2025-06-11",
          "2025-06-12",
          "2025-06-13",
          "2025-06-14",
          "2025-06-16",
          "2025-06-17",
          "2025-06-18",
          "2025-06-19",
          "2025-06-20",
          "2025-06-21",
          "2025-06-22",
          "2025-06-23",
          "2025-06-24",
          "2025-06-25",
          "2025-06-26",
          "2025-06-27",
          "2025-06-28",
          "2025-06-29",
          "2025-06-30"
         ],
         "y": {
          "bdata": "BAMDAgMBAgYBBQcCBAoEBAICAgIFAQMEAQMECAI=",
          "dtype": "i1"
         }
        },
        {
         "hovertemplate": "Date: %{x|%A, %d-%m-%Y}<br>Avg Budget: %{y:.2f} €",
         "marker": {
          "color": "rgb(115, 175, 72)"
         },
         "mode": "lines+markers",
         "name": "Average Budget per Day",
         "type": "scatter",
         "x": [
          "2025-06-01",
          "2025-06-02",
          "2025-06-03",
          "2025-06-04",
          "2025-06-05",
          "2025-06-06",
          "2025-06-07",
          "2025-06-08",
          "2025-06-09",
          "2025-06-10",
          "2025-06-11",
          "2025-06-12",
          "2025-06-13",
          "2025-06-14",
          "2025-06-16",
          "2025-06-17",
          "2025-06-18",
          "2025-06-19",
          "2025-06-20",
          "2025-06-21",
          "2025-06-22",
          "2025-06-23",
          "2025-06-24",
          "2025-06-25",
          "2025-06-26",
          "2025-06-27",
          "2025-06-28",
          "2025-06-29",
          "2025-06-30"
         ],
         "y": {
          "bdata": "PgrXo3CZWEDsUbgehQNlQJf8Yskv1kpAzMzMzMysVkDD9Shcj7JaQJqZmZmZ6WRAwvUoXI+SVEDNzMzMzGRUQArXo3A9CkVAXI/C9Si8SECr5Y0RTKRYQClcj8L1wGBANDMzMzM/VUDwp8ZLN3lQQAAAAAAAKEhAMzMzMzPzW0BwPQrXo9BZQJDC9Shcb15AZmZmZmZKYEAzMzMzM4NVQDq0yHa+T2JAmpmZmZnZWEDMzMzMzKxdQD4K16Nw7VpAAAAAAADgTEDziyW/WPJiQPYoXI/C5VVAFK5H4XoeV0BxPQrXo4BYQA==",
          "dtype": "f8"
         },
         "yaxis": "y2"
        }
       ],
       "layout": {
        "legend": {
         "borderwidth": 1,
         "x": 0.01,
         "y": 0.99
        },
        "margin": {
         "b": 40,
         "l": 40,
         "r": 40,
         "t": 60
        },
        "template": {
         "data": {
          "bar": [
           {
            "error_x": {
             "color": "#2a3f5f"
            },
            "error_y": {
             "color": "#2a3f5f"
            },
            "marker": {
             "line": {
              "color": "#E5ECF6",
              "width": 0.5
             },
             "pattern": {
              "fillmode": "overlay",
              "size": 10,
              "solidity": 0.2
             }
            },
            "type": "bar"
           }
          ],
          "barpolar": [
           {
            "marker": {
             "line": {
              "color": "#E5ECF6",
              "width": 0.5
             },
             "pattern": {
              "fillmode": "overlay",
              "size": 10,
              "solidity": 0.2
             }
            },
            "type": "barpolar"
           }
          ],
          "carpet": [
           {
            "aaxis": {
             "endlinecolor": "#2a3f5f",
             "gridcolor": "white",
             "linecolor": "white",
             "minorgridcolor": "white",
             "startlinecolor": "#2a3f5f"
            },
            "baxis": {
             "endlinecolor": "#2a3f5f",
             "gridcolor": "white",
             "linecolor": "white",
             "minorgridcolor": "white",
             "startlinecolor": "#2a3f5f"
            },
            "type": "carpet"
           }
          ],
          "choropleth": [
           {
            "colorbar": {
             "outlinewidth": 0,
             "ticks": ""
            },
            "type": "choropleth"
           }
          ],
          "contour": [
           {
            "colorbar": {
             "outlinewidth": 0,
             "ticks": ""
            },
            "colorscale": [
             [
              0,
              "#0d0887"
             ],
             [
              0.1111111111111111,
              "#46039f"
             ],
             [
              0.2222222222222222,
              "#7201a8"
             ],
             [
              0.3333333333333333,
              "#9c179e"
             ],
             [
              0.4444444444444444,
              "#bd3786"
             ],
             [
              0.5555555555555556,
              "#d8576b"
             ],
             [
              0.6666666666666666,
              "#ed7953"
             ],
             [
              0.7777777777777778,
              "#fb9f3a"
             ],
             [
              0.8888888888888888,
              "#fdca26"
             ],
             [
              1,
              "#f0f921"
             ]
            ],
            "type": "contour"
           }
          ],
          "contourcarpet": [
           {
            "colorbar": {
             "outlinewidth": 0,
             "ticks": ""
            },
            "type": "contourcarpet"
           }
          ],
          "heatmap": [
           {
            "colorbar": {
             "outlinewidth": 0,
             "ticks": ""
            },
            "colorscale": [
             [
              0,
              "#0d0887"
             ],
             [
              0.1111111111111111,
              "#46039f"
             ],
             [
              0.2222222222222222,
              "#7201a8"
             ],
             [
              0.3333333333333333,
              "#9c179e"
             ],
             [
              0.4444444444444444,
              "#bd3786"
             ],
             [
              0.5555555555555556,
              "#d8576b"
             ],
             [
              0.6666666666666666,
              "#ed7953"
             ],
             [
              0.7777777777777778,
              "#fb9f3a"
             ],
             [
              0.8888888888888888,
              "#fdca26"
             ],
             [
              1,
              "#f0f921"
             ]
            ],
            "type": "heatmap"
           }
          ],
          "histogram": [
           {
            "marker": {
             "pattern": {
              "fillmode": "overlay",
              "size": 10,
              "solidity": 0.2
             }
            },
            "type": "histogram"
           }
          ],
          "histogram2d": [
           {
            "colorbar": {
             "outlinewidth": 0,
             "ticks": ""
            },
            "colorscale": [
             [
              0,
              "#0d0887"
             ],
             [
              0.1111111111111111,
              "#46039f"
             ],
             [
              0.2222222222222222,
              "#7201a8"
             ],
             [
              0.3333333333333333,
              "#9c179e"
             ],
             [
              0.4444444444444444,
              "#bd3786"
             ],
             [
              0.5555555555555556,
              "#d8576b"
             ],
             [
              0.6666666666666666,
              "#ed7953"
             ],
             [
              0.7777777777777778,
              "#fb9f3a"
             ],
             [
              0.8888888888888888,
              "#fdca26"
             ],
             [
              1,
              "#f0f921"
             ]
            ],
            "type": "histogram2d"
           }
          ],
          "histogram2dcontour": [
           {
            "colorbar": {
             "outlinewidth": 0,
             "ticks": ""
            },
            "colorscale": [
             [
              0,
              "#0d0887"
             ],
             [
              0.1111111111111111,
              "#46039f"
             ],
             [
              0.2222222222222222,
              "#7201a8"
             ],
             [
              0.3333333333333333,
              "#9c179e"
             ],
             [
              0.4444444444444444,
              "#bd3786"
             ],
             [
              0.5555555555555556,
              "#d8576b"
             ],
             [
              0.6666666666666666,
              "#ed7953"
             ],
             [
              0.7777777777777778,
              "#fb9f3a"
             ],
             [
              0.8888888888888888,
              "#fdca26"
             ],
             [
              1,
              "#f0f921"
             ]
            ],
            "type": "histogram2dcontour"
           }
          ],
          "mesh3d": [
           {
            "colorbar": {
             "outlinewidth": 0,
             "ticks": ""
            },
            "type": "mesh3d"
           }
          ],
          "parcoords": [
           {
            "line": {
             "colorbar": {
              "outlinewidth": 0,
              "ticks": ""
             }
            },
            "type": "parcoords"
           }
          ],
          "pie": [
           {
            "automargin": true,
            "type": "pie"
           }
          ],
          "scatter": [
           {
            "fillpattern": {
             "fillmode": "overlay",
             "size": 10,
             "solidity": 0.2
            },
            "type": "scatter"
           }
          ],
          "scatter3d": [
           {
            "line": {
             "colorbar": {
              "outlinewidth": 0,
              "ticks": ""
             }
            },
            "marker": {
             "colorbar": {
              "outlinewidth": 0,
              "ticks": ""
             }
            },
            "type": "scatter3d"
           }
          ],
          "scattercarpet": [
           {
            "marker": {
             "colorbar": {
              "outlinewidth": 0,
              "ticks": ""
             }
            },
            "type": "scattercarpet"
           }
          ],
          "scattergeo": [
           {
            "marker": {
             "colorbar": {
              "outlinewidth": 0,
              "ticks": ""
             }
            },
            "type": "scattergeo"
           }
          ],
          "scattergl": [
           {
            "marker": {
             "colorbar": {
              "outlinewidth": 0,
              "ticks": ""
             }
            },
            "type": "scattergl"
           }
          ],
          "scattermap": [
           {
            "marker": {
             "colorbar": {
              "outlinewidth": 0,
              "ticks": ""
             }
            },
            "type": "scattermap"
           }
          ],
          "scattermapbox": [
           {
            "marker": {
             "colorbar": {
              "outlinewidth": 0,
              "ticks": ""
             }
            },
            "type": "scattermapbox"
           }
          ],
          "scatterpolar": [
           {
            "marker": {
             "colorbar": {
              "outlinewidth": 0,
              "ticks": ""
             }
            },
            "type": "scatterpolar"
           }
          ],
          "scatterpolargl": [
           {
            "marker": {
             "colorbar": {
              "outlinewidth": 0,
              "ticks": ""
             }
            },
            "type": "scatterpolargl"
           }
          ],
          "scatterternary": [
           {
            "marker": {
             "colorbar": {
              "outlinewidth": 0,
              "ticks": ""
             }
            },
            "type": "scatterternary"
           }
          ],
          "surface": [
           {
            "colorbar": {
             "outlinewidth": 0,
             "ticks": ""
            },
            "colorscale": [
             [
              0,
              "#0d0887"
             ],
             [
              0.1111111111111111,
              "#46039f"
             ],
             [
              0.2222222222222222,
              "#7201a8"
             ],
             [
              0.3333333333333333,
              "#9c179e"
             ],
             [
              0.4444444444444444,
              "#bd3786"
             ],
             [
              0.5555555555555556,
              "#d8576b"
             ],
             [
              0.6666666666666666,
              "#ed7953"
             ],
             [
              0.7777777777777778,
              "#fb9f3a"
             ],
             [
              0.8888888888888888,
              "#fdca26"
             ],
             [
              1,
              "#f0f921"
             ]
            ],
            "type": "surface"
           }
          ],
          "table": [
           {
            "cells": {
             "fill": {
              "color": "#EBF0F8"
             },
             "line": {
              "color": "white"
             }
            },
            "header": {
             "fill": {
              "color": "#C8D4E3"
             },
             "line": {
              "color": "white"
             }
            },
            "type": "table"
           }
          ]
         },
         "layout": {
          "annotationdefaults": {
           "arrowcolor": "#2a3f5f",
           "arrowhead": 0,
           "arrowwidth": 1
          },
          "autotypenumbers": "strict",
          "coloraxis": {
           "colorbar": {
            "outlinewidth": 0,
            "ticks": ""
           }
          },
          "colorscale": {
           "diverging": [
            [
             0,
             "#8e0152"
            ],
            [
             0.1,
             "#c51b7d"
            ],
            [
             0.2,
             "#de77ae"
            ],
            [
             0.3,
             "#f1b6da"
            ],
            [
             0.4,
             "#fde0ef"
            ],
            [
             0.5,
             "#f7f7f7"
            ],
            [
             0.6,
             "#e6f5d0"
            ],
            [
             0.7,
             "#b8e186"
            ],
            [
             0.8,
             "#7fbc41"
            ],
            [
             0.9,
             "#4d9221"
            ],
            [
             1,
             "#276419"
            ]
           ],
           "sequential": [
            [
             0,
             "#0d0887"
            ],
            [
             0.1111111111111111,
             "#46039f"
            ],
            [
             0.2222222222222222,
             "#7201a8"
            ],
            [
             0.3333333333333333,
             "#9c179e"
            ],
            [
             0.4444444444444444,
             "#bd3786"
            ],
            [
             0.5555555555555556,
             "#d8576b"
            ],
            [
             0.6666666666666666,
             "#ed7953"
            ],
            [
             0.7777777777777778,
             "#fb9f3a"
            ],
            [
             0.8888888888888888,
             "#fdca26"
            ],
            [
             1,
             "#f0f921"
            ]
           ],
           "sequentialminus": [
            [
             0,
             "#0d0887"
            ],
            [
             0.1111111111111111,
             "#46039f"
            ],
            [
             0.2222222222222222,
             "#7201a8"
            ],
            [
             0.3333333333333333,
             "#9c179e"
            ],
            [
             0.4444444444444444,
             "#bd3786"
            ],
            [
             0.5555555555555556,
             "#d8576b"
            ],
            [
             0.6666666666666666,
             "#ed7953"
            ],
            [
             0.7777777777777778,
             "#fb9f3a"
            ],
            [
             0.8888888888888888,
             "#fdca26"
            ],
            [
             1,
             "#f0f921"
            ]
           ]
          },
          "colorway": [
           "#636efa",
           "#EF553B",
           "#00cc96",
           "#ab63fa",
           "#FFA15A",
           "#19d3f3",
           "#FF6692",
           "#B6E880",
           "#FF97FF",
           "#FECB52"
          ],
          "font": {
           "color": "#2a3f5f"
          },
          "geo": {
           "bgcolor": "white",
           "lakecolor": "white",
           "landcolor": "#E5ECF6",
           "showlakes": true,
           "showland": true,
           "subunitcolor": "white"
          },
          "hoverlabel": {
           "align": "left"
          },
          "hovermode": "closest",
          "mapbox": {
           "style": "light"
          },
          "paper_bgcolor": "white",
          "plot_bgcolor": "#E5ECF6",
          "polar": {
           "angularaxis": {
            "gridcolor": "white",
            "linecolor": "white",
            "ticks": ""
           },
           "bgcolor": "#E5ECF6",
           "radialaxis": {
            "gridcolor": "white",
            "linecolor": "white",
            "ticks": ""
           }
          },
          "scene": {
           "xaxis": {
            "backgroundcolor": "#E5ECF6",
            "gridcolor": "white",
            "gridwidth": 2,
            "linecolor": "white",
            "showbackground": true,
            "ticks": "",
            "zerolinecolor": "white"
           },
           "yaxis": {
            "backgroundcolor": "#E5ECF6",
            "gridcolor": "white",
            "gridwidth": 2,
            "linecolor": "white",
            "showbackground": true,
            "ticks": "",
            "zerolinecolor": "white"
           },
           "zaxis": {
            "backgroundcolor": "#E5ECF6",
            "gridcolor": "white",
            "gridwidth": 2,
            "linecolor": "white",
            "showbackground": true,
            "ticks": "",
            "zerolinecolor": "white"
           }
          },
          "shapedefaults": {
           "line": {
            "color": "#2a3f5f"
           }
          },
          "ternary": {
           "aaxis": {
            "gridcolor": "white",
            "linecolor": "white",
            "ticks": ""
           },
           "baxis": {
            "gridcolor": "white",
            "linecolor": "white",
            "ticks": ""
           },
           "bgcolor": "#E5ECF6",
           "caxis": {
            "gridcolor": "white",
            "linecolor": "white",
            "ticks": ""
           }
          },
          "title": {
           "x": 0.05
          },
          "xaxis": {
           "automargin": true,
           "gridcolor": "white",
           "linecolor": "white",
           "ticks": "",
           "title": {
            "standoff": 15
           },
           "zerolinecolor": "white",
           "zerolinewidth": 2
          },
          "yaxis": {
           "automargin": true,
           "gridcolor": "white",
           "linecolor": "white",
           "ticks": "",
           "title": {
            "standoff": 15
           },
           "zerolinecolor": "white",
           "zerolinewidth": 2
          }
         }
        },
        "title": {
         "font": {
          "family": "Arial",
          "size": 20
         },
         "text": "Purchases and Average Budget per Day"
        },
        "xaxis": {
         "tickformat": "%a\n%d-%m-%Y",
         "title": {
          "text": "Date"
         }
        },
        "yaxis": {
         "title": {
          "text": "Purchases"
         }
        },
        "yaxis2": {
         "overlaying": "y",
         "side": "right",
         "title": {
          "text": "Avg Budget (€)"
         }
        }
       }
      }
     },
     "metadata": {},
     "output_type": "display_data"
    },
    {
     "data": {
      "application/vnd.plotly.v1+json": {
       "config": {
        "plotlyServerURL": "https://plot.ly"
       },
       "data": [
        {
         "customdata": [
          [
           "Kostas",
           "Papadakis",
           "2025-06-01T17:39:36"
          ]
         ],
         "hovertemplate": "<b>%{customdata[0]} %{customdata[1]}</b><br>Date: %{customdata[2]|%d-%m-%Y %H:%M}<br>Store: %{x}<br>Count: %{y}",
         "legendgroup": "Store A",
         "marker": {
          "color": "#2E91E5",
          "pattern": {
           "shape": ""
          }
         },
         "name": "Store A",
         "orientation": "v",
         "showlegend": true,
         "textposition": "auto",
         "type": "bar",
         "x": [
          "Store A"
         ],
         "xaxis": "x6",
         "y": {
          "bdata": "AQ==",
          "dtype": "i1"
         },
         "yaxis": "y6"
        },
        {
         "customdata": [
          [
           "Panagiotis",
           "Alexiou",
           "2025-06-01T15:19:48"
          ]
         ],
         "hovertemplate": "<b>%{customdata[0]} %{customdata[1]}</b><br>Date: %{customdata[2]|%d-%m-%Y %H:%M}<br>Store: %{x}<br>Count: %{y}",
         "legendgroup": "Store B",
         "marker": {
          "color": "#E15F99",
          "pattern": {
           "shape": ""
          }
         },
         "name": "Store B",
         "orientation": "v",
         "showlegend": true,
         "textposition": "auto",
         "type": "bar",
         "x": [
          "Store B"
         ],
         "xaxis": "x6",
         "y": {
          "bdata": "AQ==",
          "dtype": "i1"
         },
         "yaxis": "y6"
        },
        {
         "customdata": [
          [
           "Maria",
           "Alexiou",
           "2025-06-01T11:59:23"
          ],
          [
           "Vasiliki",
           "Papadopoulos",
           "2025-06-01T16:16:59"
          ]
         ],
         "hovertemplate": "<b>%{customdata[0]} %{customdata[1]}</b><br>Date: %{customdata[2]|%d-%m-%Y %H:%M}<br>Store: %{x}<br>Count: %{y}",
         "legendgroup": "Store B",
         "marker": {
          "color": "#E15F99",
          "pattern": {
           "shape": ""
          }
         },
         "name": "Store B",
         "orientation": "v",
         "showlegend": false,
         "textposition": "auto",
         "type": "bar",
         "x": [
          "Store B",
          "Store B"
         ],
         "xaxis": "x",
         "y": {
          "bdata": "AQE=",
          "dtype": "i1"
         },
         "yaxis": "y"
        },
        {
         "customdata": [
          [
           "Panagiotis",
           "Ioannidis",
           "2025-06-08T11:05:46"
          ],
          [
           "Nikos",
           "Nikolaidis",
           "2025-06-05T18:30:35"
          ],
          [
           "Vasilis",
           "Papadakis",
           "2025-06-08T11:21:01"
          ],
          [
           "Panagiotis",
           "Nikolaidis",
           "2025-06-07T18:28:08"
          ],
          [
           "Nikos",
           "Oikonomou",
           "2025-06-02T16:05:54"
          ],
          [
           "Nikos",
           "Oikonomou",
           "2025-06-03T19:57:09"
          ],
          [
           "Nikos",
           "Papadakis",
           "2025-06-05T18:44:00"
          ],
          [
           "Panagiotis",
           "Nikolaidis",
           "2025-06-06T20:44:33"
          ],
          [
           "Nikos",
           "Georgiou",
           "2025-06-02T12:24:20"
          ]
         ],
         "hovertemplate": "<b>%{customdata[0]} %{customdata[1]}</b><br>Date: %{customdata[2]|%d-%m-%Y %H:%M}<br>Store: %{x}<br>Count: %{y}",
         "legendgroup": "Store A",
         "marker": {
          "color": "#2E91E5",
          "pattern": {
           "shape": ""
          }
         },
         "name": "Store A",
         "orientation": "v",
         "showlegend": false,
         "textposition": "auto",
         "type": "bar",
         "x": [
          "Store A",
          "Store A",
          "Store A",
          "Store A",
          "Store A",
          "Store A",
          "Store A",
          "Store A",
          "Store A"
         ],
         "xaxis": "x7",
         "y": {
          "bdata": "AQEBAQEBAQEB",
          "dtype": "i1"
         },
         "yaxis": "y7"
        },
        {
         "customdata": [
          [
           "Giannis",
           "Papadakis",
           "2025-06-05T11:47:35"
          ],
          [
           "Dimitris",
           "Alexiou",
           "2025-06-08T17:51:26"
          ]
         ],
         "hovertemplate": "<b>%{customdata[0]} %{customdata[1]}</b><br>Date: %{customdata[2]|%d-%m-%Y %H:%M}<br>Store: %{x}<br>Count: %{y}",
         "legendgroup": "Store B",
         "marker": {
          "color": "#E15F99",
          "pattern": {
           "shape": ""
          }
         },
         "name": "Store B",
         "orientation": "v",
         "showlegend": false,
         "textposition": "auto",
         "type": "bar",
         "x": [
          "Store B",
          "Store B"
         ],
         "xaxis": "x7",
         "y": {
          "bdata": "AQE=",
          "dtype": "i1"
         },
         "yaxis": "y7"
        },
        {
         "customdata": [
          [
           "Dimitris",
           "Georgiou",
           "2025-06-03T14:24:38"
          ],
          [
           "Vasilis",
           "Oikonomou",
           "2025-06-08T10:04:45"
          ],
          [
           "Vasilis",
           "Papanikolaou",
           "2025-06-02T17:05:26"
          ],
          [
           "Kostas",
           "Christodoulou",
           "2025-06-04T14:57:36"
          ],
          [
           "Giorgos",
           "Konstantinou",
           "2025-06-03T20:41:02"
          ],
          [
           "Vasilis",
           "Christodoulou",
           "2025-06-07T11:37:44"
          ]
         ],
         "hovertemplate": "<b>%{customdata[0]} %{customdata[1]}</b><br>Date: %{customdata[2]|%d-%m-%Y %H:%M}<br>Store: %{x}<br>Count: %{y}",
         "legendgroup": "Store C",
         "marker": {
          "color": "#1CA71C",
          "pattern": {
           "shape": ""
          }
         },
         "name": "Store C",
         "orientation": "v",
         "showlegend": true,
         "textposition": "auto",
         "type": "bar",
         "x": [
          "Store C",
          "Store C",
          "Store C",
          "Store C",
          "Store C",
          "Store C"
         ],
         "xaxis": "x7",
         "y": {
          "bdata": "AQEBAQEB",
          "dtype": "i1"
         },
         "yaxis": "y7"
        },
        {
         "customdata": [
          [
           "Vasiliki",
           "Georgiou",
           "2025-06-08T11:28:51"
          ]
         ],
         "hovertemplate": "<b>%{customdata[0]} %{customdata[1]}</b><br>Date: %{customdata[2]|%d-%m-%Y %H:%M}<br>Store: %{x}<br>Count: %{y}",
         "legendgroup": "Store B",
         "marker": {
          "color": "#E15F99",
          "pattern": {
           "shape": ""
          }
         },
         "name": "Store B",
         "orientation": "v",
         "showlegend": false,
         "textposition": "auto",
         "type": "bar",
         "x": [
          "Store B"
         ],
         "xaxis": "x2",
         "y": {
          "bdata": "AQ==",
          "dtype": "i1"
         },
         "yaxis": "y2"
        },
        {
         "customdata": [
          [
           "Katerina",
           "Oikonomou",
           "2025-06-08T14:28:04"
          ],
          [
           "Eleni",
           "Georgiou",
           "2025-06-04T17:13:29"
          ]
         ],
         "hovertemplate": "<b>%{customdata[0]} %{customdata[1]}</b><br>Date: %{customdata[2]|%d-%m-%Y %H:%M}<br>Store: %{x}<br>Count: %{y}",
         "legendgroup": "Store C",
         "marker": {
          "color": "#1CA71C",
          "pattern": {
           "shape": ""
          }
         },
         "name": "Store C",
         "orientation": "v",
         "showlegend": false,
         "textposition": "auto",
         "type": "bar",
         "x": [
          "Store C",
          "Store C"
         ],
         "xaxis": "x2",
         "y": {
          "bdata": "AQE=",
          "dtype": "i1"
         },
         "yaxis": "y2"
        },
        {
         "customdata": [
          [
           "Nikos",
           "Papadopoulos",
           "2025-06-13T19:21:51"
          ],
          [
           "Vasilis",
           "Ioannidis",
           "2025-06-09T09:56:06"
          ],
          [
           "Kostas",
           "Oikonomou",
           "2025-06-14T16:43:47"
          ],
          [
           "Vasilis",
           "Nikolaidis",
           "2025-06-12T16:27:42"
          ]
         ],
         "hovertemplate": "<b>%{customdata[0]} %{customdata[1]}</b><br>Date: %{customdata[2]|%d-%m-%Y %H:%M}<br>Store: %{x}<br>Count: %{y}",
         "legendgroup": "Store A",
         "marker": {
          "color": "#2E91E5",
          "pattern": {
           "shape": ""
          }
         },
         "name": "Store A",
         "orientation": "v",
         "showlegend": false,
         "textposition": "auto",
         "type": "bar",
         "x": [
          "Store A",
          "Store A",
          "Store A",
          "Store A"
         ],
         "xaxis": "x8",
         "y": {
          "bdata": "AQEBAQ==",
          "dtype": "i1"
         },
         "yaxis": "y8"
        },
        {
         "customdata": [
          [
           "Kostas",
           "Nikolaidis",
           "2025-06-10T10:28:53"
          ],
          [
           "Giannis",
           "Oikonomou",
           "2025-06-10T17:13:45"
          ],
          [
           "Dimitris",
           "Papadopoulos",
           "2025-06-11T12:55:04"
          ],
          [
           "Panagiotis",
           "Oikonomou",
           "2025-06-14T11:42:58"
          ],
          [
           "Dimitris",
           "Alexiou",
           "2025-06-13T16:53:00"
          ],
          [
           "Giannis",
           "Ioannidis",
           "2025-06-11T13:57:34"
          ],
          [
           "Dimitris",
           "Papadakis",
           "2025-06-14T17:01:24"
          ],
          [
           "Panagiotis",
           "Papadakis",
           "2025-06-12T18:57:53"
          ]
         ],
         "hovertemplate": "<b>%{customdata[0]} %{customdata[1]}</b><br>Date: %{customdata[2]|%d-%m-%Y %H:%M}<br>Store: %{x}<br>Count: %{y}",
         "legendgroup": "Store B",
         "marker": {
          "color": "#E15F99",
          "pattern": {
           "shape": ""
          }
         },
         "name": "Store B",
         "orientation": "v",
         "showlegend": false,
         "textposition": "auto",
         "type": "bar",
         "x": [
          "Store B",
          "Store B",
          "Store B",
          "Store B",
          "Store B",
          "Store B",
          "Store B",
          "Store B"
         ],
         "xaxis": "x8",
         "y": {
          "bdata": "AQEBAQEBAQE=",
          "dtype": "i1"
         },
         "yaxis": "y8"
        },
        {
         "customdata": [
          [
           "Giorgos",
           "Oikonomou",
           "2025-06-11T09:18:27"
          ],
          [
           "Dimitris",
           "Oikonomou",
           "2025-06-10T18:32:38"
          ],
          [
           "Dimitris",
           "Ioannidis",
           "2025-06-14T13:59:34"
          ],
          [
           "Dimitris",
           "Nikolaidis",
           "2025-06-14T15:27:26"
          ],
          [
           "Giannis",
           "Oikonomou",
           "2025-06-11T08:03:37"
          ],
          [
           "Giannis",
           "Alexiou",
           "2025-06-11T12:13:42"
          ],
          [
           "Panagiotis",
           "Papadopoulos",
           "2025-06-14T14:02:00"
          ],
          [
           "Kostas",
           "Papadopoulos",
           "2025-06-14T15:46:50"
          ],
          [
           "Dimitris",
           "Ioannidis",
           "2025-06-14T10:33:59"
          ],
          [
           "Kostas",
           "Oikonomou",
           "2025-06-14T15:25:44"
          ]
         ],
         "hovertemplate": "<b>%{customdata[0]} %{customdata[1]}</b><br>Date: %{customdata[2]|%d-%m-%Y %H:%M}<br>Store: %{x}<br>Count: %{y}",
         "legendgroup": "Store C",
         "marker": {
          "color": "#1CA71C",
          "pattern": {
           "shape": ""
          }
         },
         "name": "Store C",
         "orientation": "v",
         "showlegend": false,
         "textposition": "auto",
         "type": "bar",
         "x": [
          "Store C",
          "Store C",
          "Store C",
          "Store C",
          "Store C",
          "Store C",
          "Store C",
          "Store C",
          "Store C",
          "Store C"
         ],
         "xaxis": "x8",
         "y": {
          "bdata": "AQEBAQEBAQEBAQ==",
          "dtype": "i1"
         },
         "yaxis": "y8"
        },
        {
         "customdata": [
          [
           "Georgia",
           "Papadakis",
           "2025-06-10T11:03:37"
          ],
          [
           "Maria",
           "Georgiou",
           "2025-06-13T19:09:45"
          ]
         ],
         "hovertemplate": "<b>%{customdata[0]} %{customdata[1]}</b><br>Date: %{customdata[2]|%d-%m-%Y %H:%M}<br>Store: %{x}<br>Count: %{y}",
         "legendgroup": "Store A",
         "marker": {
          "color": "#2E91E5",
          "pattern": {
           "shape": ""
          }
         },
         "name": "Store A",
         "orientation": "v",
         "showlegend": false,
         "textposition": "auto",
         "type": "bar",
         "x": [
          "Store A",
          "Store A"
         ],
         "xaxis": "x3",
         "y": {
          "bdata": "AQE=",
          "dtype": "i1"
         },
         "yaxis": "y3"
        },
        {
         "customdata": [
          [
           "Georgia",
           "Konstantinou",
           "2025-06-13T10:42:41"
          ],
          [
           "Eleni",
           "Nikolaidis",
           "2025-06-11T16:29:26"
          ],
          [
           "Sofia",
           "Oikonomou",
           "2025-06-14T14:20:54"
          ]
         ],
         "hovertemplate": "<b>%{customdata[0]} %{customdata[1]}</b><br>Date: %{customdata[2]|%d-%m-%Y %H:%M}<br>Store: %{x}<br>Count: %{y}",
         "legendgroup": "Store B",
         "marker": {
          "color": "#E15F99",
          "pattern": {
           "shape": ""
          }
         },
         "name": "Store B",
         "orientation": "v",
         "showlegend": false,
         "textposition": "auto",
         "type": "bar",
         "x": [
          "Store B",
          "Store B",
          "Store B"
         ],
         "xaxis": "x3",
         "y": {
          "bdata": "AQEB",
          "dtype": "i1"
         },
         "yaxis": "y3"
        },
        {
         "customdata": [
          [
           "Katerina",
           "Nikolaidis",
           "2025-06-10T11:51:12"
          ],
          [
           "Katerina",
           "Nikolaidis",
           "2025-06-11T08:54:26"
          ]
         ],
         "hovertemplate": "<b>%{customdata[0]} %{customdata[1]}</b><br>Date: %{customdata[2]|%d-%m-%Y %H:%M}<br>Store: %{x}<br>Count: %{y}",
         "legendgroup": "Store C",
         "marker": {
          "color": "#1CA71C",
          "pattern": {
           "shape": ""
          }
         },
         "name": "Store C",
         "orientation": "v",
         "showlegend": false,
         "textposition": "auto",
         "type": "bar",
         "x": [
          "Store C",
          "Store C"
         ],
         "xaxis": "x3",
         "y": {
          "bdata": "AQE=",
          "dtype": "i1"
         },
         "yaxis": "y3"
        },
        {
         "customdata": [
          [
           "Dimitris",
           "Alexiou",
           "2025-06-21T17:25:56"
          ],
          [
           "Dimitris",
           "Nikolaidis",
           "2025-06-22T13:25:07"
          ],
          [
           "Dimitris",
           "Papadopoulos",
           "2025-06-16T17:54:49"
          ],
          [
           "Giannis",
           "Ioannidis",
           "2025-06-20T17:47:45"
          ],
          [
           "Giorgos",
           "Georgiou",
           "2025-06-19T08:59:19"
          ]
         ],
         "hovertemplate": "<b>%{customdata[0]} %{customdata[1]}</b><br>Date: %{customdata[2]|%d-%m-%Y %H:%M}<br>Store: %{x}<br>Count: %{y}",
         "legendgroup": "Store A",
         "marker": {
          "color": "#2E91E5",
          "pattern": {
           "shape": ""
          }
         },
         "name": "Store A",
         "orientation": "v",
         "showlegend": false,
         "textposition": "auto",
         "type": "bar",
         "x": [
          "Store A",
          "Store A",
          "Store A",
          "Store A",
          "Store A"
         ],
         "xaxis": "x9",
         "y": {
          "bdata": "AQEBAQE=",
          "dtype": "i1"
         },
         "yaxis": "y9"
        },
        {
         "customdata": [
          [
           "Giorgos",
           "Papanikolaou",
           "2025-06-16T15:13:55"
          ],
          [
           "Panagiotis",
           "Georgiou",
           "2025-06-17T18:40:39"
          ]
         ],
         "hovertemplate": "<b>%{customdata[0]} %{customdata[1]}</b><br>Date: %{customdata[2]|%d-%m-%Y %H:%M}<br>Store: %{x}<br>Count: %{y}",
         "legendgroup": "Store B",
         "marker": {
          "color": "#E15F99",
          "pattern": {
           "shape": ""
          }
         },
         "name": "Store B",
         "orientation": "v",
         "showlegend": false,
         "textposition": "auto",
         "type": "bar",
         "x": [
          "Store B",
          "Store B"
         ],
         "xaxis": "x9",
         "y": {
          "bdata": "AQE=",
          "dtype": "i1"
         },
         "yaxis": "y9"
        },
        {
         "customdata": [
          [
           "Kostas",
           "Papanikolaou",
           "2025-06-16T12:57:58"
          ],
          [
           "Vasilis",
           "Papadopoulos",
           "2025-06-18T10:27:08"
          ],
          [
           "Panagiotis",
           "Ioannidis",
           "2025-06-17T14:43:53"
          ],
          [
           "Panagiotis",
           "Papadakis",
           "2025-06-20T13:48:57"
          ]
         ],
         "hovertemplate": "<b>%{customdata[0]} %{customdata[1]}</b><br>Date: %{customdata[2]|%d-%m-%Y %H:%M}<br>Store: %{x}<br>Count: %{y}",
         "legendgroup": "Store C",
         "marker": {
          "color": "#1CA71C",
          "pattern": {
           "shape": ""
          }
         },
         "name": "Store C",
         "orientation": "v",
         "showlegend": false,
         "textposition": "auto",
         "type": "bar",
         "x": [
          "Store C",
          "Store C",
          "Store C",
          "Store C"
         ],
         "xaxis": "x9",
         "y": {
          "bdata": "AQEBAQ==",
          "dtype": "i1"
         },
         "yaxis": "y9"
        },
        {
         "customdata": [
          [
           "Eleni",
           "Georgiou",
           "2025-06-18T20:59:33"
          ],
          [
           "Dimitra",
           "Oikonomou",
           "2025-06-21T18:53:00"
          ],
          [
           "Maria",
           "Nikolaidis",
           "2025-06-17T12:08:59"
          ],
          [
           "Dimitra",
           "Christodoulou",
           "2025-06-16T08:47:34"
          ]
         ],
         "hovertemplate": "<b>%{customdata[0]} %{customdata[1]}</b><br>Date: %{customdata[2]|%d-%m-%Y %H:%M}<br>Store: %{x}<br>Count: %{y}",
         "legendgroup": "Store A",
         "marker": {
          "color": "#2E91E5",
          "pattern": {
           "shape": ""
          }
         },
         "name": "Store A",
         "orientation": "v",
         "showlegend": false,
         "textposition": "auto",
         "type": "bar",
         "x": [
          "Store A",
          "Store A",
          "Store A",
          "Store A"
         ],
         "xaxis": "x4",
         "y": {
          "bdata": "AQEBAQ==",
          "dtype": "i1"
         },
         "yaxis": "y4"
        },
        {
         "customdata": [
          [
           "Dimitra",
           "Papanikolaou",
           "2025-06-22T15:28:57"
          ],
          [
           "Maria",
           "Oikonomou",
           "2025-06-22T17:13:34"
          ],
          [
           "Katerina",
           "Papadakis",
           "2025-06-22T13:32:30"
          ]
         ],
         "hovertemplate": "<b>%{customdata[0]} %{customdata[1]}</b><br>Date: %{customdata[2]|%d-%m-%Y %H:%M}<br>Store: %{x}<br>Count: %{y}",
         "legendgroup": "Store B",
         "marker": {
          "color": "#E15F99",
          "pattern": {
           "shape": ""
          }
         },
         "name": "Store B",
         "orientation": "v",
         "showlegend": false,
         "textposition": "auto",
         "type": "bar",
         "x": [
          "Store B",
          "Store B",
          "Store B"
         ],
         "xaxis": "x4",
         "y": {
          "bdata": "AQEB",
          "dtype": "i1"
         },
         "yaxis": "y4"
        },
        {
         "customdata": [
          [
           "Sofia",
           "Ioannidis",
           "2025-06-17T08:42:52"
          ],
          [
           "Maria",
           "Papadakis",
           "2025-06-19T11:45:44"
          ],
          [
           "Maria",
           "Christodoulou",
           "2025-06-22T10:05:41"
          ]
         ],
         "hovertemplate": "<b>%{customdata[0]} %{customdata[1]}</b><br>Date: %{customdata[2]|%d-%m-%Y %H:%M}<br>Store: %{x}<br>Count: %{y}",
         "legendgroup": "Store C",
         "marker": {
          "color": "#1CA71C",
          "pattern": {
           "shape": ""
          }
         },
         "name": "Store C",
         "orientation": "v",
         "showlegend": false,
         "textposition": "auto",
         "type": "bar",
         "x": [
          "Store C",
          "Store C",
          "Store C"
         ],
         "xaxis": "x4",
         "y": {
          "bdata": "AQEB",
          "dtype": "i1"
         },
         "yaxis": "y4"
        },
        {
         "customdata": [
          [
           "Dimitris",
           "Oikonomou",
           "2025-06-25T08:55:07"
          ],
          [
           "Kostas",
           "Georgiou",
           "2025-06-24T15:35:45"
          ],
          [
           "Giorgos",
           "Ioannidis",
           "2025-06-29T15:13:43"
          ],
          [
           "Dimitris",
           "Papanikolaou",
           "2025-06-29T16:01:11"
          ],
          [
           "Vasilis",
           "Konstantinou",
           "2025-06-29T14:11:37"
          ],
          [
           "Panagiotis",
           "Papadopoulos",
           "2025-06-27T08:39:09"
          ],
          [
           "Nikos",
           "Georgiou",
           "2025-06-24T16:41:17"
          ]
         ],
         "hovertemplate": "<b>%{customdata[0]} %{customdata[1]}</b><br>Date: %{customdata[2]|%d-%m-%Y %H:%M}<br>Store: %{x}<br>Count: %{y}",
         "legendgroup": "Store A",
         "marker": {
          "color": "#2E91E5",
          "pattern": {
           "shape": ""
          }
         },
         "name": "Store A",
         "orientation": "v",
         "showlegend": false,
         "textposition": "auto",
         "type": "bar",
         "x": [
          "Store A",
          "Store A",
          "Store A",
          "Store A",
          "Store A",
          "Store A",
          "Store A"
         ],
         "xaxis": "x10",
         "y": {
          "bdata": "AQEBAQEBAQ==",
          "dtype": "i1"
         },
         "yaxis": "y10"
        },
        {
         "customdata": [
          [
           "Panagiotis",
           "Papadakis",
           "2025-06-23T19:50:35"
          ],
          [
           "Panagiotis",
           "Papadakis",
           "2025-06-27T20:55:14"
          ],
          [
           "Kostas",
           "Ioannidis",
           "2025-06-26T17:38:41"
          ],
          [
           "Dimitris",
           "Papadakis",
           "2025-06-25T11:53:40"
          ],
          [
           "Dimitris",
           "Papadakis",
           "2025-06-25T14:17:48"
          ]
         ],
         "hovertemplate": "<b>%{customdata[0]} %{customdata[1]}</b><br>Date: %{customdata[2]|%d-%m-%Y %H:%M}<br>Store: %{x}<br>Count: %{y}",
         "legendgroup": "Store B",
         "marker": {
          "color": "#E15F99",
          "pattern": {
           "shape": ""
          }
         },
         "name": "Store B",
         "orientation": "v",
         "showlegend": false,
         "textposition": "auto",
         "type": "bar",
         "x": [
          "Store B",
          "Store B",
          "Store B",
          "Store B",
          "Store B"
         ],
         "xaxis": "x10",
         "y": {
          "bdata": "AQEBAQE=",
          "dtype": "i1"
         },
         "yaxis": "y10"
        },
        {
         "customdata": [
          [
           "Nikos",
           "Oikonomou",
           "2025-06-28T10:43:46"
          ],
          [
           "Dimitris",
           "Nikolaidis",
           "2025-06-29T16:39:47"
          ],
          [
           "Giannis",
           "Konstantinou",
           "2025-06-28T13:17:10"
          ],
          [
           "Kostas",
           "Alexiou",
           "2025-06-28T11:46:57"
          ],
          [
           "Nikos",
           "Christodoulou",
           "2025-06-24T16:51:38"
          ],
          [
           "Panagiotis",
           "Papanikolaou",
           "2025-06-25T12:54:43"
          ]
         ],
         "hovertemplate": "<b>%{customdata[0]} %{customdata[1]}</b><br>Date: %{customdata[2]|%d-%m-%Y %H:%M}<br>Store: %{x}<br>Count: %{y}",
         "legendgroup": "Store C",
         "marker": {
          "color": "#1CA71C",
          "pattern": {
           "shape": ""
          }
         },
         "name": "Store C",
         "orientation": "v",
         "showlegend": false,
         "textposition": "auto",
         "type": "bar",
         "x": [
          "Store C",
          "Store C",
          "Store C",
          "Store C",
          "Store C",
          "Store C"
         ],
         "xaxis": "x10",
         "y": {
          "bdata": "AQEBAQEB",
          "dtype": "i1"
         },
         "yaxis": "y10"
        },
        {
         "customdata": [
          [
           "Georgia",
           "Papadopoulos",
           "2025-06-29T10:55:21"
          ],
          [
           "Dimitra",
           "Nikolaidis",
           "2025-06-28T17:14:12"
          ],
          [
           "Vasiliki",
           "Papadopoulos",
           "2025-06-30T09:29:08"
          ]
         ],
         "hovertemplate": "<b>%{customdata[0]} %{customdata[1]}</b><br>Date: %{customdata[2]|%d-%m-%Y %H:%M}<br>Store: %{x}<br>Count: %{y}",
         "legendgroup": "Store A",
         "marker": {
          "color": "#2E91E5",
          "pattern": {
           "shape": ""
          }
         },
         "name": "Store A",
         "orientation": "v",
         "showlegend": false,
         "textposition": "auto",
         "type": "bar",
         "x": [
          "Store A",
          "Store A",
          "Store A"
         ],
         "xaxis": "x5",
         "y": {
          "bdata": "AQEB",
          "dtype": "i1"
         },
         "yaxis": "y5"
        },
        {
         "customdata": [
          [
           "Sofia",
           "Ioannidis",
           "2025-06-29T16:23:14"
          ],
          [
           "Vasiliki",
           "Alexiou",
           "2025-06-27T16:28:57"
          ],
          [
           "Maria",
           "Papanikolaou",
           "2025-06-29T10:54:56"
          ],
          [
           "Katerina",
           "Christodoulou",
           "2025-06-30T10:39:34"
          ]
         ],
         "hovertemplate": "<b>%{customdata[0]} %{customdata[1]}</b><br>Date: %{customdata[2]|%d-%m-%Y %H:%M}<br>Store: %{x}<br>Count: %{y}",
         "legendgroup": "Store B",
         "marker": {
          "color": "#E15F99",
          "pattern": {
           "shape": ""
          }
         },
         "name": "Store B",
         "orientation": "v",
         "showlegend": false,
         "textposition": "auto",
         "type": "bar",
         "x": [
          "Store B",
          "Store B",
          "Store B",
          "Store B"
         ],
         "xaxis": "x5",
         "y": {
          "bdata": "AQEBAQ==",
          "dtype": "i1"
         },
         "yaxis": "y5"
        },
        {
         "customdata": [
          [
           "Eleni",
           "Papadakis",
           "2025-06-29T14:32:48"
          ]
         ],
         "hovertemplate": "<b>%{customdata[0]} %{customdata[1]}</b><br>Date: %{customdata[2]|%d-%m-%Y %H:%M}<br>Store: %{x}<br>Count: %{y}",
         "legendgroup": "Store C",
         "marker": {
          "color": "#1CA71C",
          "pattern": {
           "shape": ""
          }
         },
         "name": "Store C",
         "orientation": "v",
         "showlegend": false,
         "textposition": "auto",
         "type": "bar",
         "x": [
          "Store C"
         ],
         "xaxis": "x5",
         "y": {
          "bdata": "AQ==",
          "dtype": "i1"
         },
         "yaxis": "y5"
        }
       ],
       "layout": {
        "annotations": [
         {
          "font": {},
          "showarrow": false,
          "text": "Week=1",
          "x": 0.09000000000000001,
          "xanchor": "center",
          "xref": "paper",
          "y": 1,
          "yanchor": "bottom",
          "yref": "paper"
         },
         {
          "font": {},
          "showarrow": false,
          "text": "Week=2",
          "x": 0.29000000000000004,
          "xanchor": "center",
          "xref": "paper",
          "y": 1,
          "yanchor": "bottom",
          "yref": "paper"
         },
         {
          "font": {},
          "showarrow": false,
          "text": "Week=3",
          "x": 0.49000000000000005,
          "xanchor": "center",
          "xref": "paper",
          "y": 1,
          "yanchor": "bottom",
          "yref": "paper"
         },
         {
          "font": {},
          "showarrow": false,
          "text": "Week=4",
          "x": 0.6900000000000002,
          "xanchor": "center",
          "xref": "paper",
          "y": 1,
          "yanchor": "bottom",
          "yref": "paper"
         },
         {
          "font": {},
          "showarrow": false,
          "text": "Week=5",
          "x": 0.8900000000000001,
          "xanchor": "center",
          "xref": "paper",
          "y": 1,
          "yanchor": "bottom",
          "yref": "paper"
         },
         {
          "font": {},
          "showarrow": false,
          "text": "Gender=F",
          "textangle": 90,
          "x": 0.9800000000000001,
          "xanchor": "left",
          "xref": "paper",
          "y": 0.2425,
          "yanchor": "middle",
          "yref": "paper"
         },
         {
          "font": {},
          "showarrow": false,
          "text": "Gender=M",
          "textangle": 90,
          "x": 0.9800000000000001,
          "xanchor": "left",
          "xref": "paper",
          "y": 0.7575000000000001,
          "yanchor": "middle",
          "yref": "paper"
         }
        ],
        "barmode": "relative",
        "legend": {
         "title": {
          "text": "Store Name"
         },
         "tracegroupgap": 0
        },
        "margin": {
         "b": 40,
         "l": 40,
         "r": 40,
         "t": 60
        },
        "template": {
         "data": {
          "bar": [
           {
            "error_x": {
             "color": "#2a3f5f"
            },
            "error_y": {
             "color": "#2a3f5f"
            },
            "marker": {
             "line": {
              "color": "#E5ECF6",
              "width": 0.5
             },
             "pattern": {
              "fillmode": "overlay",
              "size": 10,
              "solidity": 0.2
             }
            },
            "type": "bar"
           }
          ],
          "barpolar": [
           {
            "marker": {
             "line": {
              "color": "#E5ECF6",
              "width": 0.5
             },
             "pattern": {
              "fillmode": "overlay",
              "size": 10,
              "solidity": 0.2
             }
            },
            "type": "barpolar"
           }
          ],
          "carpet": [
           {
            "aaxis": {
             "endlinecolor": "#2a3f5f",
             "gridcolor": "white",
             "linecolor": "white",
             "minorgridcolor": "white",
             "startlinecolor": "#2a3f5f"
            },
            "baxis": {
             "endlinecolor": "#2a3f5f",
             "gridcolor": "white",
             "linecolor": "white",
             "minorgridcolor": "white",
             "startlinecolor": "#2a3f5f"
            },
            "type": "carpet"
           }
          ],
          "choropleth": [
           {
            "colorbar": {
             "outlinewidth": 0,
             "ticks": ""
            },
            "type": "choropleth"
           }
          ],
          "contour": [
           {
            "colorbar": {
             "outlinewidth": 0,
             "ticks": ""
            },
            "colorscale": [
             [
              0,
              "#0d0887"
             ],
             [
              0.1111111111111111,
              "#46039f"
             ],
             [
              0.2222222222222222,
              "#7201a8"
             ],
             [
              0.3333333333333333,
              "#9c179e"
             ],
             [
              0.4444444444444444,
              "#bd3786"
             ],
             [
              0.5555555555555556,
              "#d8576b"
             ],
             [
              0.6666666666666666,
              "#ed7953"
             ],
             [
              0.7777777777777778,
              "#fb9f3a"
             ],
             [
              0.8888888888888888,
              "#fdca26"
             ],
             [
              1,
              "#f0f921"
             ]
            ],
            "type": "contour"
           }
          ],
          "contourcarpet": [
           {
            "colorbar": {
             "outlinewidth": 0,
             "ticks": ""
            },
            "type": "contourcarpet"
           }
          ],
          "heatmap": [
           {
            "colorbar": {
             "outlinewidth": 0,
             "ticks": ""
            },
            "colorscale": [
             [
              0,
              "#0d0887"
             ],
             [
              0.1111111111111111,
              "#46039f"
             ],
             [
              0.2222222222222222,
              "#7201a8"
             ],
             [
              0.3333333333333333,
              "#9c179e"
             ],
             [
              0.4444444444444444,
              "#bd3786"
             ],
             [
              0.5555555555555556,
              "#d8576b"
             ],
             [
              0.6666666666666666,
              "#ed7953"
             ],
             [
              0.7777777777777778,
              "#fb9f3a"
             ],
             [
              0.8888888888888888,
              "#fdca26"
             ],
             [
              1,
              "#f0f921"
             ]
            ],
            "type": "heatmap"
           }
          ],
          "histogram": [
           {
            "marker": {
             "pattern": {
              "fillmode": "overlay",
              "size": 10,
              "solidity": 0.2
             }
            },
            "type": "histogram"
           }
          ],
          "histogram2d": [
           {
            "colorbar": {
             "outlinewidth": 0,
             "ticks": ""
            },
            "colorscale": [
             [
              0,
              "#0d0887"
             ],
             [
              0.1111111111111111,
              "#46039f"
             ],
             [
              0.2222222222222222,
              "#7201a8"
             ],
             [
              0.3333333333333333,
              "#9c179e"
             ],
             [
              0.4444444444444444,
              "#bd3786"
             ],
             [
              0.5555555555555556,
              "#d8576b"
             ],
             [
              0.6666666666666666,
              "#ed7953"
             ],
             [
              0.7777777777777778,
              "#fb9f3a"
             ],
             [
              0.8888888888888888,
              "#fdca26"
             ],
             [
              1,
              "#f0f921"
             ]
            ],
            "type": "histogram2d"
           }
          ],
          "histogram2dcontour": [
           {
            "colorbar": {
             "outlinewidth": 0,
             "ticks": ""
            },
            "colorscale": [
             [
              0,
              "#0d0887"
             ],
             [
              0.1111111111111111,
              "#46039f"
             ],
             [
              0.2222222222222222,
              "#7201a8"
             ],
             [
              0.3333333333333333,
              "#9c179e"
             ],
             [
              0.4444444444444444,
              "#bd3786"
             ],
             [
              0.5555555555555556,
              "#d8576b"
             ],
             [
              0.6666666666666666,
              "#ed7953"
             ],
             [
              0.7777777777777778,
              "#fb9f3a"
             ],
             [
              0.8888888888888888,
              "#fdca26"
             ],
             [
              1,
              "#f0f921"
             ]
            ],
            "type": "histogram2dcontour"
           }
          ],
          "mesh3d": [
           {
            "colorbar": {
             "outlinewidth": 0,
             "ticks": ""
            },
            "type": "mesh3d"
           }
          ],
          "parcoords": [
           {
            "line": {
             "colorbar": {
              "outlinewidth": 0,
              "ticks": ""
             }
            },
            "type": "parcoords"
           }
          ],
          "pie": [
           {
            "automargin": true,
            "type": "pie"
           }
          ],
          "scatter": [
           {
            "fillpattern": {
             "fillmode": "overlay",
             "size": 10,
             "solidity": 0.2
            },
            "type": "scatter"
           }
          ],
          "scatter3d": [
           {
            "line": {
             "colorbar": {
              "outlinewidth": 0,
              "ticks": ""
             }
            },
            "marker": {
             "colorbar": {
              "outlinewidth": 0,
              "ticks": ""
             }
            },
            "type": "scatter3d"
           }
          ],
          "scattercarpet": [
           {
            "marker": {
             "colorbar": {
              "outlinewidth": 0,
              "ticks": ""
             }
            },
            "type": "scattercarpet"
           }
          ],
          "scattergeo": [
           {
            "marker": {
             "colorbar": {
              "outlinewidth": 0,
              "ticks": ""
             }
            },
            "type": "scattergeo"
           }
          ],
          "scattergl": [
           {
            "marker": {
             "colorbar": {
              "outlinewidth": 0,
              "ticks": ""
             }
            },
            "type": "scattergl"
           }
          ],
          "scattermap": [
           {
            "marker": {
             "colorbar": {
              "outlinewidth": 0,
              "ticks": ""
             }
            },
            "type": "scattermap"
           }
          ],
          "scattermapbox": [
           {
            "marker": {
             "colorbar": {
              "outlinewidth": 0,
              "ticks": ""
             }
            },
            "type": "scattermapbox"
           }
          ],
          "scatterpolar": [
           {
            "marker": {
             "colorbar": {
              "outlinewidth": 0,
              "ticks": ""
             }
            },
            "type": "scatterpolar"
           }
          ],
          "scatterpolargl": [
           {
            "marker": {
             "colorbar": {
              "outlinewidth": 0,
              "ticks": ""
             }
            },
            "type": "scatterpolargl"
           }
          ],
          "scatterternary": [
           {
            "marker": {
             "colorbar": {
              "outlinewidth": 0,
              "ticks": ""
             }
            },
            "type": "scatterternary"
           }
          ],
          "surface": [
           {
            "colorbar": {
             "outlinewidth": 0,
             "ticks": ""
            },
            "colorscale": [
             [
              0,
              "#0d0887"
             ],
             [
              0.1111111111111111,
              "#46039f"
             ],
             [
              0.2222222222222222,
              "#7201a8"
             ],
             [
              0.3333333333333333,
              "#9c179e"
             ],
             [
              0.4444444444444444,
              "#bd3786"
             ],
             [
              0.5555555555555556,
              "#d8576b"
             ],
             [
              0.6666666666666666,
              "#ed7953"
             ],
             [
              0.7777777777777778,
              "#fb9f3a"
             ],
             [
              0.8888888888888888,
              "#fdca26"
             ],
             [
              1,
              "#f0f921"
             ]
            ],
            "type": "surface"
           }
          ],
          "table": [
           {
            "cells": {
             "fill": {
              "color": "#EBF0F8"
             },
             "line": {
              "color": "white"
             }
            },
            "header": {
             "fill": {
              "color": "#C8D4E3"
             },
             "line": {
              "color": "white"
             }
            },
            "type": "table"
           }
          ]
         },
         "layout": {
          "annotationdefaults": {
           "arrowcolor": "#2a3f5f",
           "arrowhead": 0,
           "arrowwidth": 1
          },
          "autotypenumbers": "strict",
          "coloraxis": {
           "colorbar": {
            "outlinewidth": 0,
            "ticks": ""
           }
          },
          "colorscale": {
           "diverging": [
            [
             0,
             "#8e0152"
            ],
            [
             0.1,
             "#c51b7d"
            ],
            [
             0.2,
             "#de77ae"
            ],
            [
             0.3,
             "#f1b6da"
            ],
            [
             0.4,
             "#fde0ef"
            ],
            [
             0.5,
             "#f7f7f7"
            ],
            [
             0.6,
             "#e6f5d0"
            ],
            [
             0.7,
             "#b8e186"
            ],
            [
             0.8,
             "#7fbc41"
            ],
            [
             0.9,
             "#4d9221"
            ],
            [
             1,
             "#276419"
            ]
           ],
           "sequential": [
            [
             0,
             "#0d0887"
            ],
            [
             0.1111111111111111,
             "#46039f"
            ],
            [
             0.2222222222222222,
             "#7201a8"
            ],
            [
             0.3333333333333333,
             "#9c179e"
            ],
            [
             0.4444444444444444,
             "#bd3786"
            ],
            [
             0.5555555555555556,
             "#d8576b"
            ],
            [
             0.6666666666666666,
             "#ed7953"
            ],
            [
             0.7777777777777778,
             "#fb9f3a"
            ],
            [
             0.8888888888888888,
             "#fdca26"
            ],
            [
             1,
             "#f0f921"
            ]
           ],
           "sequentialminus": [
            [
             0,
             "#0d0887"
            ],
            [
             0.1111111111111111,
             "#46039f"
            ],
            [
             0.2222222222222222,
             "#7201a8"
            ],
            [
             0.3333333333333333,
             "#9c179e"
            ],
            [
             0.4444444444444444,
             "#bd3786"
            ],
            [
             0.5555555555555556,
             "#d8576b"
            ],
            [
             0.6666666666666666,
             "#ed7953"
            ],
            [
             0.7777777777777778,
             "#fb9f3a"
            ],
            [
             0.8888888888888888,
             "#fdca26"
            ],
            [
             1,
             "#f0f921"
            ]
           ]
          },
          "colorway": [
           "#636efa",
           "#EF553B",
           "#00cc96",
           "#ab63fa",
           "#FFA15A",
           "#19d3f3",
           "#FF6692",
           "#B6E880",
           "#FF97FF",
           "#FECB52"
          ],
          "font": {
           "color": "#2a3f5f"
          },
          "geo": {
           "bgcolor": "white",
           "lakecolor": "white",
           "landcolor": "#E5ECF6",
           "showlakes": true,
           "showland": true,
           "subunitcolor": "white"
          },
          "hoverlabel": {
           "align": "left"
          },
          "hovermode": "closest",
          "mapbox": {
           "style": "light"
          },
          "paper_bgcolor": "white",
          "plot_bgcolor": "#E5ECF6",
          "polar": {
           "angularaxis": {
            "gridcolor": "white",
            "linecolor": "white",
            "ticks": ""
           },
           "bgcolor": "#E5ECF6",
           "radialaxis": {
            "gridcolor": "white",
            "linecolor": "white",
            "ticks": ""
           }
          },
          "scene": {
           "xaxis": {
            "backgroundcolor": "#E5ECF6",
            "gridcolor": "white",
            "gridwidth": 2,
            "linecolor": "white",
            "showbackground": true,
            "ticks": "",
            "zerolinecolor": "white"
           },
           "yaxis": {
            "backgroundcolor": "#E5ECF6",
            "gridcolor": "white",
            "gridwidth": 2,
            "linecolor": "white",
            "showbackground": true,
            "ticks": "",
            "zerolinecolor": "white"
           },
           "zaxis": {
            "backgroundcolor": "#E5ECF6",
            "gridcolor": "white",
            "gridwidth": 2,
            "linecolor": "white",
            "showbackground": true,
            "ticks": "",
            "zerolinecolor": "white"
           }
          },
          "shapedefaults": {
           "line": {
            "color": "#2a3f5f"
           }
          },
          "ternary": {
           "aaxis": {
            "gridcolor": "white",
            "linecolor": "white",
            "ticks": ""
           },
           "baxis": {
            "gridcolor": "white",
            "linecolor": "white",
            "ticks": ""
           },
           "bgcolor": "#E5ECF6",
           "caxis": {
            "gridcolor": "white",
            "linecolor": "white",
            "ticks": ""
           }
          },
          "title": {
           "x": 0.05
          },
          "xaxis": {
           "automargin": true,
           "gridcolor": "white",
           "linecolor": "white",
           "ticks": "",
           "title": {
            "standoff": 15
           },
           "zerolinecolor": "white",
           "zerolinewidth": 2
          },
          "yaxis": {
           "automargin": true,
           "gridcolor": "white",
           "linecolor": "white",
           "ticks": "",
           "title": {
            "standoff": 15
           },
           "zerolinecolor": "white",
           "zerolinewidth": 2
          }
         }
        },
        "title": {
         "font": {
          "family": "Arial",
          "size": 20
         },
         "text": "Purchase Counts by Store, Gender, and Week"
        },
        "xaxis": {
         "anchor": "y",
         "categoryarray": [
          "Store A",
          "Store B",
          "Store C"
         ],
         "categoryorder": "array",
         "domain": [
          0,
          0.18000000000000002
         ],
         "tickangle": 0,
         "title": {
          "text": "Store Name"
         }
        },
        "xaxis10": {
         "anchor": "y10",
         "domain": [
          0.8,
          0.9800000000000001
         ],
         "matches": "x",
         "showticklabels": false,
         "tickangle": 0,
         "title": {
          "text": "Store Name"
         }
        },
        "xaxis2": {
         "anchor": "y2",
         "categoryarray": [
          "Store A",
          "Store B",
          "Store C"
         ],
         "categoryorder": "array",
         "domain": [
          0.2,
          0.38
         ],
         "matches": "x",
         "tickangle": 0,
         "title": {
          "text": "Store Name"
         }
        },
        "xaxis3": {
         "anchor": "y3",
         "categoryarray": [
          "Store A",
          "Store B",
          "Store C"
         ],
         "categoryorder": "array",
         "domain": [
          0.4,
          0.5800000000000001
         ],
         "matches": "x",
         "tickangle": 0,
         "title": {
          "text": "Store Name"
         }
        },
        "xaxis4": {
         "anchor": "y4",
         "categoryarray": [
          "Store A",
          "Store B",
          "Store C"
         ],
         "categoryorder": "array",
         "domain": [
          0.6000000000000001,
          0.7800000000000001
         ],
         "matches": "x",
         "tickangle": 0,
         "title": {
          "text": "Store Name"
         }
        },
        "xaxis5": {
         "anchor": "y5",
         "categoryarray": [
          "Store A",
          "Store B",
          "Store C"
         ],
         "categoryorder": "array",
         "domain": [
          0.8,
          0.9800000000000001
         ],
         "matches": "x",
         "tickangle": 0,
         "title": {
          "text": "Store Name"
         }
        },
        "xaxis6": {
         "anchor": "y6",
         "domain": [
          0,
          0.18000000000000002
         ],
         "matches": "x",
         "showticklabels": false,
         "tickangle": 0,
         "title": {
          "text": "Store Name"
         }
        },
        "xaxis7": {
         "anchor": "y7",
         "domain": [
          0.2,
          0.38
         ],
         "matches": "x",
         "showticklabels": false,
         "tickangle": 0,
         "title": {
          "text": "Store Name"
         }
        },
        "xaxis8": {
         "anchor": "y8",
         "domain": [
          0.4,
          0.5800000000000001
         ],
         "matches": "x",
         "showticklabels": false,
         "tickangle": 0,
         "title": {
          "text": "Store Name"
         }
        },
        "xaxis9": {
         "anchor": "y9",
         "domain": [
          0.6000000000000001,
          0.7800000000000001
         ],
         "matches": "x",
         "showticklabels": false,
         "tickangle": 0,
         "title": {
          "text": "Store Name"
         }
        },
        "yaxis": {
         "anchor": "x",
         "domain": [
          0,
          0.485
         ],
         "title": {
          "text": "Count"
         }
        },
        "yaxis10": {
         "anchor": "x10",
         "domain": [
          0.515,
          1
         ],
         "matches": "y",
         "showticklabels": false,
         "title": {
          "text": "Count"
         }
        },
        "yaxis2": {
         "anchor": "x2",
         "domain": [
          0,
          0.485
         ],
         "matches": "y",
         "showticklabels": false,
         "title": {
          "text": "Count"
         }
        },
        "yaxis3": {
         "anchor": "x3",
         "domain": [
          0,
          0.485
         ],
         "matches": "y",
         "showticklabels": false,
         "title": {
          "text": "Count"
         }
        },
        "yaxis4": {
         "anchor": "x4",
         "domain": [
          0,
          0.485
         ],
         "matches": "y",
         "showticklabels": false,
         "title": {
          "text": "Count"
         }
        },
        "yaxis5": {
         "anchor": "x5",
         "domain": [
          0,
          0.485
         ],
         "matches": "y",
         "showticklabels": false,
         "title": {
          "text": "Count"
         }
        },
        "yaxis6": {
         "anchor": "x6",
         "domain": [
          0.515,
          1
         ],
         "matches": "y",
         "title": {
          "text": "Count"
         }
        },
        "yaxis7": {
         "anchor": "x7",
         "domain": [
          0.515,
          1
         ],
         "matches": "y",
         "showticklabels": false,
         "title": {
          "text": "Count"
         }
        },
        "yaxis8": {
         "anchor": "x8",
         "domain": [
          0.515,
          1
         ],
         "matches": "y",
         "showticklabels": false,
         "title": {
          "text": "Count"
         }
        },
        "yaxis9": {
         "anchor": "x9",
         "domain": [
          0.515,
          1
         ],
         "matches": "y",
         "showticklabels": false,
         "title": {
          "text": "Count"
         }
        }
       }
      }
     },
     "metadata": {},
     "output_type": "display_data"
    },
    {
     "ename": "ValueError",
     "evalue": "Trace type 'sunburst' is not compatible with subplot type 'xy'\nat grid position (2, 2)\n\nSee the docstring for the specs argument to plotly.subplots.make_subplots\nfor more information on subplot types",
     "output_type": "error",
     "traceback": [
      "\u001b[31m---------------------------------------------------------------------------\u001b[39m",
      "\u001b[31mValueError\u001b[39m                                Traceback (most recent call last)",
      "\u001b[36mCell\u001b[39m\u001b[36m \u001b[39m\u001b[32mIn[8]\u001b[39m\u001b[32m, line 180\u001b[39m\n\u001b[32m    178\u001b[39m \u001b[38;5;66;03m# Panel 4: Sunburst (all stores + one per store, only one visible at a time)\u001b[39;00m\n\u001b[32m    179\u001b[39m \u001b[38;5;28;01mfor\u001b[39;00m i, trace \u001b[38;5;129;01min\u001b[39;00m \u001b[38;5;28menumerate\u001b[39m(sunburst_traces):\n\u001b[32m--> \u001b[39m\u001b[32m180\u001b[39m     \u001b[43mfig_dash\u001b[49m\u001b[43m.\u001b[49m\u001b[43madd_trace\u001b[49m\u001b[43m(\u001b[49m\u001b[43mtrace\u001b[49m\u001b[43m.\u001b[49m\u001b[43mupdate\u001b[49m\u001b[43m(\u001b[49m\u001b[43mvisible\u001b[49m\u001b[43m=\u001b[49m\u001b[43m(\u001b[49m\u001b[43mi\u001b[49m\u001b[43m==\u001b[49m\u001b[32;43m0\u001b[39;49m\u001b[43m)\u001b[49m\u001b[43m)\u001b[49m\u001b[43m,\u001b[49m\u001b[43m \u001b[49m\u001b[43mrow\u001b[49m\u001b[43m=\u001b[49m\u001b[32;43m2\u001b[39;49m\u001b[43m,\u001b[49m\u001b[43m \u001b[49m\u001b[43mcol\u001b[49m\u001b[43m=\u001b[49m\u001b[32;43m2\u001b[39;49m\u001b[43m)\u001b[49m\n\u001b[32m    182\u001b[39m \u001b[38;5;66;03m# Dropdown for sunburst\u001b[39;00m\n\u001b[32m    183\u001b[39m fig_dash.update_layout(\n\u001b[32m    184\u001b[39m     updatemenus=[\u001b[38;5;28mdict\u001b[39m(\n\u001b[32m    185\u001b[39m         \u001b[38;5;28mtype\u001b[39m=\u001b[33m\"\u001b[39m\u001b[33mdropdown\u001b[39m\u001b[33m\"\u001b[39m,\n\u001b[32m   (...)\u001b[39m\u001b[32m    194\u001b[39m     height=\u001b[32m900\u001b[39m\n\u001b[32m    195\u001b[39m )\n",
      "\u001b[36mFile \u001b[39m\u001b[32m~/Projects/LLMs_Code_Capabilities_Investigation/.conda/lib/python3.11/site-packages/plotly/graph_objs/_figure.py:343\u001b[39m, in \u001b[36mFigure.add_trace\u001b[39m\u001b[34m(self, trace, row, col, secondary_y, exclude_empty_subplots)\u001b[39m\n\u001b[32m    268\u001b[39m \u001b[38;5;28;01mdef\u001b[39;00m\u001b[38;5;250m \u001b[39m\u001b[34madd_trace\u001b[39m(\n\u001b[32m    269\u001b[39m     \u001b[38;5;28mself\u001b[39m, trace, row=\u001b[38;5;28;01mNone\u001b[39;00m, col=\u001b[38;5;28;01mNone\u001b[39;00m, secondary_y=\u001b[38;5;28;01mNone\u001b[39;00m, exclude_empty_subplots=\u001b[38;5;28;01mFalse\u001b[39;00m\n\u001b[32m    270\u001b[39m ) -> \u001b[33m\"\u001b[39m\u001b[33mFigure\u001b[39m\u001b[33m\"\u001b[39m:\n\u001b[32m    271\u001b[39m \u001b[38;5;250m    \u001b[39m\u001b[33;03m\"\"\"\u001b[39;00m\n\u001b[32m    272\u001b[39m \n\u001b[32m    273\u001b[39m \u001b[33;03m    Add a trace to the figure\u001b[39;00m\n\u001b[32m   (...)\u001b[39m\u001b[32m    341\u001b[39m \n\u001b[32m    342\u001b[39m \u001b[33;03m    \"\"\"\u001b[39;00m\n\u001b[32m--> \u001b[39m\u001b[32m343\u001b[39m     \u001b[38;5;28;01mreturn\u001b[39;00m \u001b[38;5;28;43msuper\u001b[39;49m\u001b[43m(\u001b[49m\u001b[43m)\u001b[49m\u001b[43m.\u001b[49m\u001b[43madd_trace\u001b[49m\u001b[43m(\u001b[49m\u001b[43mtrace\u001b[49m\u001b[43m,\u001b[49m\u001b[43m \u001b[49m\u001b[43mrow\u001b[49m\u001b[43m,\u001b[49m\u001b[43m \u001b[49m\u001b[43mcol\u001b[49m\u001b[43m,\u001b[49m\u001b[43m \u001b[49m\u001b[43msecondary_y\u001b[49m\u001b[43m,\u001b[49m\u001b[43m \u001b[49m\u001b[43mexclude_empty_subplots\u001b[49m\u001b[43m)\u001b[49m\n",
      "\u001b[36mFile \u001b[39m\u001b[32m~/Projects/LLMs_Code_Capabilities_Investigation/.conda/lib/python3.11/site-packages/plotly/basedatatypes.py:2123\u001b[39m, in \u001b[36mBaseFigure.add_trace\u001b[39m\u001b[34m(self, trace, row, col, secondary_y, exclude_empty_subplots)\u001b[39m\n\u001b[32m   2114\u001b[39m         \u001b[38;5;28mself\u001b[39m.add_trace(\n\u001b[32m   2115\u001b[39m             trace,\n\u001b[32m   2116\u001b[39m             row=r,\n\u001b[32m   (...)\u001b[39m\u001b[32m   2119\u001b[39m             exclude_empty_subplots=exclude_empty_subplots,\n\u001b[32m   2120\u001b[39m         )\n\u001b[32m   2121\u001b[39m     \u001b[38;5;28;01mreturn\u001b[39;00m \u001b[38;5;28mself\u001b[39m\n\u001b[32m-> \u001b[39m\u001b[32m2123\u001b[39m \u001b[38;5;28;01mreturn\u001b[39;00m \u001b[38;5;28;43mself\u001b[39;49m\u001b[43m.\u001b[49m\u001b[43madd_traces\u001b[49m\u001b[43m(\u001b[49m\n\u001b[32m   2124\u001b[39m \u001b[43m    \u001b[49m\u001b[43mdata\u001b[49m\u001b[43m=\u001b[49m\u001b[43m[\u001b[49m\u001b[43mtrace\u001b[49m\u001b[43m]\u001b[49m\u001b[43m,\u001b[49m\n\u001b[32m   2125\u001b[39m \u001b[43m    \u001b[49m\u001b[43mrows\u001b[49m\u001b[43m=\u001b[49m\u001b[43m[\u001b[49m\u001b[43mrow\u001b[49m\u001b[43m]\u001b[49m\u001b[43m \u001b[49m\u001b[38;5;28;43;01mif\u001b[39;49;00m\u001b[43m \u001b[49m\u001b[43mrow\u001b[49m\u001b[43m \u001b[49m\u001b[38;5;129;43;01mis\u001b[39;49;00m\u001b[43m \u001b[49m\u001b[38;5;129;43;01mnot\u001b[39;49;00m\u001b[43m \u001b[49m\u001b[38;5;28;43;01mNone\u001b[39;49;00m\u001b[43m \u001b[49m\u001b[38;5;28;43;01melse\u001b[39;49;00m\u001b[43m \u001b[49m\u001b[38;5;28;43;01mNone\u001b[39;49;00m\u001b[43m,\u001b[49m\n\u001b[32m   2126\u001b[39m \u001b[43m    \u001b[49m\u001b[43mcols\u001b[49m\u001b[43m=\u001b[49m\u001b[43m[\u001b[49m\u001b[43mcol\u001b[49m\u001b[43m]\u001b[49m\u001b[43m \u001b[49m\u001b[38;5;28;43;01mif\u001b[39;49;00m\u001b[43m \u001b[49m\u001b[43mcol\u001b[49m\u001b[43m \u001b[49m\u001b[38;5;129;43;01mis\u001b[39;49;00m\u001b[43m \u001b[49m\u001b[38;5;129;43;01mnot\u001b[39;49;00m\u001b[43m \u001b[49m\u001b[38;5;28;43;01mNone\u001b[39;49;00m\u001b[43m \u001b[49m\u001b[38;5;28;43;01melse\u001b[39;49;00m\u001b[43m \u001b[49m\u001b[38;5;28;43;01mNone\u001b[39;49;00m\u001b[43m,\u001b[49m\n\u001b[32m   2127\u001b[39m \u001b[43m    \u001b[49m\u001b[43msecondary_ys\u001b[49m\u001b[43m=\u001b[49m\u001b[43m[\u001b[49m\u001b[43msecondary_y\u001b[49m\u001b[43m]\u001b[49m\u001b[43m \u001b[49m\u001b[38;5;28;43;01mif\u001b[39;49;00m\u001b[43m \u001b[49m\u001b[43msecondary_y\u001b[49m\u001b[43m \u001b[49m\u001b[38;5;129;43;01mis\u001b[39;49;00m\u001b[43m \u001b[49m\u001b[38;5;129;43;01mnot\u001b[39;49;00m\u001b[43m \u001b[49m\u001b[38;5;28;43;01mNone\u001b[39;49;00m\u001b[43m \u001b[49m\u001b[38;5;28;43;01melse\u001b[39;49;00m\u001b[43m \u001b[49m\u001b[38;5;28;43;01mNone\u001b[39;49;00m\u001b[43m,\u001b[49m\n\u001b[32m   2128\u001b[39m \u001b[43m    \u001b[49m\u001b[43mexclude_empty_subplots\u001b[49m\u001b[43m=\u001b[49m\u001b[43mexclude_empty_subplots\u001b[49m\u001b[43m,\u001b[49m\n\u001b[32m   2129\u001b[39m \u001b[43m\u001b[49m\u001b[43m)\u001b[49m\n",
      "\u001b[36mFile \u001b[39m\u001b[32m~/Projects/LLMs_Code_Capabilities_Investigation/.conda/lib/python3.11/site-packages/plotly/graph_objs/_figure.py:421\u001b[39m, in \u001b[36mFigure.add_traces\u001b[39m\u001b[34m(self, data, rows, cols, secondary_ys, exclude_empty_subplots)\u001b[39m\n\u001b[32m    345\u001b[39m \u001b[38;5;28;01mdef\u001b[39;00m\u001b[38;5;250m \u001b[39m\u001b[34madd_traces\u001b[39m(\n\u001b[32m    346\u001b[39m     \u001b[38;5;28mself\u001b[39m,\n\u001b[32m    347\u001b[39m     data,\n\u001b[32m   (...)\u001b[39m\u001b[32m    351\u001b[39m     exclude_empty_subplots=\u001b[38;5;28;01mFalse\u001b[39;00m,\n\u001b[32m    352\u001b[39m ) -> \u001b[33m\"\u001b[39m\u001b[33mFigure\u001b[39m\u001b[33m\"\u001b[39m:\n\u001b[32m    353\u001b[39m \u001b[38;5;250m    \u001b[39m\u001b[33;03m\"\"\"\u001b[39;00m\n\u001b[32m    354\u001b[39m \n\u001b[32m    355\u001b[39m \u001b[33;03m    Add traces to the figure\u001b[39;00m\n\u001b[32m   (...)\u001b[39m\u001b[32m    419\u001b[39m \n\u001b[32m    420\u001b[39m \u001b[33;03m    \"\"\"\u001b[39;00m\n\u001b[32m--> \u001b[39m\u001b[32m421\u001b[39m     \u001b[38;5;28;01mreturn\u001b[39;00m \u001b[38;5;28;43msuper\u001b[39;49m\u001b[43m(\u001b[49m\u001b[43m)\u001b[49m\u001b[43m.\u001b[49m\u001b[43madd_traces\u001b[49m\u001b[43m(\u001b[49m\n\u001b[32m    422\u001b[39m \u001b[43m        \u001b[49m\u001b[43mdata\u001b[49m\u001b[43m,\u001b[49m\u001b[43m \u001b[49m\u001b[43mrows\u001b[49m\u001b[43m,\u001b[49m\u001b[43m \u001b[49m\u001b[43mcols\u001b[49m\u001b[43m,\u001b[49m\u001b[43m \u001b[49m\u001b[43msecondary_ys\u001b[49m\u001b[43m,\u001b[49m\u001b[43m \u001b[49m\u001b[43mexclude_empty_subplots\u001b[49m\n\u001b[32m    423\u001b[39m \u001b[43m    \u001b[49m\u001b[43m)\u001b[49m\n",
      "\u001b[36mFile \u001b[39m\u001b[32m~/Projects/LLMs_Code_Capabilities_Investigation/.conda/lib/python3.11/site-packages/plotly/basedatatypes.py:2253\u001b[39m, in \u001b[36mBaseFigure.add_traces\u001b[39m\u001b[34m(self, data, rows, cols, secondary_ys, exclude_empty_subplots)\u001b[39m\n\u001b[32m   2251\u001b[39m \u001b[38;5;28;01mif\u001b[39;00m rows \u001b[38;5;129;01mis\u001b[39;00m \u001b[38;5;129;01mnot\u001b[39;00m \u001b[38;5;28;01mNone\u001b[39;00m:\n\u001b[32m   2252\u001b[39m     \u001b[38;5;28;01mfor\u001b[39;00m trace, row, col, secondary_y \u001b[38;5;129;01min\u001b[39;00m \u001b[38;5;28mzip\u001b[39m(data, rows, cols, secondary_ys):\n\u001b[32m-> \u001b[39m\u001b[32m2253\u001b[39m         \u001b[38;5;28;43mself\u001b[39;49m\u001b[43m.\u001b[49m\u001b[43m_set_trace_grid_position\u001b[49m\u001b[43m(\u001b[49m\u001b[43mtrace\u001b[49m\u001b[43m,\u001b[49m\u001b[43m \u001b[49m\u001b[43mrow\u001b[49m\u001b[43m,\u001b[49m\u001b[43m \u001b[49m\u001b[43mcol\u001b[49m\u001b[43m,\u001b[49m\u001b[43m \u001b[49m\u001b[43msecondary_y\u001b[49m\u001b[43m)\u001b[49m\n\u001b[32m   2255\u001b[39m \u001b[38;5;28;01mif\u001b[39;00m exclude_empty_subplots:\n\u001b[32m   2256\u001b[39m     data = \u001b[38;5;28mlist\u001b[39m(\n\u001b[32m   2257\u001b[39m         \u001b[38;5;28mfilter\u001b[39m(\n\u001b[32m   2258\u001b[39m             \u001b[38;5;28;01mlambda\u001b[39;00m trace: \u001b[38;5;28mself\u001b[39m._subplot_not_empty(\n\u001b[32m   (...)\u001b[39m\u001b[32m   2262\u001b[39m         )\n\u001b[32m   2263\u001b[39m     )\n",
      "\u001b[36mFile \u001b[39m\u001b[32m~/Projects/LLMs_Code_Capabilities_Investigation/.conda/lib/python3.11/site-packages/plotly/basedatatypes.py:2343\u001b[39m, in \u001b[36mBaseFigure._set_trace_grid_position\u001b[39m\u001b[34m(self, trace, row, col, secondary_y)\u001b[39m\n\u001b[32m   2340\u001b[39m \u001b[38;5;28;01mfrom\u001b[39;00m\u001b[38;5;250m \u001b[39m\u001b[34;01mplotly\u001b[39;00m\u001b[34;01m.\u001b[39;00m\u001b[34;01m_subplots\u001b[39;00m\u001b[38;5;250m \u001b[39m\u001b[38;5;28;01mimport\u001b[39;00m _set_trace_grid_reference\n\u001b[32m   2342\u001b[39m grid_ref = \u001b[38;5;28mself\u001b[39m._validate_get_grid_ref()\n\u001b[32m-> \u001b[39m\u001b[32m2343\u001b[39m \u001b[38;5;28;01mreturn\u001b[39;00m \u001b[43m_set_trace_grid_reference\u001b[49m\u001b[43m(\u001b[49m\n\u001b[32m   2344\u001b[39m \u001b[43m    \u001b[49m\u001b[43mtrace\u001b[49m\u001b[43m,\u001b[49m\u001b[43m \u001b[49m\u001b[38;5;28;43mself\u001b[39;49m\u001b[43m.\u001b[49m\u001b[43mlayout\u001b[49m\u001b[43m,\u001b[49m\u001b[43m \u001b[49m\u001b[43mgrid_ref\u001b[49m\u001b[43m,\u001b[49m\u001b[43m \u001b[49m\u001b[43mrow\u001b[49m\u001b[43m,\u001b[49m\u001b[43m \u001b[49m\u001b[43mcol\u001b[49m\u001b[43m,\u001b[49m\u001b[43m \u001b[49m\u001b[43msecondary_y\u001b[49m\n\u001b[32m   2345\u001b[39m \u001b[43m\u001b[49m\u001b[43m)\u001b[49m\n",
      "\u001b[36mFile \u001b[39m\u001b[32m~/Projects/LLMs_Code_Capabilities_Investigation/.conda/lib/python3.11/site-packages/plotly/_subplots.py:1403\u001b[39m, in \u001b[36m_set_trace_grid_reference\u001b[39m\u001b[34m(trace, layout, grid_ref, row, col, secondary_y)\u001b[39m\n\u001b[32m   1401\u001b[39m     \u001b[38;5;28;01mfor\u001b[39;00m k \u001b[38;5;129;01min\u001b[39;00m trace_kwargs:\n\u001b[32m   1402\u001b[39m         \u001b[38;5;28;01mif\u001b[39;00m k \u001b[38;5;129;01mnot\u001b[39;00m \u001b[38;5;129;01min\u001b[39;00m trace:\n\u001b[32m-> \u001b[39m\u001b[32m1403\u001b[39m             \u001b[38;5;28;01mraise\u001b[39;00m \u001b[38;5;167;01mValueError\u001b[39;00m(\n\u001b[32m   1404\u001b[39m \u001b[38;5;250m                \u001b[39m\u001b[33;03m\"\"\"\\\u001b[39;00m\n\u001b[32m   1405\u001b[39m \u001b[33;03mTrace type '{typ}' is not compatible with subplot type '{subplot_type}'\u001b[39;00m\n\u001b[32m   1406\u001b[39m \u001b[33;03mat grid position ({row}, {col})\u001b[39;00m\n\u001b[32m   1407\u001b[39m \n\u001b[32m   1408\u001b[39m \u001b[33;03mSee the docstring for the specs argument to plotly.subplots.make_subplots\u001b[39;00m\n\u001b[32m   1409\u001b[39m \u001b[33;03mfor more information on subplot types\"\"\"\u001b[39;00m.format(\n\u001b[32m   1410\u001b[39m                     typ=trace.type,\n\u001b[32m   1411\u001b[39m                     subplot_type=subplot_refs[\u001b[32m0\u001b[39m].subplot_type,\n\u001b[32m   1412\u001b[39m                     row=row,\n\u001b[32m   1413\u001b[39m                     col=col,\n\u001b[32m   1414\u001b[39m                 )\n\u001b[32m   1415\u001b[39m             )\n\u001b[32m   1417\u001b[39m     \u001b[38;5;66;03m# Update trace reference\u001b[39;00m\n\u001b[32m   1418\u001b[39m     trace.update(trace_kwargs)\n",
      "\u001b[31mValueError\u001b[39m: Trace type 'sunburst' is not compatible with subplot type 'xy'\nat grid position (2, 2)\n\nSee the docstring for the specs argument to plotly.subplots.make_subplots\nfor more information on subplot types"
     ]
    }
   ],
   "source": [
    "# 1. Age distribution histogram (overlay male/female, 12 bins, custom palette, hover)\n",
    "# 2. Quantity vs. Budget scatter (custom hover, palette)\n",
    "# 3. Time series: Purchases/day (primary), Avg Budget/day (secondary)\n",
    "# 4. Faceted bar: Store Name, facet by Gender (row), Week (col)\n",
    "# 5. 2x2 subplot: histogram, scatter, time series, sunburst (gender→store→daytype), dropdown to filter sunburst by store\n",
    "\n",
    "import plotly.express as px\n",
    "import plotly.graph_objects as go\n",
    "from plotly.subplots import make_subplots\n",
    "import pandas as pd\n",
    "import numpy as np\n",
    "import random\n",
    "\n",
    "# Ensure reproducibility for any sampling\n",
    "random.seed(42)\n",
    "np.random.seed(42)\n",
    "\n",
    "# --- 1. Age distribution histogram ---\n",
    "# (Overlay male/female, 12 bins, non-default palette, custom hover)\n",
    "#display_markdown(\"**Age distribution histogram:**<br>This chart overlays the age distribution of male and female customers, helping identify demographic skews and target segments.\", raw=True)\n",
    "fig_hist = px.histogram(\n",
    "    df_plot,\n",
    "    x=\"Age\",\n",
    "    color=\"Gender\",\n",
    "    nbins=12,\n",
    "    barmode=\"overlay\",\n",
    "    color_discrete_sequence=px.colors.qualitative.Pastel,\n",
    "    hover_data=[\"Name\", \"Surname\", \"Store Name\"],\n",
    "    opacity=0.75\n",
    ")\n",
    "fig_hist.update_traces(\n",
    "    hovertemplate=\"<b>%{customdata[0]} %{customdata[1]}</b><br>Store: %{customdata[2]}<br>Age: %{x}<br>Count: %{y}\"\n",
    ")\n",
    "fig_hist.update_layout(\n",
    "    title=\"Age Distribution by Gender\",\n",
    "    margin=dict(l=40, r=40, t=60, b=40),\n",
    "    title_font=dict(size=20, family=\"Arial\"),\n",
    "    legend_title_text=\"Gender\"\n",
    ")\n",
    "fig_hist.update_xaxes(title=\"Age\")\n",
    "fig_hist.update_yaxes(title=\"Count\")\n",
    "fig_hist.show()\n",
    "\n",
    "# --- 2. Quantity vs. Budget scatter plot ---\n",
    "#display_markdown(\"**Quantity vs. Budget scatter plot:**<br>Each point is a purchase. Hover to see full customer, store, and timestamp. Reveals spending patterns and outliers.\", raw=True)\n",
    "fig_scatter = px.scatter(\n",
    "    df_plot,\n",
    "    x=\"Quantity\",\n",
    "    y=\"Budget\",\n",
    "    color=\"Store Name\",\n",
    "    color_discrete_sequence=px.colors.qualitative.Set2,\n",
    "    hover_data=[\"Name\", \"Surname\", \"Store Name\", \"Date of Purchase\"],\n",
    "    symbol=\"Gender\"\n",
    ")\n",
    "fig_scatter.update_traces(\n",
    "    hovertemplate=\"<b>%{customdata[0]} %{customdata[1]}</b><br>Store: %{customdata[2]}<br>Date: %{customdata[3]|%Y-%m-%dT%H:%M:%S%z}<br>Quantity: %{x}<br>Budget: %{y}\"\n",
    ")\n",
    "fig_scatter.update_layout(\n",
    "    title=\"Quantity vs. Budget by Store\",\n",
    "    margin=dict(l=40, r=40, t=60, b=40),\n",
    "    title_font=dict(size=20, family=\"Arial\"),\n",
    "    legend_title_text=\"Store Name\"\n",
    ")\n",
    "fig_scatter.update_xaxes(title=\"Quantity\")\n",
    "fig_scatter.update_yaxes(title=\"Budget (€)\")\n",
    "fig_scatter.show()\n",
    "\n",
    "# --- 3. Time series: Purchases per Day & Avg Budget per Day ---\n",
    "#display_markdown(\"**Purchases per Day & Average Budget per Day:**<br>Primary axis: number of purchases. Secondary: average budget. Shows sales trends and spending power over time.\", raw=True)\n",
    "df_daily = df_plot.groupby(df_plot['Date of Purchase'].dt.date).agg(\n",
    "    Purchases=('Budget', 'count'),\n",
    "    AvgBudget=('Budget', 'mean')\n",
    ").reset_index()\n",
    "fig_time = go.Figure()\n",
    "fig_time.add_trace(go.Bar(\n",
    "    x=df_daily['Date of Purchase'],\n",
    "    y=df_daily['Purchases'],\n",
    "    name=\"Purchases per Day\",\n",
    "    marker_color=px.colors.qualitative.Prism[2],\n",
    "    hovertemplate=\"Date: %{x|%A, %d-%m-%Y}<br>Purchases: %{y}\"\n",
    "))\n",
    "fig_time.add_trace(go.Scatter(\n",
    "    x=df_daily['Date of Purchase'],\n",
    "    y=df_daily['AvgBudget'],\n",
    "    name=\"Average Budget per Day\",\n",
    "    yaxis=\"y2\",\n",
    "    mode=\"lines+markers\",\n",
    "    marker_color=px.colors.qualitative.Prism[4],\n",
    "    hovertemplate=\"Date: %{x|%A, %d-%m-%Y}<br>Avg Budget: %{y:.2f} €\"\n",
    "))\n",
    "fig_time.update_layout(\n",
    "    title=\"Purchases and Average Budget per Day\",\n",
    "    margin=dict(l=40, r=40, t=60, b=40),\n",
    "    title_font=dict(size=20, family=\"Arial\"),\n",
    "    yaxis=dict(title=\"Purchases\"),\n",
    "    yaxis2=dict(title=\"Avg Budget (€)\", overlaying=\"y\", side=\"right\"),\n",
    "    legend=dict(x=0.01, y=0.99, borderwidth=1)\n",
    ")\n",
    "fig_time.update_xaxes(\n",
    "    title=\"Date\",\n",
    "    tickformat=\"%a\\n%d-%m-%Y\"\n",
    ")\n",
    "fig_time.show()\n",
    "\n",
    "# --- 4. Faceted bar: Store Name, facet by Gender (row), Week (col) ---\n",
    "#display_markdown(\"**Purchase counts by Store, faceted by Gender and Week:**<br>Shows how store popularity varies by gender and week. Useful for campaign timing and targeting.\", raw=True)\n",
    "fig_facet = px.bar(\n",
    "    df_plot,\n",
    "    x=\"Store Name\",\n",
    "    color=\"Store Name\",\n",
    "    color_discrete_sequence=px.colors.qualitative.Dark24,\n",
    "    facet_row=\"Gender\",\n",
    "    facet_col=\"Week\",\n",
    "    category_orders={\"Week\": list(range(1, 6)), \"Gender\": [\"M\", \"F\"]},\n",
    "    hover_data=[\"Name\", \"Surname\", \"Date of Purchase\"]\n",
    ")\n",
    "fig_facet.update_traces(\n",
    "    hovertemplate=\"<b>%{customdata[0]} %{customdata[1]}</b><br>Date: %{customdata[2]|%d-%m-%Y %H:%M}<br>Store: %{x}<br>Count: %{y}\"\n",
    ")\n",
    "fig_facet.update_layout(\n",
    "    title=\"Purchase Counts by Store, Gender, and Week\",\n",
    "    margin=dict(l=40, r=40, t=60, b=40),\n",
    "    title_font=dict(size=20, family=\"Arial\"),\n",
    "    legend_title_text=\"Store Name\"\n",
    ")\n",
    "fig_facet.for_each_xaxis(lambda ax: ax.update(title=\"Store Name\"))\n",
    "fig_facet.for_each_yaxis(lambda ax: ax.update(title=\"Count\"))\n",
    "fig_facet.update_xaxes(tickangle=0)\n",
    "fig_facet.show()\n",
    "\n",
    "# --- 5. 2x2 subplot grid: histogram, scatter, time series, sunburst ---\n",
    "#display_markdown(\"**Composite dashboard:**<br>First three panels: histogram, scatter, time series. Fourth: sunburst (gender→store→weekday/weekend), with dropdown to filter by store. All charts are interactive and responsive.\", raw=True)\n",
    "\n",
    "from plotly.subplots import make_subplots\n",
    "\n",
    "# Sunburst data\n",
    "sunburst_df = df_plot.copy()\n",
    "sunburst_df['DayType'] = np.where(sunburst_df['Date of Purchase'].dt.weekday < 5, 'Weekday', 'Weekend')\n",
    "\n",
    "def make_sunburst(store_filter=None):\n",
    "    d = sunburst_df if store_filter is None else sunburst_df[sunburst_df['Store Name'] == store_filter]\n",
    "    return go.Sunburst(\n",
    "        labels=d['Gender'] + \" - \" + d['Store Name'] + \" - \" + d['DayType'],\n",
    "        parents=np.where(d['DayType'].notnull(), d['Gender'] + \" - \" + d['Store Name'], \"\"),\n",
    "        ids=d['Gender'] + \"|\" + d['Store Name'] + \"|\" + d['DayType'],\n",
    "        values=[1]*len(d),\n",
    "        branchvalues=\"total\",\n",
    "        hovertemplate=\"<b>%{label}</b><br>Count: %{value}<extra></extra>\",\n",
    "        maxdepth=3\n",
    "    )\n",
    "\n",
    "stores = df_plot['Store Name'].unique().tolist()\n",
    "sunburst_traces = [make_sunburst(None)] + [make_sunburst(s) for s in stores]\n",
    "sunburst_buttons = [\n",
    "    dict(label=\"All Stores\", method=\"update\", args=[{\"visible\": [True]+[False]*len(stores)}, {\"title\": \"Sunburst: All Stores\"}])\n",
    "] + [\n",
    "    dict(label=s, method=\"update\", args=[{\"visible\": [False if i!=j+1 else True for i in range(len(stores)+1)]}, {\"title\": f\"Sunburst: {s}\"}])\n",
    "    for j, s in enumerate(stores)\n",
    "]\n",
    "\n",
    "# Create subplots\n",
    "fig_dash = make_subplots(\n",
    "    rows=2, cols=2,\n",
    "    subplot_titles=(\"Age Histogram\", \"Quantity vs. Budget\", \"Purchases & Avg Budget\", \"Sunburst: Gender→Store→DayType\"),\n",
    "    shared_xaxes=True, shared_yaxes=False,\n",
    "    vertical_spacing=0.12, horizontal_spacing=0.08\n",
    ")\n",
    "\n",
    "# Panel 1: Histogram\n",
    "for trace in fig_hist.data:\n",
    "    fig_dash.add_trace(trace, row=1, col=1)\n",
    "# Panel 2: Scatter\n",
    "for trace in fig_scatter.data:\n",
    "    fig_dash.add_trace(trace, row=1, col=2)\n",
    "# Panel 3: Time series\n",
    "for trace in fig_time.data:\n",
    "    fig_dash.add_trace(trace, row=2, col=1)\n",
    "# Panel 4: Sunburst (all stores + one per store, only one visible at a time)\n",
    "for i, trace in enumerate(sunburst_traces):\n",
    "    fig_dash.add_trace(trace.update(visible=(i==0)), row=2, col=2)\n",
    "\n",
    "# Dropdown for sunburst\n",
    "fig_dash.update_layout(\n",
    "    updatemenus=[dict(\n",
    "        type=\"dropdown\",\n",
    "        direction=\"down\",\n",
    "        x=0.82, y=0.48,\n",
    "        showactive=True,\n",
    "        buttons=sunburst_buttons,\n",
    "        pad={\"r\": 10, \"t\": 10}\n",
    "    )],\n",
    "    margin=dict(l=40, r=40, t=80, b=40),\n",
    "    title_font=dict(size=22, family=\"Arial\"),\n",
    "    height=900\n",
    ")\n",
    "# Axis formatting\n",
    "fig_dash.update_xaxes(title_text=\"Age\", row=1, col=1)\n",
    "fig_dash.update_yaxes(title_text=\"Count\", row=1, col=1)\n",
    "fig_dash.update_xaxes(title_text=\"Quantity\", row=1, col=2)\n",
    "fig_dash.update_yaxes(title_text=\"Budget (€)\", row=1, col=2)\n",
    "fig_dash.update_xaxes(title_text=\"Date\", tickformat=\"%a\\n%d-%m-%Y\", row=2, col=1)\n",
    "fig_dash.update_yaxes(title_text=\"Purchases\", row=2, col=1)\n",
    "fig_dash.update_yaxes(title_text=\"Avg Budget (€)\", row=2, col=1, secondary_y=True)\n",
    "fig_dash.update_layout(\n",
    "    title=\"Interactive Sales Dashboard\",\n",
    "    legend=dict(x=0.01, y=0.99, borderwidth=1),\n",
    "    autosize=True\n",
    ")\n",
    "fig_dash.show()"
   ]
  },
  {
   "cell_type": "code",
   "execution_count": 7,
   "id": "c94e8a7c",
   "metadata": {},
   "outputs": [],
   "source": [
    "# The error in the sunburst chart is due to incorrect parent-child relationships.\n",
    "# We need to build a proper hierarchy: Gender → Store Name → DayType.\n",
    "# Let's reconstruct the sunburst traces with correct parents/labels/ids.\n",
    "\n",
    "import plotly.graph_objects as go\n",
    "\n",
    "def build_sunburst_trace(df, store_filter=None):\n",
    "    # Optionally filter by store\n",
    "    if store_filter is not None:\n",
    "        df = df[df['Store Name'] == store_filter]\n",
    "\n",
    "    # Unique values\n",
    "    genders = df['Gender'].unique()\n",
    "    stores = df['Store Name'].unique()\n",
    "    daytypes = df['DayType'].unique()\n",
    "\n",
    "    labels = []\n",
    "    parents = []\n",
    "    ids = []\n",
    "    values = []\n",
    "\n",
    "    # Level 1: Gender\n",
    "    for gender in genders:\n",
    "        labels.append(gender)\n",
    "        parents.append(\"\")\n",
    "        ids.append(gender)\n",
    "        values.append(df[df['Gender'] == gender].shape[0])\n",
    "\n",
    "        # Level 2: Store under Gender\n",
    "        for store in stores:\n",
    "            mask_store = (df['Gender'] == gender) & (df['Store Name'] == store)\n",
    "            if mask_store.any():\n",
    "                labels.append(f\"{store}\")\n",
    "                parents.append(gender)\n",
    "                ids.append(f\"{gender}|{store}\")\n",
    "                values.append(df[mask_store].shape[0])\n",
    "\n",
    "                # Level 3: DayType under Store\n",
    "                for daytype in daytypes:\n",
    "                    mask_day = mask_store & (df['DayType'] == daytype)\n",
    "                    if mask_day.any():\n",
    "                        labels.append(daytype)\n",
    "                        parents.append(f\"{gender}|{store}\")\n",
    "                        ids.append(f\"{gender}|{store}|{daytype}\")\n",
    "                        values.append(df[mask_day].shape[0])\n",
    "\n",
    "    return go.Sunburst(\n",
    "        labels=labels,\n",
    "        parents=parents,\n",
    "        ids=ids,\n",
    "        values=values,\n",
    "        branchvalues=\"total\",\n",
    "        hovertemplate=\"<b>%{label}</b><br>Count: %{value}<extra></extra>\",\n",
    "        maxdepth=3\n",
    "    )\n",
    "\n",
    "# Rebuild sunburst_traces for all stores and each store\n",
    "sunburst_traces = [build_sunburst_trace(sunburst_df, None)] + [\n",
    "    build_sunburst_trace(sunburst_df, store) for store in stores\n",
    "]\n",
    "\n",
    "# Now you can use sunburst_traces in your dashboard/subplots as before."
   ]
  },
  {
   "cell_type": "markdown",
   "id": "80531553",
   "metadata": {},
   "source": [
    "### findings/results \n",
    "- on 1st try, Only 1st cell was create, the one that reads the data. Not a single visual was generated \n",
    "- On 2nd try, \n",
    "    - it used display_markdown which is not supported as it seems. Also \"ValueError: Mime type rendering requires nbformat>=4.2.0 but it is not installed\" was thrown\n",
    "    - in 2nd graph, on hover, it added quantity and budget. Something I didn;t ask. (is automatically) \n",
    "    - for the third visual, i asked for a linechart with purchases per day and average budget per day. But insted of lines, i gave a combo line and bar chart. \n",
    "    - error was raised for the sunburst. So I prompted \"fix the error above\". The above code was generated but still, it dodnt solve the issue. \"ValueError: Trace type 'sunburst' is not compatible with subplot type 'xy' at grid position (2, 2).See the docstring for the specs argument to plotly.subplots.make_subplots for more information on subplot types\" persists."
   ]
  },
  {
   "cell_type": "markdown",
   "id": "9259ab81",
   "metadata": {},
   "source": [
    "## Case 5 - Advanced Analytics\n",
    "\n",
    "\n",
    "\n",
    "“In one Jupyter notebook code cell, write Python that:\n",
    "Auto-installs any missing packages (pandas, numpy, scikit-learn, plotly, joblib, etc.) using %pip install only when needed.\n",
    "Imports everything (pandas as pd, numpy as np, sklearn modules, plotly.express as px, joblib, etc.) and sets random.seed(42)/np.random.seed(42).\n",
    "Loads output.csv with pd.read_csv(..., parse_dates=['Date of Purchase']), ensures tz-aware Europe/Athens.\n",
    "Creates features:\n",
    "7-day rolling averages for Budget and Quantity\n",
    "One-hot encode Store Name/Gender\n",
    "Extract Hour, Weekday name, IsWeekend\n",
    "Plots (using Plotly) a dual-axis line of rolling averages.\n",
    "Runs KMeans (k=2…6), selects best by silhouette, and plots 2D PCA scatter colored by cluster.\n",
    "Trains two regressors (RidgeCV, RandomForestRegressor), hyperparameter-tunes with GridSearchCV, reports test RMSE/R².\n",
    "Displays feature importances/coefs and a partial dependence plot for top 2 features.\n",
    "Saves the best model via joblib.dump() and writes a results.csv summarizing silhouette, RMSE, R².\n",
    "All in one cell—no markdown—just runnable code that prints summaries and shows plots without errors."
   ]
  },
  {
   "cell_type": "code",
   "execution_count": 9,
   "id": "77c87673",
   "metadata": {},
   "outputs": [
    {
     "ename": "ModuleNotFoundError",
     "evalue": "No module named 'sklearn'",
     "output_type": "error",
     "traceback": [
      "\u001b[31m---------------------------------------------------------------------------\u001b[39m",
      "\u001b[31mModuleNotFoundError\u001b[39m                       Traceback (most recent call last)",
      "\u001b[36mCell\u001b[39m\u001b[36m \u001b[39m\u001b[32mIn[9]\u001b[39m\u001b[32m, line 6\u001b[39m\n\u001b[32m      4\u001b[39m \u001b[38;5;28;01mimport\u001b[39;00m\u001b[38;5;250m \u001b[39m\u001b[34;01mnumpy\u001b[39;00m\u001b[38;5;250m \u001b[39m\u001b[38;5;28;01mas\u001b[39;00m\u001b[38;5;250m \u001b[39m\u001b[34;01mnp\u001b[39;00m\n\u001b[32m      5\u001b[39m \u001b[38;5;28;01mimport\u001b[39;00m\u001b[38;5;250m \u001b[39m\u001b[34;01mrandom\u001b[39;00m\n\u001b[32m----> \u001b[39m\u001b[32m6\u001b[39m \u001b[38;5;28;01mfrom\u001b[39;00m\u001b[38;5;250m \u001b[39m\u001b[34;01msklearn\u001b[39;00m\u001b[34;01m.\u001b[39;00m\u001b[34;01mcluster\u001b[39;00m\u001b[38;5;250m \u001b[39m\u001b[38;5;28;01mimport\u001b[39;00m KMeans\n\u001b[32m      7\u001b[39m \u001b[38;5;28;01mfrom\u001b[39;00m\u001b[38;5;250m \u001b[39m\u001b[34;01msklearn\u001b[39;00m\u001b[34;01m.\u001b[39;00m\u001b[34;01mmetrics\u001b[39;00m\u001b[38;5;250m \u001b[39m\u001b[38;5;28;01mimport\u001b[39;00m silhouette_score, mean_squared_error, r2_score\n\u001b[32m      8\u001b[39m \u001b[38;5;28;01mfrom\u001b[39;00m\u001b[38;5;250m \u001b[39m\u001b[34;01msklearn\u001b[39;00m\u001b[34;01m.\u001b[39;00m\u001b[34;01mdecomposition\u001b[39;00m\u001b[38;5;250m \u001b[39m\u001b[38;5;28;01mimport\u001b[39;00m PCA\n",
      "\u001b[31mModuleNotFoundError\u001b[39m: No module named 'sklearn'"
     ]
    }
   ],
   "source": [
    "import sys\n",
    "import subprocess\n",
    "import pandas as pd\n",
    "import numpy as np\n",
    "import random\n",
    "from sklearn.cluster import KMeans\n",
    "from sklearn.metrics import silhouette_score, mean_squared_error, r2_score\n",
    "from sklearn.decomposition import PCA\n",
    "from sklearn.linear_model import RidgeCV\n",
    "from sklearn.ensemble import RandomForestRegressor\n",
    "from sklearn.model_selection import GridSearchCV, train_test_split\n",
    "from sklearn.preprocessing import StandardScaler\n",
    "import joblib\n",
    "import pytz\n",
    "import warnings\n",
    "from sklearn.inspection import PartialDependenceDisplay\n",
    "\n",
    "# Auto-install required packages if missing\n",
    "def pip_install(pkg):\n",
    "    try:\n",
    "        __import__(pkg)\n",
    "    except ImportError:\n",
    "        subprocess.check_call([sys.executable, \"-m\", \"pip\", \"install\", pkg])\n",
    "\n",
    "for pkg in ['pandas', 'numpy', 'scikit-learn', 'plotly', 'joblib', 'pytz']:\n",
    "    pip_install(pkg)\n",
    "\n",
    "import plotly.express as px\n",
    "import plotly.graph_objects as go\n",
    "warnings.filterwarnings(\"ignore\")\n",
    "\n",
    "random.seed(42)\n",
    "np.random.seed(42)\n",
    "\n",
    "# Load data\n",
    "athens = pytz.timezone('Europe/Athens')\n",
    "df = pd.read_csv(\"output.csv\", parse_dates=['Date of Purchase'])\n",
    "if df['Date of Purchase'].dt.tz is None:\n",
    "    df['Date of Purchase'] = df['Date of Purchase'].dt.tz_localize('Europe/Athens')\n",
    "else:\n",
    "    df['Date of Purchase'] = df['Date of Purchase'].dt.tz_convert('Europe/Athens')\n",
    "\n",
    "df = df.sort_values('Date of Purchase').reset_index(drop=True)\n",
    "\n",
    "# Feature engineering\n",
    "df['Budget_rolling7'] = df['Budget'].rolling(7, min_periods=1).mean()\n",
    "df['Quantity_rolling7'] = df['Quantity'].rolling(7, min_periods=1).mean()\n",
    "df['Hour'] = df['Date of Purchase'].dt.hour\n",
    "df['Weekday'] = df['Date of Purchase'].dt.day_name()\n",
    "df['IsWeekend'] = df['Date of Purchase'].dt.weekday >= 5\n",
    "\n",
    "df_enc = pd.get_dummies(df, columns=['Store Name', 'Gender'], drop_first=True)\n",
    "\n",
    "# Plot dual-axis line of rolling averages\n",
    "fig = go.Figure()\n",
    "fig.add_trace(go.Scatter(\n",
    "    x=df['Date of Purchase'], y=df['Budget_rolling7'],\n",
    "    name='7-day Rolling Budget', yaxis='y1', mode='lines+markers'\n",
    "))\n",
    "fig.add_trace(go.Scatter(\n",
    "    x=df['Date of Purchase'], y=df['Quantity_rolling7'],\n",
    "    name='7-day Rolling Quantity', yaxis='y2', mode='lines+markers'\n",
    "))\n",
    "fig.update_layout(\n",
    "    title=\"7-day Rolling Averages: Budget & Quantity\",\n",
    "    yaxis=dict(title='Budget'),\n",
    "    yaxis2=dict(title='Quantity', overlaying='y', side='right'),\n",
    "    xaxis=dict(title='Date'),\n",
    "    legend=dict(x=0.01, y=0.99),\n",
    "    margin=dict(l=40, r=40, t=60, b=40),\n",
    "    title_font=dict(size=20, family=\"Arial\")\n",
    ")\n",
    "fig.show()\n",
    "\n",
    "# KMeans clustering (k=2..6), silhouette selection, PCA scatter\n",
    "features = ['Age', 'Quantity', 'Budget', 'Hour'] + \\\n",
    "           [c for c in df_enc.columns if c.startswith('Store Name_') or c.startswith('Gender_')]\n",
    "X = df_enc[features].values\n",
    "scaler = StandardScaler()\n",
    "X_scaled = scaler.fit_transform(X)\n",
    "\n",
    "best_score = -1\n",
    "best_k = 2\n",
    "best_labels = None\n",
    "for k in range(2, 7):\n",
    "    km = KMeans(n_clusters=k, random_state=42, n_init=10)\n",
    "    labels = km.fit_predict(X_scaled)\n",
    "    score = silhouette_score(X_scaled, labels)\n",
    "    if score > best_score:\n",
    "        best_score = score\n",
    "        best_k = k\n",
    "        best_labels = labels\n",
    "\n",
    "pca = PCA(n_components=2, random_state=42)\n",
    "X_pca = pca.fit_transform(X_scaled)\n",
    "fig2 = px.scatter(\n",
    "    x=X_pca[:,0], y=X_pca[:,1], color=best_labels.astype(str),\n",
    "    title=f\"PCA Scatter by KMeans Cluster (k={best_k}, Silhouette={best_score:.2f})\",\n",
    "    labels={'x':'PCA1', 'y':'PCA2', 'color':'Cluster'},\n",
    "    color_discrete_sequence=px.colors.qualitative.Set2\n",
    ")\n",
    "fig2.show()\n",
    "\n",
    "print(f\"Best KMeans k={best_k}, silhouette={best_score:.3f}\")\n",
    "\n",
    "# Regression: RidgeCV & RandomForestRegressor, GridSearchCV, RMSE/R2\n",
    "target = 'Budget'\n",
    "Xreg = df_enc[features]\n",
    "yreg = df[target]\n",
    "X_train, X_test, y_train, y_test = train_test_split(Xreg, yreg, test_size=0.25, random_state=42)\n",
    "\n",
    "# RidgeCV\n",
    "ridge = RidgeCV(alphas=np.logspace(-3, 3, 20), cv=5)\n",
    "ridge.fit(X_train, y_train)\n",
    "y_pred_ridge = ridge.predict(X_test)\n",
    "rmse_ridge = mean_squared_error(y_test, y_pred_ridge, squared=False)\n",
    "r2_ridge = r2_score(y_test, y_pred_ridge)\n",
    "\n",
    "# RandomForestRegressor with GridSearchCV\n",
    "rf = RandomForestRegressor(random_state=42)\n",
    "param_grid = {'n_estimators': [50, 100], 'max_depth': [3, 5, 8]}\n",
    "gs = GridSearchCV(rf, param_grid, cv=3, n_jobs=-1)\n",
    "gs.fit(X_train, y_train)\n",
    "y_pred_rf = gs.predict(X_test)\n",
    "rmse_rf = mean_squared_error(y_test, y_pred_rf, squared=False)\n",
    "r2_rf = r2_score(y_test, y_pred_rf)\n",
    "\n",
    "print(f\"RidgeCV: RMSE={rmse_ridge:.2f}, R2={r2_ridge:.2f}\")\n",
    "print(f\"RandomForest: RMSE={rmse_rf:.2f}, R2={r2_rf:.2f}\")\n",
    "\n",
    "# Feature importances/coefs\n",
    "importances = None\n",
    "feat_names = Xreg.columns\n",
    "if hasattr(gs.best_estimator_, \"feature_importances_\"):\n",
    "    importances = gs.best_estimator_.feature_importances_\n",
    "    top_idx = np.argsort(importances)[::-1][:2]\n",
    "    print(\"RandomForest top features:\")\n",
    "    for i in top_idx:\n",
    "        print(f\"  {feat_names[i]}: {importances[i]:.3f}\")\n",
    "    fig3 = px.bar(\n",
    "        x=[feat_names[i] for i in top_idx],\n",
    "        y=[importances[i] for i in top_idx],\n",
    "        labels={'x':'Feature', 'y':'Importance'},\n",
    "        title=\"Top 2 Feature Importances (RandomForest)\",\n",
    "        color=[feat_names[i] for i in top_idx],\n",
    "        color_discrete_sequence=px.colors.qualitative.Pastel\n",
    "    )\n",
    "    fig3.show()\n",
    "else:\n",
    "    coefs = ridge.coef_\n",
    "    top_idx = np.argsort(np.abs(coefs))[::-1][:2]\n",
    "    print(\"RidgeCV top features:\")\n",
    "    for i in top_idx:\n",
    "        print(f\"  {feat_names[i]}: {coefs[i]:.3f}\")\n",
    "    fig3 = px.bar(\n",
    "        x=[feat_names[i] for i in top_idx],\n",
    "        y=[coefs[i] for i in top_idx],\n",
    "        labels={'x':'Feature', 'y':'Coefficient'},\n",
    "        title=\"Top 2 Coefficients (RidgeCV)\",\n",
    "        color=[feat_names[i] for i in top_idx],\n",
    "        color_discrete_sequence=px.colors.qualitative.Pastel\n",
    "    )\n",
    "    fig3.show()\n",
    "\n",
    "# Partial dependence plot for top 2 features (RandomForest)\n",
    "import matplotlib.pyplot as plt\n",
    "pip_install('matplotlib')  # Ensure matplotlib is available\n",
    "\n",
    "fig4, ax = plt.subplots(1, 2, figsize=(10, 4))\n",
    "PartialDependenceDisplay.from_estimator(\n",
    "    gs.best_estimator_, X_test, [top_idx[0], top_idx[1]], feature_names=feat_names, ax=ax\n",
    ")\n",
    "plt.tight_layout()\n",
    "plt.show()\n",
    "\n",
    "# Save best model and results\n",
    "joblib.dump(gs.best_estimator_, \"best_model.joblib\")\n",
    "results_df = pd.DataFrame([{\n",
    "    \"Best_KMeans_k\": best_k,\n",
    "    \"Silhouette\": best_score,\n",
    "    \"RidgeCV_RMSE\": rmse_ridge,\n",
    "    \"RidgeCV_R2\": r2_ridge,\n",
    "    \"RF_RMSE\": rmse_rf,\n",
    "    \"RF_R2\": r2_rf\n",
    "}])\n",
    "results_df.to_csv(\"results.csv\", index=False)\n",
    "print(\"Best model saved as best_model.joblib and results written to results.csv\")"
   ]
  },
  {
   "cell_type": "code",
   "execution_count": 10,
   "id": "9e909067",
   "metadata": {},
   "outputs": [
    {
     "name": "stdout",
     "output_type": "stream",
     "text": [
      "Collecting scikit-learn\n",
      "  Downloading scikit_learn-1.7.0-cp311-cp311-macosx_12_0_arm64.whl.metadata (31 kB)\n",
      "Collecting joblib\n",
      "  Using cached joblib-1.5.1-py3-none-any.whl.metadata (5.6 kB)\n",
      "Requirement already satisfied: numpy>=1.22.0 in /Users/ioanniskoutsoukis/Projects/LLMs_Code_Capabilities_Investigation/.conda/lib/python3.11/site-packages (from scikit-learn) (2.3.1)\n",
      "Collecting scipy>=1.8.0 (from scikit-learn)\n",
      "  Downloading scipy-1.16.0-cp311-cp311-macosx_14_0_arm64.whl.metadata (61 kB)\n",
      "Collecting threadpoolctl>=3.1.0 (from scikit-learn)\n",
      "  Using cached threadpoolctl-3.6.0-py3-none-any.whl.metadata (13 kB)\n",
      "Downloading scikit_learn-1.7.0-cp311-cp311-macosx_12_0_arm64.whl (10.7 MB)\n",
      "\u001b[2K   \u001b[90m━━━━━━━━━━━━━━━━━━━━━━━━━━━━━━━━━━━━━━━━\u001b[0m \u001b[32m10.7/10.7 MB\u001b[0m \u001b[31m12.3 MB/s\u001b[0m eta \u001b[36m0:00:00\u001b[0m \u001b[36m0:00:01\u001b[0m\n",
      "\u001b[?25hUsing cached joblib-1.5.1-py3-none-any.whl (307 kB)\n",
      "Downloading scipy-1.16.0-cp311-cp311-macosx_14_0_arm64.whl (20.8 MB)\n",
      "\u001b[2K   \u001b[90m━━━━━━━━━━━━━━━━━━━━━━━━━━━━━━━━━━━━━━━━\u001b[0m \u001b[32m20.8/20.8 MB\u001b[0m \u001b[31m12.3 MB/s\u001b[0m eta \u001b[36m0:00:00\u001b[0m00:01\u001b[0m00:01\u001b[0m\n",
      "\u001b[?25hUsing cached threadpoolctl-3.6.0-py3-none-any.whl (18 kB)\n",
      "Installing collected packages: threadpoolctl, scipy, joblib, scikit-learn\n",
      "\u001b[2K   \u001b[90m━━━━━━━━━━━━━━━━━━━━━━━━━━━━━━━━━━━━━━━━\u001b[0m \u001b[32m4/4\u001b[0m [scikit-learn][0m [scikit-learn]\n",
      "\u001b[1A\u001b[2KSuccessfully installed joblib-1.5.1 scikit-learn-1.7.0 scipy-1.16.0 threadpoolctl-3.6.0\n",
      "Note: you may need to restart the kernel to use updated packages.\n"
     ]
    }
   ],
   "source": [
    "%pip install scikit-learn joblib "
   ]
  },
  {
   "cell_type": "code",
   "execution_count": 17,
   "id": "e5eeb946",
   "metadata": {},
   "outputs": [
    {
     "name": "stdout",
     "output_type": "stream",
     "text": [
      "Requirement already satisfied: scikit-learn in /Users/ioanniskoutsoukis/Projects/LLMs_Code_Capabilities_Investigation/.conda/lib/python3.11/site-packages (1.7.0)\n",
      "Requirement already satisfied: numpy>=1.22.0 in /Users/ioanniskoutsoukis/Projects/LLMs_Code_Capabilities_Investigation/.conda/lib/python3.11/site-packages (from scikit-learn) (2.3.1)\n",
      "Requirement already satisfied: scipy>=1.8.0 in /Users/ioanniskoutsoukis/Projects/LLMs_Code_Capabilities_Investigation/.conda/lib/python3.11/site-packages (from scikit-learn) (1.16.0)\n",
      "Requirement already satisfied: joblib>=1.2.0 in /Users/ioanniskoutsoukis/Projects/LLMs_Code_Capabilities_Investigation/.conda/lib/python3.11/site-packages (from scikit-learn) (1.5.1)\n",
      "Requirement already satisfied: threadpoolctl>=3.1.0 in /Users/ioanniskoutsoukis/Projects/LLMs_Code_Capabilities_Investigation/.conda/lib/python3.11/site-packages (from scikit-learn) (3.6.0)\n"
     ]
    },
    {
     "data": {
      "application/vnd.plotly.v1+json": {
       "config": {
        "plotlyServerURL": "https://plot.ly"
       },
       "data": [
        {
         "mode": "lines+markers",
         "name": "7-day Rolling Budget",
         "type": "scatter",
         "x": [
          "2025-06-01T11:59:23.000000000",
          "2025-06-01T15:19:48.000000000",
          "2025-06-01T16:16:59.000000000",
          "2025-06-01T17:39:36.000000000",
          "2025-06-02T12:24:20.000000000",
          "2025-06-02T16:05:54.000000000",
          "2025-06-02T17:05:26.000000000",
          "2025-06-03T14:24:38.000000000",
          "2025-06-03T19:57:09.000000000",
          "2025-06-03T20:41:02.000000000",
          "2025-06-04T14:57:36.000000000",
          "2025-06-04T17:13:29.000000000",
          "2025-06-05T11:47:35.000000000",
          "2025-06-05T18:30:35.000000000",
          "2025-06-05T18:44:00.000000000",
          "2025-06-06T20:44:33.000000000",
          "2025-06-07T11:37:44.000000000",
          "2025-06-07T18:28:08.000000000",
          "2025-06-08T10:04:45.000000000",
          "2025-06-08T11:05:46.000000000",
          "2025-06-08T11:21:01.000000000",
          "2025-06-08T11:28:51.000000000",
          "2025-06-08T14:28:04.000000000",
          "2025-06-08T17:51:26.000000000",
          "2025-06-09T09:56:06.000000000",
          "2025-06-10T10:28:53.000000000",
          "2025-06-10T11:03:37.000000000",
          "2025-06-10T11:51:12.000000000",
          "2025-06-10T17:13:45.000000000",
          "2025-06-10T18:32:38.000000000",
          "2025-06-11T08:03:37.000000000",
          "2025-06-11T08:54:26.000000000",
          "2025-06-11T09:18:27.000000000",
          "2025-06-11T12:13:42.000000000",
          "2025-06-11T12:55:04.000000000",
          "2025-06-11T13:57:34.000000000",
          "2025-06-11T16:29:26.000000000",
          "2025-06-12T16:27:42.000000000",
          "2025-06-12T18:57:53.000000000",
          "2025-06-13T10:42:41.000000000",
          "2025-06-13T16:53:00.000000000",
          "2025-06-13T19:09:45.000000000",
          "2025-06-13T19:21:51.000000000",
          "2025-06-14T10:33:59.000000000",
          "2025-06-14T11:42:58.000000000",
          "2025-06-14T13:59:34.000000000",
          "2025-06-14T14:02:00.000000000",
          "2025-06-14T14:20:54.000000000",
          "2025-06-14T15:25:44.000000000",
          "2025-06-14T15:27:26.000000000",
          "2025-06-14T15:46:50.000000000",
          "2025-06-14T16:43:47.000000000",
          "2025-06-14T17:01:24.000000000",
          "2025-06-16T08:47:34.000000000",
          "2025-06-16T12:57:58.000000000",
          "2025-06-16T15:13:55.000000000",
          "2025-06-16T17:54:49.000000000",
          "2025-06-17T08:42:52.000000000",
          "2025-06-17T12:08:59.000000000",
          "2025-06-17T14:43:53.000000000",
          "2025-06-17T18:40:39.000000000",
          "2025-06-18T10:27:08.000000000",
          "2025-06-18T20:59:33.000000000",
          "2025-06-19T08:59:19.000000000",
          "2025-06-19T11:45:44.000000000",
          "2025-06-20T13:48:57.000000000",
          "2025-06-20T17:47:45.000000000",
          "2025-06-21T17:25:56.000000000",
          "2025-06-21T18:53:00.000000000",
          "2025-06-22T10:05:41.000000000",
          "2025-06-22T13:25:07.000000000",
          "2025-06-22T13:32:30.000000000",
          "2025-06-22T15:28:57.000000000",
          "2025-06-22T17:13:34.000000000",
          "2025-06-23T19:50:35.000000000",
          "2025-06-24T15:35:45.000000000",
          "2025-06-24T16:41:17.000000000",
          "2025-06-24T16:51:38.000000000",
          "2025-06-25T08:55:07.000000000",
          "2025-06-25T11:53:40.000000000",
          "2025-06-25T12:54:43.000000000",
          "2025-06-25T14:17:48.000000000",
          "2025-06-26T17:38:41.000000000",
          "2025-06-27T08:39:09.000000000",
          "2025-06-27T16:28:57.000000000",
          "2025-06-27T20:55:14.000000000",
          "2025-06-28T10:43:46.000000000",
          "2025-06-28T11:46:57.000000000",
          "2025-06-28T13:17:10.000000000",
          "2025-06-28T17:14:12.000000000",
          "2025-06-29T10:54:56.000000000",
          "2025-06-29T10:55:21.000000000",
          "2025-06-29T14:11:37.000000000",
          "2025-06-29T14:32:48.000000000",
          "2025-06-29T15:13:43.000000000",
          "2025-06-29T16:01:11.000000000",
          "2025-06-29T16:23:14.000000000",
          "2025-06-29T16:39:47.000000000",
          "2025-06-30T09:29:08.000000000",
          "2025-06-30T10:39:34.000000000"
         ],
         "y": {
          "bdata": "mpmZmZnZWUApXI/C9ShbQMkvlvxiaVhAPgrXo3CZWED+1HjpJgFcQAc6baDT/l1AwJPV8sYIYED5iq/4ik9fQFEHdVAHlVtAuG3btm1bW0CogzqogwpbQLdt27ZtS1hAWHzFV3yVU0BjBBP9nexTQPo7WS1vvFRAj8L1KFxfWkAK16NwPbpaQOqgDuqgflpASZIkSZIUWUAZwUR/J3tbQAUT/Z2splVAYKK/k9WCVECY6O9ktexTQAUT/Z2shlRAVRpy7rP7UkAacu6zC/hSQGcXEJtKY1FAxVd8xVccUkAJJvo7WR1SQHWfXUBsiktA6O9ktbwRRkDOfXYBsSlLQHoUrkfhWktAgdhUGnJeUkCQwvUoXF9SQPBktbwxMlNAq+WNEUykWEC4HoXrURBgQH3FV3zFd11AOPfZBcSWX0C2vDGCif5dQP6drJY3dl5A4MlqeWM0XEBf8RVf8SVWQB7UQR3U0VBAaci5zy7wVUBN9HeyWr5SQH52AbGp1FJAH4XrUbhuUkBdj8L1KGxSQNkFxKbSAFNA8hVf8RX/UUBdQGwqDXlLQBcQm0pDrk5AQ859dgFxSEB1UAd1UEdJQNAuIDaVBkhAWt4YwUR/TkDuswuITTVUQGMEE/2dPFZAz312AbF5VEDKanljBDNWQGgXEJtK41dAU2nIuc9uXECw+Iqv+MpbQCoNOffZlVhAq+WNEUwEWkAd1EEd1NFdQF2PwvUo7FtArZY3RjBxW0DKanljBDNdQAd1UAd1aGBAwUR/J6slYUALiE2lISdgQN5nFxCbal9A27Zt27adYEB4slreGEliQHLuswuIJWBAyWp5YwRDYEB+dgGxqaReQEcw0d/JmltAehSuR+EaXEBQB3VQB6VaQLa8MYKJblZAKg0599mVXEDrUbgehTtaQJPV8sYI5lhA/k5WyxsDXEBjBBP9nZxbQKUh5z67wFxA7QJiU2loYED5iq/4ii9aQH8nq+WNcVVAYaK/k9XiU0CyWt4YwZRVQPvsAmJTeVNASOF6FK53WEB4slreGPFTQA4599kFtFdARX8nq+V9WEA=",
          "dtype": "f8"
         },
         "yaxis": "y"
        },
        {
         "mode": "lines+markers",
         "name": "7-day Rolling Quantity",
         "type": "scatter",
         "x": [
          "2025-06-01T11:59:23.000000000",
          "2025-06-01T15:19:48.000000000",
          "2025-06-01T16:16:59.000000000",
          "2025-06-01T17:39:36.000000000",
          "2025-06-02T12:24:20.000000000",
          "2025-06-02T16:05:54.000000000",
          "2025-06-02T17:05:26.000000000",
          "2025-06-03T14:24:38.000000000",
          "2025-06-03T19:57:09.000000000",
          "2025-06-03T20:41:02.000000000",
          "2025-06-04T14:57:36.000000000",
          "2025-06-04T17:13:29.000000000",
          "2025-06-05T11:47:35.000000000",
          "2025-06-05T18:30:35.000000000",
          "2025-06-05T18:44:00.000000000",
          "2025-06-06T20:44:33.000000000",
          "2025-06-07T11:37:44.000000000",
          "2025-06-07T18:28:08.000000000",
          "2025-06-08T10:04:45.000000000",
          "2025-06-08T11:05:46.000000000",
          "2025-06-08T11:21:01.000000000",
          "2025-06-08T11:28:51.000000000",
          "2025-06-08T14:28:04.000000000",
          "2025-06-08T17:51:26.000000000",
          "2025-06-09T09:56:06.000000000",
          "2025-06-10T10:28:53.000000000",
          "2025-06-10T11:03:37.000000000",
          "2025-06-10T11:51:12.000000000",
          "2025-06-10T17:13:45.000000000",
          "2025-06-10T18:32:38.000000000",
          "2025-06-11T08:03:37.000000000",
          "2025-06-11T08:54:26.000000000",
          "2025-06-11T09:18:27.000000000",
          "2025-06-11T12:13:42.000000000",
          "2025-06-11T12:55:04.000000000",
          "2025-06-11T13:57:34.000000000",
          "2025-06-11T16:29:26.000000000",
          "2025-06-12T16:27:42.000000000",
          "2025-06-12T18:57:53.000000000",
          "2025-06-13T10:42:41.000000000",
          "2025-06-13T16:53:00.000000000",
          "2025-06-13T19:09:45.000000000",
          "2025-06-13T19:21:51.000000000",
          "2025-06-14T10:33:59.000000000",
          "2025-06-14T11:42:58.000000000",
          "2025-06-14T13:59:34.000000000",
          "2025-06-14T14:02:00.000000000",
          "2025-06-14T14:20:54.000000000",
          "2025-06-14T15:25:44.000000000",
          "2025-06-14T15:27:26.000000000",
          "2025-06-14T15:46:50.000000000",
          "2025-06-14T16:43:47.000000000",
          "2025-06-14T17:01:24.000000000",
          "2025-06-16T08:47:34.000000000",
          "2025-06-16T12:57:58.000000000",
          "2025-06-16T15:13:55.000000000",
          "2025-06-16T17:54:49.000000000",
          "2025-06-17T08:42:52.000000000",
          "2025-06-17T12:08:59.000000000",
          "2025-06-17T14:43:53.000000000",
          "2025-06-17T18:40:39.000000000",
          "2025-06-18T10:27:08.000000000",
          "2025-06-18T20:59:33.000000000",
          "2025-06-19T08:59:19.000000000",
          "2025-06-19T11:45:44.000000000",
          "2025-06-20T13:48:57.000000000",
          "2025-06-20T17:47:45.000000000",
          "2025-06-21T17:25:56.000000000",
          "2025-06-21T18:53:00.000000000",
          "2025-06-22T10:05:41.000000000",
          "2025-06-22T13:25:07.000000000",
          "2025-06-22T13:32:30.000000000",
          "2025-06-22T15:28:57.000000000",
          "2025-06-22T17:13:34.000000000",
          "2025-06-23T19:50:35.000000000",
          "2025-06-24T15:35:45.000000000",
          "2025-06-24T16:41:17.000000000",
          "2025-06-24T16:51:38.000000000",
          "2025-06-25T08:55:07.000000000",
          "2025-06-25T11:53:40.000000000",
          "2025-06-25T12:54:43.000000000",
          "2025-06-25T14:17:48.000000000",
          "2025-06-26T17:38:41.000000000",
          "2025-06-27T08:39:09.000000000",
          "2025-06-27T16:28:57.000000000",
          "2025-06-27T20:55:14.000000000",
          "2025-06-28T10:43:46.000000000",
          "2025-06-28T11:46:57.000000000",
          "2025-06-28T13:17:10.000000000",
          "2025-06-28T17:14:12.000000000",
          "2025-06-29T10:54:56.000000000",
          "2025-06-29T10:55:21.000000000",
          "2025-06-29T14:11:37.000000000",
          "2025-06-29T14:32:48.000000000",
          "2025-06-29T15:13:43.000000000",
          "2025-06-29T16:01:11.000000000",
          "2025-06-29T16:23:14.000000000",
          "2025-06-29T16:39:47.000000000",
          "2025-06-30T09:29:08.000000000",
          "2025-06-30T10:39:34.000000000"
         ],
         "y": {
          "bdata": "AAAAAAAAJkAAAAAAAAAoQAAAAAAAACRAAAAAAACAJEBmZmZmZmYmQFVVVVVVVShAkiRJkiRJKkBJkiRJkiQrQG7btm3btidAkiRJkiRJKEC3bdu2bdsqQEmSJEmSJCtAbtu2bdu2J0Dbtm3btm0nQEmSJEmSJCdAt23btm3bKkCSJEmSJEksQLdt27Zt2yhAJUmSJEmSJkDbtm3btm0nQNu2bdu2bSNAkiRJkiRJIkC3bdu2bdsiQCVJkiRJkiRA27Zt27ZtI0Dbtm3btm0jQCVJkiRJkiJAbtu2bdu2I0AlSZIkSZIiQJIkSZIkSR5AJUmSJEmSFEAAAAAAAAAcQCVJkiRJkhxAkiRJkiRJIkAAAAAAAAAiQLdt27Zt2yJAbtu2bdu2JUAlSZIkSZIqQLdt27Zt2yZAJUmSJEmSJkAlSZIkSZImQAAAAAAAACZAt23btm3bJEDbtm3btm0hQAAAAAAAABxAbtu2bdu2IUCSJEmSJEkgQLdt27Zt2x5At23btm3bIEC3bdu2bdsgQNu2bdu2bSFAt23btm3bIEAlSZIkSZIcQAAAAAAAACBAAAAAAAAAHEBu27Zt27YZQCVJkiRJkhhAt23btm3bIEAlSZIkSZIkQG7btm3btiVAAAAAAAAAJEC3bdu2bdskQCVJkiRJkiZAt23btm3bKEBJkiRJkiQnQLdt27Zt2yZAt23btm3bJkBJkiRJkiQpQLdt27Zt2yZAt23btm3bKEBu27Zt27YrQAAAAAAAACxAAAAAAAAAKkC3bdu2bdsoQCVJkiRJkihAAAAAAAAAKkAlSZIkSZIoQAAAAAAAAChAkiRJkiRJKEBu27Zt27YpQCVJkiRJkihAt23btm3bKECSJEmSJEkoQCVJkiRJkiZAkiRJkiRJJkBJkiRJkiQlQNu2bdu2bSNA27Zt27ZtJUCSJEmSJEkmQAAAAAAAAChAbtu2bdu2KUBJkiRJkiQnQAAAAAAAACRAbtu2bdu2IUAAAAAAAAAiQNu2bdu2bR9A27Zt27ZtIUC3bdu2bdsgQG7btm3btiNASZIkSZIkJUA=",
          "dtype": "f8"
         },
         "yaxis": "y2"
        }
       ],
       "layout": {
        "legend": {
         "x": 0.01,
         "y": 0.99
        },
        "margin": {
         "b": 40,
         "l": 40,
         "r": 40,
         "t": 60
        },
        "template": {
         "data": {
          "bar": [
           {
            "error_x": {
             "color": "#2a3f5f"
            },
            "error_y": {
             "color": "#2a3f5f"
            },
            "marker": {
             "line": {
              "color": "#E5ECF6",
              "width": 0.5
             },
             "pattern": {
              "fillmode": "overlay",
              "size": 10,
              "solidity": 0.2
             }
            },
            "type": "bar"
           }
          ],
          "barpolar": [
           {
            "marker": {
             "line": {
              "color": "#E5ECF6",
              "width": 0.5
             },
             "pattern": {
              "fillmode": "overlay",
              "size": 10,
              "solidity": 0.2
             }
            },
            "type": "barpolar"
           }
          ],
          "carpet": [
           {
            "aaxis": {
             "endlinecolor": "#2a3f5f",
             "gridcolor": "white",
             "linecolor": "white",
             "minorgridcolor": "white",
             "startlinecolor": "#2a3f5f"
            },
            "baxis": {
             "endlinecolor": "#2a3f5f",
             "gridcolor": "white",
             "linecolor": "white",
             "minorgridcolor": "white",
             "startlinecolor": "#2a3f5f"
            },
            "type": "carpet"
           }
          ],
          "choropleth": [
           {
            "colorbar": {
             "outlinewidth": 0,
             "ticks": ""
            },
            "type": "choropleth"
           }
          ],
          "contour": [
           {
            "colorbar": {
             "outlinewidth": 0,
             "ticks": ""
            },
            "colorscale": [
             [
              0,
              "#0d0887"
             ],
             [
              0.1111111111111111,
              "#46039f"
             ],
             [
              0.2222222222222222,
              "#7201a8"
             ],
             [
              0.3333333333333333,
              "#9c179e"
             ],
             [
              0.4444444444444444,
              "#bd3786"
             ],
             [
              0.5555555555555556,
              "#d8576b"
             ],
             [
              0.6666666666666666,
              "#ed7953"
             ],
             [
              0.7777777777777778,
              "#fb9f3a"
             ],
             [
              0.8888888888888888,
              "#fdca26"
             ],
             [
              1,
              "#f0f921"
             ]
            ],
            "type": "contour"
           }
          ],
          "contourcarpet": [
           {
            "colorbar": {
             "outlinewidth": 0,
             "ticks": ""
            },
            "type": "contourcarpet"
           }
          ],
          "heatmap": [
           {
            "colorbar": {
             "outlinewidth": 0,
             "ticks": ""
            },
            "colorscale": [
             [
              0,
              "#0d0887"
             ],
             [
              0.1111111111111111,
              "#46039f"
             ],
             [
              0.2222222222222222,
              "#7201a8"
             ],
             [
              0.3333333333333333,
              "#9c179e"
             ],
             [
              0.4444444444444444,
              "#bd3786"
             ],
             [
              0.5555555555555556,
              "#d8576b"
             ],
             [
              0.6666666666666666,
              "#ed7953"
             ],
             [
              0.7777777777777778,
              "#fb9f3a"
             ],
             [
              0.8888888888888888,
              "#fdca26"
             ],
             [
              1,
              "#f0f921"
             ]
            ],
            "type": "heatmap"
           }
          ],
          "histogram": [
           {
            "marker": {
             "pattern": {
              "fillmode": "overlay",
              "size": 10,
              "solidity": 0.2
             }
            },
            "type": "histogram"
           }
          ],
          "histogram2d": [
           {
            "colorbar": {
             "outlinewidth": 0,
             "ticks": ""
            },
            "colorscale": [
             [
              0,
              "#0d0887"
             ],
             [
              0.1111111111111111,
              "#46039f"
             ],
             [
              0.2222222222222222,
              "#7201a8"
             ],
             [
              0.3333333333333333,
              "#9c179e"
             ],
             [
              0.4444444444444444,
              "#bd3786"
             ],
             [
              0.5555555555555556,
              "#d8576b"
             ],
             [
              0.6666666666666666,
              "#ed7953"
             ],
             [
              0.7777777777777778,
              "#fb9f3a"
             ],
             [
              0.8888888888888888,
              "#fdca26"
             ],
             [
              1,
              "#f0f921"
             ]
            ],
            "type": "histogram2d"
           }
          ],
          "histogram2dcontour": [
           {
            "colorbar": {
             "outlinewidth": 0,
             "ticks": ""
            },
            "colorscale": [
             [
              0,
              "#0d0887"
             ],
             [
              0.1111111111111111,
              "#46039f"
             ],
             [
              0.2222222222222222,
              "#7201a8"
             ],
             [
              0.3333333333333333,
              "#9c179e"
             ],
             [
              0.4444444444444444,
              "#bd3786"
             ],
             [
              0.5555555555555556,
              "#d8576b"
             ],
             [
              0.6666666666666666,
              "#ed7953"
             ],
             [
              0.7777777777777778,
              "#fb9f3a"
             ],
             [
              0.8888888888888888,
              "#fdca26"
             ],
             [
              1,
              "#f0f921"
             ]
            ],
            "type": "histogram2dcontour"
           }
          ],
          "mesh3d": [
           {
            "colorbar": {
             "outlinewidth": 0,
             "ticks": ""
            },
            "type": "mesh3d"
           }
          ],
          "parcoords": [
           {
            "line": {
             "colorbar": {
              "outlinewidth": 0,
              "ticks": ""
             }
            },
            "type": "parcoords"
           }
          ],
          "pie": [
           {
            "automargin": true,
            "type": "pie"
           }
          ],
          "scatter": [
           {
            "fillpattern": {
             "fillmode": "overlay",
             "size": 10,
             "solidity": 0.2
            },
            "type": "scatter"
           }
          ],
          "scatter3d": [
           {
            "line": {
             "colorbar": {
              "outlinewidth": 0,
              "ticks": ""
             }
            },
            "marker": {
             "colorbar": {
              "outlinewidth": 0,
              "ticks": ""
             }
            },
            "type": "scatter3d"
           }
          ],
          "scattercarpet": [
           {
            "marker": {
             "colorbar": {
              "outlinewidth": 0,
              "ticks": ""
             }
            },
            "type": "scattercarpet"
           }
          ],
          "scattergeo": [
           {
            "marker": {
             "colorbar": {
              "outlinewidth": 0,
              "ticks": ""
             }
            },
            "type": "scattergeo"
           }
          ],
          "scattergl": [
           {
            "marker": {
             "colorbar": {
              "outlinewidth": 0,
              "ticks": ""
             }
            },
            "type": "scattergl"
           }
          ],
          "scattermap": [
           {
            "marker": {
             "colorbar": {
              "outlinewidth": 0,
              "ticks": ""
             }
            },
            "type": "scattermap"
           }
          ],
          "scattermapbox": [
           {
            "marker": {
             "colorbar": {
              "outlinewidth": 0,
              "ticks": ""
             }
            },
            "type": "scattermapbox"
           }
          ],
          "scatterpolar": [
           {
            "marker": {
             "colorbar": {
              "outlinewidth": 0,
              "ticks": ""
             }
            },
            "type": "scatterpolar"
           }
          ],
          "scatterpolargl": [
           {
            "marker": {
             "colorbar": {
              "outlinewidth": 0,
              "ticks": ""
             }
            },
            "type": "scatterpolargl"
           }
          ],
          "scatterternary": [
           {
            "marker": {
             "colorbar": {
              "outlinewidth": 0,
              "ticks": ""
             }
            },
            "type": "scatterternary"
           }
          ],
          "surface": [
           {
            "colorbar": {
             "outlinewidth": 0,
             "ticks": ""
            },
            "colorscale": [
             [
              0,
              "#0d0887"
             ],
             [
              0.1111111111111111,
              "#46039f"
             ],
             [
              0.2222222222222222,
              "#7201a8"
             ],
             [
              0.3333333333333333,
              "#9c179e"
             ],
             [
              0.4444444444444444,
              "#bd3786"
             ],
             [
              0.5555555555555556,
              "#d8576b"
             ],
             [
              0.6666666666666666,
              "#ed7953"
             ],
             [
              0.7777777777777778,
              "#fb9f3a"
             ],
             [
              0.8888888888888888,
              "#fdca26"
             ],
             [
              1,
              "#f0f921"
             ]
            ],
            "type": "surface"
           }
          ],
          "table": [
           {
            "cells": {
             "fill": {
              "color": "#EBF0F8"
             },
             "line": {
              "color": "white"
             }
            },
            "header": {
             "fill": {
              "color": "#C8D4E3"
             },
             "line": {
              "color": "white"
             }
            },
            "type": "table"
           }
          ]
         },
         "layout": {
          "annotationdefaults": {
           "arrowcolor": "#2a3f5f",
           "arrowhead": 0,
           "arrowwidth": 1
          },
          "autotypenumbers": "strict",
          "coloraxis": {
           "colorbar": {
            "outlinewidth": 0,
            "ticks": ""
           }
          },
          "colorscale": {
           "diverging": [
            [
             0,
             "#8e0152"
            ],
            [
             0.1,
             "#c51b7d"
            ],
            [
             0.2,
             "#de77ae"
            ],
            [
             0.3,
             "#f1b6da"
            ],
            [
             0.4,
             "#fde0ef"
            ],
            [
             0.5,
             "#f7f7f7"
            ],
            [
             0.6,
             "#e6f5d0"
            ],
            [
             0.7,
             "#b8e186"
            ],
            [
             0.8,
             "#7fbc41"
            ],
            [
             0.9,
             "#4d9221"
            ],
            [
             1,
             "#276419"
            ]
           ],
           "sequential": [
            [
             0,
             "#0d0887"
            ],
            [
             0.1111111111111111,
             "#46039f"
            ],
            [
             0.2222222222222222,
             "#7201a8"
            ],
            [
             0.3333333333333333,
             "#9c179e"
            ],
            [
             0.4444444444444444,
             "#bd3786"
            ],
            [
             0.5555555555555556,
             "#d8576b"
            ],
            [
             0.6666666666666666,
             "#ed7953"
            ],
            [
             0.7777777777777778,
             "#fb9f3a"
            ],
            [
             0.8888888888888888,
             "#fdca26"
            ],
            [
             1,
             "#f0f921"
            ]
           ],
           "sequentialminus": [
            [
             0,
             "#0d0887"
            ],
            [
             0.1111111111111111,
             "#46039f"
            ],
            [
             0.2222222222222222,
             "#7201a8"
            ],
            [
             0.3333333333333333,
             "#9c179e"
            ],
            [
             0.4444444444444444,
             "#bd3786"
            ],
            [
             0.5555555555555556,
             "#d8576b"
            ],
            [
             0.6666666666666666,
             "#ed7953"
            ],
            [
             0.7777777777777778,
             "#fb9f3a"
            ],
            [
             0.8888888888888888,
             "#fdca26"
            ],
            [
             1,
             "#f0f921"
            ]
           ]
          },
          "colorway": [
           "#636efa",
           "#EF553B",
           "#00cc96",
           "#ab63fa",
           "#FFA15A",
           "#19d3f3",
           "#FF6692",
           "#B6E880",
           "#FF97FF",
           "#FECB52"
          ],
          "font": {
           "color": "#2a3f5f"
          },
          "geo": {
           "bgcolor": "white",
           "lakecolor": "white",
           "landcolor": "#E5ECF6",
           "showlakes": true,
           "showland": true,
           "subunitcolor": "white"
          },
          "hoverlabel": {
           "align": "left"
          },
          "hovermode": "closest",
          "mapbox": {
           "style": "light"
          },
          "paper_bgcolor": "white",
          "plot_bgcolor": "#E5ECF6",
          "polar": {
           "angularaxis": {
            "gridcolor": "white",
            "linecolor": "white",
            "ticks": ""
           },
           "bgcolor": "#E5ECF6",
           "radialaxis": {
            "gridcolor": "white",
            "linecolor": "white",
            "ticks": ""
           }
          },
          "scene": {
           "xaxis": {
            "backgroundcolor": "#E5ECF6",
            "gridcolor": "white",
            "gridwidth": 2,
            "linecolor": "white",
            "showbackground": true,
            "ticks": "",
            "zerolinecolor": "white"
           },
           "yaxis": {
            "backgroundcolor": "#E5ECF6",
            "gridcolor": "white",
            "gridwidth": 2,
            "linecolor": "white",
            "showbackground": true,
            "ticks": "",
            "zerolinecolor": "white"
           },
           "zaxis": {
            "backgroundcolor": "#E5ECF6",
            "gridcolor": "white",
            "gridwidth": 2,
            "linecolor": "white",
            "showbackground": true,
            "ticks": "",
            "zerolinecolor": "white"
           }
          },
          "shapedefaults": {
           "line": {
            "color": "#2a3f5f"
           }
          },
          "ternary": {
           "aaxis": {
            "gridcolor": "white",
            "linecolor": "white",
            "ticks": ""
           },
           "baxis": {
            "gridcolor": "white",
            "linecolor": "white",
            "ticks": ""
           },
           "bgcolor": "#E5ECF6",
           "caxis": {
            "gridcolor": "white",
            "linecolor": "white",
            "ticks": ""
           }
          },
          "title": {
           "x": 0.05
          },
          "xaxis": {
           "automargin": true,
           "gridcolor": "white",
           "linecolor": "white",
           "ticks": "",
           "title": {
            "standoff": 15
           },
           "zerolinecolor": "white",
           "zerolinewidth": 2
          },
          "yaxis": {
           "automargin": true,
           "gridcolor": "white",
           "linecolor": "white",
           "ticks": "",
           "title": {
            "standoff": 15
           },
           "zerolinecolor": "white",
           "zerolinewidth": 2
          }
         }
        },
        "title": {
         "font": {
          "family": "Arial",
          "size": 20
         },
         "text": "7-day Rolling Averages: Budget & Quantity"
        },
        "xaxis": {
         "title": {
          "text": "Date"
         }
        },
        "yaxis": {
         "title": {
          "text": "Budget"
         }
        },
        "yaxis2": {
         "overlaying": "y",
         "side": "right",
         "title": {
          "text": "Quantity"
         }
        }
       }
      }
     },
     "metadata": {},
     "output_type": "display_data"
    },
    {
     "data": {
      "application/vnd.plotly.v1+json": {
       "config": {
        "plotlyServerURL": "https://plot.ly"
       },
       "data": [
        {
         "hovertemplate": "Cluster=0<br>PCA1=%{x}<br>PCA2=%{y}<extra></extra>",
         "legendgroup": "0",
         "marker": {
          "color": "rgb(102,194,165)",
          "symbol": "circle"
         },
         "mode": "markers",
         "name": "0",
         "orientation": "v",
         "showlegend": true,
         "type": "scatter",
         "x": {
          "bdata": "OZKIUgDV7j/NKRVIogXLP+9zqfh2lOE/xi6tdOB1A0ApjrwDd5nuPyIpUKDMkwFAH2zRtMk4pr96oqASrMQGQF8vtHs8K/w/pbHpyYnV7j+pGd89600KQAJFvjuyhOk/RfeQ26VcA0C0uSv5Vn7Vv1aZDDMQdw1AxjAuRILnAUAYk7DJeIC/vw==",
          "dtype": "f8"
         },
         "xaxis": "x",
         "y": {
          "bdata": "0izgNPm657/CvOQUcnn7v2WYB9E1j/K/DtDfqJK/7r9f6KmsfdzxvxCNSfPZI+q/ascCwEsbyz/2aDT4ckflv6ALxloLyPi/nlD3H9Tg/L8AGrcelRjVv0H+4/XoBdS/gn/sGLhi3r8ayOLFMnKqP6MXD0omP+S//gPWOzqe6z/iHo3SlBf5vw==",
          "dtype": "f8"
         },
         "yaxis": "y"
        },
        {
         "hovertemplate": "Cluster=2<br>PCA1=%{x}<br>PCA2=%{y}<extra></extra>",
         "legendgroup": "2",
         "marker": {
          "color": "rgb(252,141,98)",
          "symbol": "circle"
         },
         "mode": "markers",
         "name": "2",
         "orientation": "v",
         "showlegend": true,
         "type": "scatter",
         "x": {
          "bdata": "XZm/NtOZ8T82yMBzRiPyv6y5Ux+5ifc/Q1qDiXwT3r957nEqnLfbv5n83GxSXeO/ZLNPME1mzT+MAZLm5CHxv89INZnUA/4/AeEhVUTEgD9KBU8a7U7Kv/2IgNw4Stu/Vl01SKss8r8B7zeXby7fPxHq2wa0Jus/3QWBpJ6O2z/BRFXNz0fQv1qhc5Vu8PM/",
          "dtype": "f8"
         },
         "xaxis": "x",
         "y": {
          "bdata": "e/HTpN3s9b+DEAI1Umj3v+etIDp36PC/zQstN1U28789U6df7hUAwAf4nWaluve/iLPU0O7J97/MskTi8OAAwPII8ZZ2gei/aoy6pg+Y+L+E/AV9boP9v4U0OZdHd/6/cVRM52CoBMDk08PV8Pj8v5J5vfJ1XOi/1vPCP+RS7b89DkLKY5YAwLyD8dAJh/q/",
          "dtype": "f8"
         },
         "yaxis": "y"
        },
        {
         "hovertemplate": "Cluster=3<br>PCA1=%{x}<br>PCA2=%{y}<extra></extra>",
         "legendgroup": "3",
         "marker": {
          "color": "rgb(141,160,203)",
          "symbol": "circle"
         },
         "mode": "markers",
         "name": "3",
         "orientation": "v",
         "showlegend": true,
         "type": "scatter",
         "x": {
          "bdata": "jZwsPhZ/t79GSEmPVC/xP3yXH5NvXfI/6BoILfZ0+T95docmngbQP7ukf8s/kfA/vSj9vRI14r/PreRLw07lvy38XxZ43P4/X3gIjByqAUBQshMEHbDlP+c7TQArntI/g7R/TRKj6D+8A+zORCHJP+es1wy+HABAT0ElBLQf0r90G02xTyvxP4L5/Ig1N/w/+Whu6gYr4T8=",
          "dtype": "f8"
         },
         "xaxis": "x",
         "y": {
          "bdata": "cRmcUdHTy78sqHdagJDmP9aJcJwp5OI/+bxjt6xQ4j/a4wZrgvzMv5i+st54TrK/COdGm2v44r9ypQ9SsIzOP4MtHZtGk/M/0HzVVyKm8T/JAYU22krWv+9Zlkb5SOE/GehE4ZeUp78+wa7fF+LEvz40errmIe4/Q7olRUYl0b9hR91JQSrgP8FgOdzk2/E/QQHn48kw0j8=",
          "dtype": "f8"
         },
         "yaxis": "y"
        },
        {
         "hovertemplate": "Cluster=1<br>PCA1=%{x}<br>PCA2=%{y}<extra></extra>",
         "legendgroup": "1",
         "marker": {
          "color": "rgb(231,138,195)",
          "symbol": "circle"
         },
         "mode": "markers",
         "name": "1",
         "orientation": "v",
         "showlegend": true,
         "type": "scatter",
         "x": {
          "bdata": "whAQmXnD8z+9MDdgQe/lv+Qq1gr3Osk/2/QgUdpf0j/jEQsBIuvnv03XeIu+tf6/21bZqhAq7T8uU877iHXwv/JBBObYses/zPooy3bl9r8yfr+WVnfzP/Pnj+8G4ew/8fwmA8HK+L9/Y4jGlz7wP1gUeQKODdq/hxOv7Yvv5r/NtOkzOz3bP/+FMyOGTLS/M0OrhEX26j+5lk9Deuvav1+POSRQcfe/Z/Cdl0Sx678oot1iiFnev6tkiRf9z++/",
          "dtype": "f8"
         },
         "xaxis": "x",
         "y": {
          "bdata": "9N9E1te9+j/rtHvgIx/5Pxx9sOZ4Wv4/jfvbDjIV9z/PA3vm8SH6PxVu4DGmkvk/xthJAGVt/z8atrG6kM/xPxDE3hyymABA3SxpcuGE9T8IxKuAzUUBQNTbYkVNYQBAf/0srIQE9D/spti10LsEQNyDkzrKdfc/z7IEovlY/T9prnY/s8H4P4GhyEl+lP0/74ZsGPXb/z8SB9BXX677P3vFQmDz3PQ/unT0HOoR/T83gRxJobz7P4Ci47txZO0/",
          "dtype": "f8"
         },
         "yaxis": "y"
        },
        {
         "hovertemplate": "Cluster=4<br>PCA1=%{x}<br>PCA2=%{y}<extra></extra>",
         "legendgroup": "4",
         "marker": {
          "color": "rgb(166,216,84)",
          "symbol": "circle"
         },
         "mode": "markers",
         "name": "4",
         "orientation": "v",
         "showlegend": true,
         "type": "scatter",
         "x": {
          "bdata": "oGQ5XXyMAcC2DzBsBvjzv61aeHcq3/6/8cnqMqto+L/jgykJoEjkv89gvejESgLAcCLcEp5ZBcCUJzCGqK3gvypLuDP9Gfa/swNvbjHhBMChS1JtTNEDwNUOSEzH9vS/f2NuJEcUAMAYEUVaewQBwNYNuQpzZ/K/vqTrxe6g+79F0Kcbsg7ovxQBwGQYzAHAM5TVD91x7b9Xj8iwHTj/vzJ1rIi1EwHAiX+l7fnC8L8=",
          "dtype": "f8"
         },
         "xaxis": "x",
         "y": {
          "bdata": "qPsuAAbQ9r/Ah+yjK8XVP3CdWvijSdC/o8SCwjyK0b8RB5xHBu7Zv/f9KJ6V9s8/UhFHni3E7T8b85CSCu3wv/mG4omXMfa/55PwuSST4j+XQJIQ+FvePzZdDtecquo/xwIfxrpezD/w+kMpOW3SP3WpC1f2Eu2/7Yv+RnVN+L8pArmMeyzxv280KwygGd8/wUC/YmGC1D/tgwFpG9H0vwdIvUj1O8Y/EtWIHKEJ778=",
          "dtype": "f8"
         },
         "yaxis": "y"
        }
       ],
       "layout": {
        "legend": {
         "title": {
          "text": "Cluster"
         },
         "tracegroupgap": 0
        },
        "template": {
         "data": {
          "bar": [
           {
            "error_x": {
             "color": "#2a3f5f"
            },
            "error_y": {
             "color": "#2a3f5f"
            },
            "marker": {
             "line": {
              "color": "#E5ECF6",
              "width": 0.5
             },
             "pattern": {
              "fillmode": "overlay",
              "size": 10,
              "solidity": 0.2
             }
            },
            "type": "bar"
           }
          ],
          "barpolar": [
           {
            "marker": {
             "line": {
              "color": "#E5ECF6",
              "width": 0.5
             },
             "pattern": {
              "fillmode": "overlay",
              "size": 10,
              "solidity": 0.2
             }
            },
            "type": "barpolar"
           }
          ],
          "carpet": [
           {
            "aaxis": {
             "endlinecolor": "#2a3f5f",
             "gridcolor": "white",
             "linecolor": "white",
             "minorgridcolor": "white",
             "startlinecolor": "#2a3f5f"
            },
            "baxis": {
             "endlinecolor": "#2a3f5f",
             "gridcolor": "white",
             "linecolor": "white",
             "minorgridcolor": "white",
             "startlinecolor": "#2a3f5f"
            },
            "type": "carpet"
           }
          ],
          "choropleth": [
           {
            "colorbar": {
             "outlinewidth": 0,
             "ticks": ""
            },
            "type": "choropleth"
           }
          ],
          "contour": [
           {
            "colorbar": {
             "outlinewidth": 0,
             "ticks": ""
            },
            "colorscale": [
             [
              0,
              "#0d0887"
             ],
             [
              0.1111111111111111,
              "#46039f"
             ],
             [
              0.2222222222222222,
              "#7201a8"
             ],
             [
              0.3333333333333333,
              "#9c179e"
             ],
             [
              0.4444444444444444,
              "#bd3786"
             ],
             [
              0.5555555555555556,
              "#d8576b"
             ],
             [
              0.6666666666666666,
              "#ed7953"
             ],
             [
              0.7777777777777778,
              "#fb9f3a"
             ],
             [
              0.8888888888888888,
              "#fdca26"
             ],
             [
              1,
              "#f0f921"
             ]
            ],
            "type": "contour"
           }
          ],
          "contourcarpet": [
           {
            "colorbar": {
             "outlinewidth": 0,
             "ticks": ""
            },
            "type": "contourcarpet"
           }
          ],
          "heatmap": [
           {
            "colorbar": {
             "outlinewidth": 0,
             "ticks": ""
            },
            "colorscale": [
             [
              0,
              "#0d0887"
             ],
             [
              0.1111111111111111,
              "#46039f"
             ],
             [
              0.2222222222222222,
              "#7201a8"
             ],
             [
              0.3333333333333333,
              "#9c179e"
             ],
             [
              0.4444444444444444,
              "#bd3786"
             ],
             [
              0.5555555555555556,
              "#d8576b"
             ],
             [
              0.6666666666666666,
              "#ed7953"
             ],
             [
              0.7777777777777778,
              "#fb9f3a"
             ],
             [
              0.8888888888888888,
              "#fdca26"
             ],
             [
              1,
              "#f0f921"
             ]
            ],
            "type": "heatmap"
           }
          ],
          "histogram": [
           {
            "marker": {
             "pattern": {
              "fillmode": "overlay",
              "size": 10,
              "solidity": 0.2
             }
            },
            "type": "histogram"
           }
          ],
          "histogram2d": [
           {
            "colorbar": {
             "outlinewidth": 0,
             "ticks": ""
            },
            "colorscale": [
             [
              0,
              "#0d0887"
             ],
             [
              0.1111111111111111,
              "#46039f"
             ],
             [
              0.2222222222222222,
              "#7201a8"
             ],
             [
              0.3333333333333333,
              "#9c179e"
             ],
             [
              0.4444444444444444,
              "#bd3786"
             ],
             [
              0.5555555555555556,
              "#d8576b"
             ],
             [
              0.6666666666666666,
              "#ed7953"
             ],
             [
              0.7777777777777778,
              "#fb9f3a"
             ],
             [
              0.8888888888888888,
              "#fdca26"
             ],
             [
              1,
              "#f0f921"
             ]
            ],
            "type": "histogram2d"
           }
          ],
          "histogram2dcontour": [
           {
            "colorbar": {
             "outlinewidth": 0,
             "ticks": ""
            },
            "colorscale": [
             [
              0,
              "#0d0887"
             ],
             [
              0.1111111111111111,
              "#46039f"
             ],
             [
              0.2222222222222222,
              "#7201a8"
             ],
             [
              0.3333333333333333,
              "#9c179e"
             ],
             [
              0.4444444444444444,
              "#bd3786"
             ],
             [
              0.5555555555555556,
              "#d8576b"
             ],
             [
              0.6666666666666666,
              "#ed7953"
             ],
             [
              0.7777777777777778,
              "#fb9f3a"
             ],
             [
              0.8888888888888888,
              "#fdca26"
             ],
             [
              1,
              "#f0f921"
             ]
            ],
            "type": "histogram2dcontour"
           }
          ],
          "mesh3d": [
           {
            "colorbar": {
             "outlinewidth": 0,
             "ticks": ""
            },
            "type": "mesh3d"
           }
          ],
          "parcoords": [
           {
            "line": {
             "colorbar": {
              "outlinewidth": 0,
              "ticks": ""
             }
            },
            "type": "parcoords"
           }
          ],
          "pie": [
           {
            "automargin": true,
            "type": "pie"
           }
          ],
          "scatter": [
           {
            "fillpattern": {
             "fillmode": "overlay",
             "size": 10,
             "solidity": 0.2
            },
            "type": "scatter"
           }
          ],
          "scatter3d": [
           {
            "line": {
             "colorbar": {
              "outlinewidth": 0,
              "ticks": ""
             }
            },
            "marker": {
             "colorbar": {
              "outlinewidth": 0,
              "ticks": ""
             }
            },
            "type": "scatter3d"
           }
          ],
          "scattercarpet": [
           {
            "marker": {
             "colorbar": {
              "outlinewidth": 0,
              "ticks": ""
             }
            },
            "type": "scattercarpet"
           }
          ],
          "scattergeo": [
           {
            "marker": {
             "colorbar": {
              "outlinewidth": 0,
              "ticks": ""
             }
            },
            "type": "scattergeo"
           }
          ],
          "scattergl": [
           {
            "marker": {
             "colorbar": {
              "outlinewidth": 0,
              "ticks": ""
             }
            },
            "type": "scattergl"
           }
          ],
          "scattermap": [
           {
            "marker": {
             "colorbar": {
              "outlinewidth": 0,
              "ticks": ""
             }
            },
            "type": "scattermap"
           }
          ],
          "scattermapbox": [
           {
            "marker": {
             "colorbar": {
              "outlinewidth": 0,
              "ticks": ""
             }
            },
            "type": "scattermapbox"
           }
          ],
          "scatterpolar": [
           {
            "marker": {
             "colorbar": {
              "outlinewidth": 0,
              "ticks": ""
             }
            },
            "type": "scatterpolar"
           }
          ],
          "scatterpolargl": [
           {
            "marker": {
             "colorbar": {
              "outlinewidth": 0,
              "ticks": ""
             }
            },
            "type": "scatterpolargl"
           }
          ],
          "scatterternary": [
           {
            "marker": {
             "colorbar": {
              "outlinewidth": 0,
              "ticks": ""
             }
            },
            "type": "scatterternary"
           }
          ],
          "surface": [
           {
            "colorbar": {
             "outlinewidth": 0,
             "ticks": ""
            },
            "colorscale": [
             [
              0,
              "#0d0887"
             ],
             [
              0.1111111111111111,
              "#46039f"
             ],
             [
              0.2222222222222222,
              "#7201a8"
             ],
             [
              0.3333333333333333,
              "#9c179e"
             ],
             [
              0.4444444444444444,
              "#bd3786"
             ],
             [
              0.5555555555555556,
              "#d8576b"
             ],
             [
              0.6666666666666666,
              "#ed7953"
             ],
             [
              0.7777777777777778,
              "#fb9f3a"
             ],
             [
              0.8888888888888888,
              "#fdca26"
             ],
             [
              1,
              "#f0f921"
             ]
            ],
            "type": "surface"
           }
          ],
          "table": [
           {
            "cells": {
             "fill": {
              "color": "#EBF0F8"
             },
             "line": {
              "color": "white"
             }
            },
            "header": {
             "fill": {
              "color": "#C8D4E3"
             },
             "line": {
              "color": "white"
             }
            },
            "type": "table"
           }
          ]
         },
         "layout": {
          "annotationdefaults": {
           "arrowcolor": "#2a3f5f",
           "arrowhead": 0,
           "arrowwidth": 1
          },
          "autotypenumbers": "strict",
          "coloraxis": {
           "colorbar": {
            "outlinewidth": 0,
            "ticks": ""
           }
          },
          "colorscale": {
           "diverging": [
            [
             0,
             "#8e0152"
            ],
            [
             0.1,
             "#c51b7d"
            ],
            [
             0.2,
             "#de77ae"
            ],
            [
             0.3,
             "#f1b6da"
            ],
            [
             0.4,
             "#fde0ef"
            ],
            [
             0.5,
             "#f7f7f7"
            ],
            [
             0.6,
             "#e6f5d0"
            ],
            [
             0.7,
             "#b8e186"
            ],
            [
             0.8,
             "#7fbc41"
            ],
            [
             0.9,
             "#4d9221"
            ],
            [
             1,
             "#276419"
            ]
           ],
           "sequential": [
            [
             0,
             "#0d0887"
            ],
            [
             0.1111111111111111,
             "#46039f"
            ],
            [
             0.2222222222222222,
             "#7201a8"
            ],
            [
             0.3333333333333333,
             "#9c179e"
            ],
            [
             0.4444444444444444,
             "#bd3786"
            ],
            [
             0.5555555555555556,
             "#d8576b"
            ],
            [
             0.6666666666666666,
             "#ed7953"
            ],
            [
             0.7777777777777778,
             "#fb9f3a"
            ],
            [
             0.8888888888888888,
             "#fdca26"
            ],
            [
             1,
             "#f0f921"
            ]
           ],
           "sequentialminus": [
            [
             0,
             "#0d0887"
            ],
            [
             0.1111111111111111,
             "#46039f"
            ],
            [
             0.2222222222222222,
             "#7201a8"
            ],
            [
             0.3333333333333333,
             "#9c179e"
            ],
            [
             0.4444444444444444,
             "#bd3786"
            ],
            [
             0.5555555555555556,
             "#d8576b"
            ],
            [
             0.6666666666666666,
             "#ed7953"
            ],
            [
             0.7777777777777778,
             "#fb9f3a"
            ],
            [
             0.8888888888888888,
             "#fdca26"
            ],
            [
             1,
             "#f0f921"
            ]
           ]
          },
          "colorway": [
           "#636efa",
           "#EF553B",
           "#00cc96",
           "#ab63fa",
           "#FFA15A",
           "#19d3f3",
           "#FF6692",
           "#B6E880",
           "#FF97FF",
           "#FECB52"
          ],
          "font": {
           "color": "#2a3f5f"
          },
          "geo": {
           "bgcolor": "white",
           "lakecolor": "white",
           "landcolor": "#E5ECF6",
           "showlakes": true,
           "showland": true,
           "subunitcolor": "white"
          },
          "hoverlabel": {
           "align": "left"
          },
          "hovermode": "closest",
          "mapbox": {
           "style": "light"
          },
          "paper_bgcolor": "white",
          "plot_bgcolor": "#E5ECF6",
          "polar": {
           "angularaxis": {
            "gridcolor": "white",
            "linecolor": "white",
            "ticks": ""
           },
           "bgcolor": "#E5ECF6",
           "radialaxis": {
            "gridcolor": "white",
            "linecolor": "white",
            "ticks": ""
           }
          },
          "scene": {
           "xaxis": {
            "backgroundcolor": "#E5ECF6",
            "gridcolor": "white",
            "gridwidth": 2,
            "linecolor": "white",
            "showbackground": true,
            "ticks": "",
            "zerolinecolor": "white"
           },
           "yaxis": {
            "backgroundcolor": "#E5ECF6",
            "gridcolor": "white",
            "gridwidth": 2,
            "linecolor": "white",
            "showbackground": true,
            "ticks": "",
            "zerolinecolor": "white"
           },
           "zaxis": {
            "backgroundcolor": "#E5ECF6",
            "gridcolor": "white",
            "gridwidth": 2,
            "linecolor": "white",
            "showbackground": true,
            "ticks": "",
            "zerolinecolor": "white"
           }
          },
          "shapedefaults": {
           "line": {
            "color": "#2a3f5f"
           }
          },
          "ternary": {
           "aaxis": {
            "gridcolor": "white",
            "linecolor": "white",
            "ticks": ""
           },
           "baxis": {
            "gridcolor": "white",
            "linecolor": "white",
            "ticks": ""
           },
           "bgcolor": "#E5ECF6",
           "caxis": {
            "gridcolor": "white",
            "linecolor": "white",
            "ticks": ""
           }
          },
          "title": {
           "x": 0.05
          },
          "xaxis": {
           "automargin": true,
           "gridcolor": "white",
           "linecolor": "white",
           "ticks": "",
           "title": {
            "standoff": 15
           },
           "zerolinecolor": "white",
           "zerolinewidth": 2
          },
          "yaxis": {
           "automargin": true,
           "gridcolor": "white",
           "linecolor": "white",
           "ticks": "",
           "title": {
            "standoff": 15
           },
           "zerolinecolor": "white",
           "zerolinewidth": 2
          }
         }
        },
        "title": {
         "text": "PCA Scatter by KMeans Cluster (k=5, Silhouette=0.22)"
        },
        "xaxis": {
         "anchor": "y",
         "domain": [
          0,
          1
         ],
         "title": {
          "text": "PCA1"
         }
        },
        "yaxis": {
         "anchor": "x",
         "domain": [
          0,
          1
         ],
         "title": {
          "text": "PCA2"
         }
        }
       }
      }
     },
     "metadata": {},
     "output_type": "display_data"
    },
    {
     "name": "stdout",
     "output_type": "stream",
     "text": [
      "Best KMeans k=5, silhouette=0.216\n",
      "RidgeCV: RMSE=0.00, R2=1.00\n",
      "RandomForest: RMSE=2.35, R2=1.00\n",
      "RandomForest top features:\n",
      "  Budget: 0.993\n",
      "  Quantity: 0.003\n"
     ]
    },
    {
     "data": {
      "application/vnd.plotly.v1+json": {
       "config": {
        "plotlyServerURL": "https://plot.ly"
       },
       "data": [
        {
         "hovertemplate": "color=Budget<br>Feature=%{x}<br>Importance=%{y}<extra></extra>",
         "legendgroup": "Budget",
         "marker": {
          "color": "rgb(102, 197, 204)",
          "pattern": {
           "shape": ""
          }
         },
         "name": "Budget",
         "orientation": "v",
         "showlegend": true,
         "textposition": "auto",
         "type": "bar",
         "x": [
          "Budget"
         ],
         "xaxis": "x",
         "y": {
          "bdata": "4EmRJY7D7z8=",
          "dtype": "f8"
         },
         "yaxis": "y"
        },
        {
         "hovertemplate": "color=Quantity<br>Feature=%{x}<br>Importance=%{y}<extra></extra>",
         "legendgroup": "Quantity",
         "marker": {
          "color": "rgb(246, 207, 113)",
          "pattern": {
           "shape": ""
          }
         },
         "name": "Quantity",
         "orientation": "v",
         "showlegend": true,
         "textposition": "auto",
         "type": "bar",
         "x": [
          "Quantity"
         ],
         "xaxis": "x",
         "y": {
          "bdata": "9JibzIQiZj8=",
          "dtype": "f8"
         },
         "yaxis": "y"
        }
       ],
       "layout": {
        "barmode": "relative",
        "legend": {
         "title": {
          "text": "color"
         },
         "tracegroupgap": 0
        },
        "template": {
         "data": {
          "bar": [
           {
            "error_x": {
             "color": "#2a3f5f"
            },
            "error_y": {
             "color": "#2a3f5f"
            },
            "marker": {
             "line": {
              "color": "#E5ECF6",
              "width": 0.5
             },
             "pattern": {
              "fillmode": "overlay",
              "size": 10,
              "solidity": 0.2
             }
            },
            "type": "bar"
           }
          ],
          "barpolar": [
           {
            "marker": {
             "line": {
              "color": "#E5ECF6",
              "width": 0.5
             },
             "pattern": {
              "fillmode": "overlay",
              "size": 10,
              "solidity": 0.2
             }
            },
            "type": "barpolar"
           }
          ],
          "carpet": [
           {
            "aaxis": {
             "endlinecolor": "#2a3f5f",
             "gridcolor": "white",
             "linecolor": "white",
             "minorgridcolor": "white",
             "startlinecolor": "#2a3f5f"
            },
            "baxis": {
             "endlinecolor": "#2a3f5f",
             "gridcolor": "white",
             "linecolor": "white",
             "minorgridcolor": "white",
             "startlinecolor": "#2a3f5f"
            },
            "type": "carpet"
           }
          ],
          "choropleth": [
           {
            "colorbar": {
             "outlinewidth": 0,
             "ticks": ""
            },
            "type": "choropleth"
           }
          ],
          "contour": [
           {
            "colorbar": {
             "outlinewidth": 0,
             "ticks": ""
            },
            "colorscale": [
             [
              0,
              "#0d0887"
             ],
             [
              0.1111111111111111,
              "#46039f"
             ],
             [
              0.2222222222222222,
              "#7201a8"
             ],
             [
              0.3333333333333333,
              "#9c179e"
             ],
             [
              0.4444444444444444,
              "#bd3786"
             ],
             [
              0.5555555555555556,
              "#d8576b"
             ],
             [
              0.6666666666666666,
              "#ed7953"
             ],
             [
              0.7777777777777778,
              "#fb9f3a"
             ],
             [
              0.8888888888888888,
              "#fdca26"
             ],
             [
              1,
              "#f0f921"
             ]
            ],
            "type": "contour"
           }
          ],
          "contourcarpet": [
           {
            "colorbar": {
             "outlinewidth": 0,
             "ticks": ""
            },
            "type": "contourcarpet"
           }
          ],
          "heatmap": [
           {
            "colorbar": {
             "outlinewidth": 0,
             "ticks": ""
            },
            "colorscale": [
             [
              0,
              "#0d0887"
             ],
             [
              0.1111111111111111,
              "#46039f"
             ],
             [
              0.2222222222222222,
              "#7201a8"
             ],
             [
              0.3333333333333333,
              "#9c179e"
             ],
             [
              0.4444444444444444,
              "#bd3786"
             ],
             [
              0.5555555555555556,
              "#d8576b"
             ],
             [
              0.6666666666666666,
              "#ed7953"
             ],
             [
              0.7777777777777778,
              "#fb9f3a"
             ],
             [
              0.8888888888888888,
              "#fdca26"
             ],
             [
              1,
              "#f0f921"
             ]
            ],
            "type": "heatmap"
           }
          ],
          "histogram": [
           {
            "marker": {
             "pattern": {
              "fillmode": "overlay",
              "size": 10,
              "solidity": 0.2
             }
            },
            "type": "histogram"
           }
          ],
          "histogram2d": [
           {
            "colorbar": {
             "outlinewidth": 0,
             "ticks": ""
            },
            "colorscale": [
             [
              0,
              "#0d0887"
             ],
             [
              0.1111111111111111,
              "#46039f"
             ],
             [
              0.2222222222222222,
              "#7201a8"
             ],
             [
              0.3333333333333333,
              "#9c179e"
             ],
             [
              0.4444444444444444,
              "#bd3786"
             ],
             [
              0.5555555555555556,
              "#d8576b"
             ],
             [
              0.6666666666666666,
              "#ed7953"
             ],
             [
              0.7777777777777778,
              "#fb9f3a"
             ],
             [
              0.8888888888888888,
              "#fdca26"
             ],
             [
              1,
              "#f0f921"
             ]
            ],
            "type": "histogram2d"
           }
          ],
          "histogram2dcontour": [
           {
            "colorbar": {
             "outlinewidth": 0,
             "ticks": ""
            },
            "colorscale": [
             [
              0,
              "#0d0887"
             ],
             [
              0.1111111111111111,
              "#46039f"
             ],
             [
              0.2222222222222222,
              "#7201a8"
             ],
             [
              0.3333333333333333,
              "#9c179e"
             ],
             [
              0.4444444444444444,
              "#bd3786"
             ],
             [
              0.5555555555555556,
              "#d8576b"
             ],
             [
              0.6666666666666666,
              "#ed7953"
             ],
             [
              0.7777777777777778,
              "#fb9f3a"
             ],
             [
              0.8888888888888888,
              "#fdca26"
             ],
             [
              1,
              "#f0f921"
             ]
            ],
            "type": "histogram2dcontour"
           }
          ],
          "mesh3d": [
           {
            "colorbar": {
             "outlinewidth": 0,
             "ticks": ""
            },
            "type": "mesh3d"
           }
          ],
          "parcoords": [
           {
            "line": {
             "colorbar": {
              "outlinewidth": 0,
              "ticks": ""
             }
            },
            "type": "parcoords"
           }
          ],
          "pie": [
           {
            "automargin": true,
            "type": "pie"
           }
          ],
          "scatter": [
           {
            "fillpattern": {
             "fillmode": "overlay",
             "size": 10,
             "solidity": 0.2
            },
            "type": "scatter"
           }
          ],
          "scatter3d": [
           {
            "line": {
             "colorbar": {
              "outlinewidth": 0,
              "ticks": ""
             }
            },
            "marker": {
             "colorbar": {
              "outlinewidth": 0,
              "ticks": ""
             }
            },
            "type": "scatter3d"
           }
          ],
          "scattercarpet": [
           {
            "marker": {
             "colorbar": {
              "outlinewidth": 0,
              "ticks": ""
             }
            },
            "type": "scattercarpet"
           }
          ],
          "scattergeo": [
           {
            "marker": {
             "colorbar": {
              "outlinewidth": 0,
              "ticks": ""
             }
            },
            "type": "scattergeo"
           }
          ],
          "scattergl": [
           {
            "marker": {
             "colorbar": {
              "outlinewidth": 0,
              "ticks": ""
             }
            },
            "type": "scattergl"
           }
          ],
          "scattermap": [
           {
            "marker": {
             "colorbar": {
              "outlinewidth": 0,
              "ticks": ""
             }
            },
            "type": "scattermap"
           }
          ],
          "scattermapbox": [
           {
            "marker": {
             "colorbar": {
              "outlinewidth": 0,
              "ticks": ""
             }
            },
            "type": "scattermapbox"
           }
          ],
          "scatterpolar": [
           {
            "marker": {
             "colorbar": {
              "outlinewidth": 0,
              "ticks": ""
             }
            },
            "type": "scatterpolar"
           }
          ],
          "scatterpolargl": [
           {
            "marker": {
             "colorbar": {
              "outlinewidth": 0,
              "ticks": ""
             }
            },
            "type": "scatterpolargl"
           }
          ],
          "scatterternary": [
           {
            "marker": {
             "colorbar": {
              "outlinewidth": 0,
              "ticks": ""
             }
            },
            "type": "scatterternary"
           }
          ],
          "surface": [
           {
            "colorbar": {
             "outlinewidth": 0,
             "ticks": ""
            },
            "colorscale": [
             [
              0,
              "#0d0887"
             ],
             [
              0.1111111111111111,
              "#46039f"
             ],
             [
              0.2222222222222222,
              "#7201a8"
             ],
             [
              0.3333333333333333,
              "#9c179e"
             ],
             [
              0.4444444444444444,
              "#bd3786"
             ],
             [
              0.5555555555555556,
              "#d8576b"
             ],
             [
              0.6666666666666666,
              "#ed7953"
             ],
             [
              0.7777777777777778,
              "#fb9f3a"
             ],
             [
              0.8888888888888888,
              "#fdca26"
             ],
             [
              1,
              "#f0f921"
             ]
            ],
            "type": "surface"
           }
          ],
          "table": [
           {
            "cells": {
             "fill": {
              "color": "#EBF0F8"
             },
             "line": {
              "color": "white"
             }
            },
            "header": {
             "fill": {
              "color": "#C8D4E3"
             },
             "line": {
              "color": "white"
             }
            },
            "type": "table"
           }
          ]
         },
         "layout": {
          "annotationdefaults": {
           "arrowcolor": "#2a3f5f",
           "arrowhead": 0,
           "arrowwidth": 1
          },
          "autotypenumbers": "strict",
          "coloraxis": {
           "colorbar": {
            "outlinewidth": 0,
            "ticks": ""
           }
          },
          "colorscale": {
           "diverging": [
            [
             0,
             "#8e0152"
            ],
            [
             0.1,
             "#c51b7d"
            ],
            [
             0.2,
             "#de77ae"
            ],
            [
             0.3,
             "#f1b6da"
            ],
            [
             0.4,
             "#fde0ef"
            ],
            [
             0.5,
             "#f7f7f7"
            ],
            [
             0.6,
             "#e6f5d0"
            ],
            [
             0.7,
             "#b8e186"
            ],
            [
             0.8,
             "#7fbc41"
            ],
            [
             0.9,
             "#4d9221"
            ],
            [
             1,
             "#276419"
            ]
           ],
           "sequential": [
            [
             0,
             "#0d0887"
            ],
            [
             0.1111111111111111,
             "#46039f"
            ],
            [
             0.2222222222222222,
             "#7201a8"
            ],
            [
             0.3333333333333333,
             "#9c179e"
            ],
            [
             0.4444444444444444,
             "#bd3786"
            ],
            [
             0.5555555555555556,
             "#d8576b"
            ],
            [
             0.6666666666666666,
             "#ed7953"
            ],
            [
             0.7777777777777778,
             "#fb9f3a"
            ],
            [
             0.8888888888888888,
             "#fdca26"
            ],
            [
             1,
             "#f0f921"
            ]
           ],
           "sequentialminus": [
            [
             0,
             "#0d0887"
            ],
            [
             0.1111111111111111,
             "#46039f"
            ],
            [
             0.2222222222222222,
             "#7201a8"
            ],
            [
             0.3333333333333333,
             "#9c179e"
            ],
            [
             0.4444444444444444,
             "#bd3786"
            ],
            [
             0.5555555555555556,
             "#d8576b"
            ],
            [
             0.6666666666666666,
             "#ed7953"
            ],
            [
             0.7777777777777778,
             "#fb9f3a"
            ],
            [
             0.8888888888888888,
             "#fdca26"
            ],
            [
             1,
             "#f0f921"
            ]
           ]
          },
          "colorway": [
           "#636efa",
           "#EF553B",
           "#00cc96",
           "#ab63fa",
           "#FFA15A",
           "#19d3f3",
           "#FF6692",
           "#B6E880",
           "#FF97FF",
           "#FECB52"
          ],
          "font": {
           "color": "#2a3f5f"
          },
          "geo": {
           "bgcolor": "white",
           "lakecolor": "white",
           "landcolor": "#E5ECF6",
           "showlakes": true,
           "showland": true,
           "subunitcolor": "white"
          },
          "hoverlabel": {
           "align": "left"
          },
          "hovermode": "closest",
          "mapbox": {
           "style": "light"
          },
          "paper_bgcolor": "white",
          "plot_bgcolor": "#E5ECF6",
          "polar": {
           "angularaxis": {
            "gridcolor": "white",
            "linecolor": "white",
            "ticks": ""
           },
           "bgcolor": "#E5ECF6",
           "radialaxis": {
            "gridcolor": "white",
            "linecolor": "white",
            "ticks": ""
           }
          },
          "scene": {
           "xaxis": {
            "backgroundcolor": "#E5ECF6",
            "gridcolor": "white",
            "gridwidth": 2,
            "linecolor": "white",
            "showbackground": true,
            "ticks": "",
            "zerolinecolor": "white"
           },
           "yaxis": {
            "backgroundcolor": "#E5ECF6",
            "gridcolor": "white",
            "gridwidth": 2,
            "linecolor": "white",
            "showbackground": true,
            "ticks": "",
            "zerolinecolor": "white"
           },
           "zaxis": {
            "backgroundcolor": "#E5ECF6",
            "gridcolor": "white",
            "gridwidth": 2,
            "linecolor": "white",
            "showbackground": true,
            "ticks": "",
            "zerolinecolor": "white"
           }
          },
          "shapedefaults": {
           "line": {
            "color": "#2a3f5f"
           }
          },
          "ternary": {
           "aaxis": {
            "gridcolor": "white",
            "linecolor": "white",
            "ticks": ""
           },
           "baxis": {
            "gridcolor": "white",
            "linecolor": "white",
            "ticks": ""
           },
           "bgcolor": "#E5ECF6",
           "caxis": {
            "gridcolor": "white",
            "linecolor": "white",
            "ticks": ""
           }
          },
          "title": {
           "x": 0.05
          },
          "xaxis": {
           "automargin": true,
           "gridcolor": "white",
           "linecolor": "white",
           "ticks": "",
           "title": {
            "standoff": 15
           },
           "zerolinecolor": "white",
           "zerolinewidth": 2
          },
          "yaxis": {
           "automargin": true,
           "gridcolor": "white",
           "linecolor": "white",
           "ticks": "",
           "title": {
            "standoff": 15
           },
           "zerolinecolor": "white",
           "zerolinewidth": 2
          }
         }
        },
        "title": {
         "text": "Top 2 Feature Importances (RandomForest)"
        },
        "xaxis": {
         "anchor": "y",
         "domain": [
          0,
          1
         ],
         "title": {
          "text": "Feature"
         }
        },
        "yaxis": {
         "anchor": "x",
         "domain": [
          0,
          1
         ],
         "title": {
          "text": "Importance"
         }
        }
       }
      }
     },
     "metadata": {},
     "output_type": "display_data"
    },
    {
     "ename": "ModuleNotFoundError",
     "evalue": "No module named 'matplotlib'",
     "output_type": "error",
     "traceback": [
      "\u001b[31m---------------------------------------------------------------------------\u001b[39m",
      "\u001b[31mModuleNotFoundError\u001b[39m                       Traceback (most recent call last)",
      "\u001b[36mCell\u001b[39m\u001b[36m \u001b[39m\u001b[32mIn[17]\u001b[39m\u001b[32m, line 166\u001b[39m\n\u001b[32m    163\u001b[39m     fig3.show()\n\u001b[32m    165\u001b[39m \u001b[38;5;66;03m# Partial dependence plot for top 2 features (RandomForest)\u001b[39;00m\n\u001b[32m--> \u001b[39m\u001b[32m166\u001b[39m \u001b[38;5;28;01mimport\u001b[39;00m\u001b[38;5;250m \u001b[39m\u001b[34;01mmatplotlib\u001b[39;00m\u001b[34;01m.\u001b[39;00m\u001b[34;01mpyplot\u001b[39;00m\u001b[38;5;250m \u001b[39m\u001b[38;5;28;01mas\u001b[39;00m\u001b[38;5;250m \u001b[39m\u001b[34;01mplt\u001b[39;00m\n\u001b[32m    167\u001b[39m pip_install(\u001b[33m'\u001b[39m\u001b[33mmatplotlib\u001b[39m\u001b[33m'\u001b[39m)  \u001b[38;5;66;03m# Ensure matplotlib is available\u001b[39;00m\n\u001b[32m    169\u001b[39m fig4, ax = plt.subplots(\u001b[32m1\u001b[39m, \u001b[32m2\u001b[39m, figsize=(\u001b[32m10\u001b[39m, \u001b[32m4\u001b[39m))\n",
      "\u001b[31mModuleNotFoundError\u001b[39m: No module named 'matplotlib'"
     ]
    }
   ],
   "source": [
    "import sys\n",
    "import subprocess\n",
    "import pandas as pd\n",
    "import numpy as np\n",
    "import random\n",
    "from sklearn.cluster import KMeans\n",
    "from sklearn.metrics import silhouette_score, root_mean_squared_error, r2_score\n",
    "from sklearn.decomposition import PCA\n",
    "from sklearn.linear_model import RidgeCV\n",
    "from sklearn.ensemble import RandomForestRegressor\n",
    "from sklearn.model_selection import GridSearchCV, train_test_split\n",
    "from sklearn.preprocessing import StandardScaler\n",
    "import joblib\n",
    "import pytz\n",
    "import warnings\n",
    "from sklearn.inspection import PartialDependenceDisplay\n",
    "\n",
    "# Auto-install required packages if missing\n",
    "def pip_install(pkg):\n",
    "    try:\n",
    "        __import__(pkg)\n",
    "    except ImportError:\n",
    "        subprocess.check_call([sys.executable, \"-m\", \"pip\", \"install\", pkg])\n",
    "\n",
    "for pkg in ['pandas', 'numpy', 'scikit-learn', 'plotly', 'joblib', 'pytz']:\n",
    "    pip_install(pkg)\n",
    "\n",
    "import plotly.express as px\n",
    "import plotly.graph_objects as go\n",
    "warnings.filterwarnings(\"ignore\")\n",
    "\n",
    "random.seed(42)\n",
    "np.random.seed(42)\n",
    "\n",
    "# Load data\n",
    "athens = pytz.timezone('Europe/Athens')\n",
    "df = pd.read_csv(\"output.csv\", parse_dates=['Date of Purchase'])\n",
    "if df['Date of Purchase'].dt.tz is None:\n",
    "    df['Date of Purchase'] = df['Date of Purchase'].dt.tz_localize('Europe/Athens')\n",
    "else:\n",
    "    df['Date of Purchase'] = df['Date of Purchase'].dt.tz_convert('Europe/Athens')\n",
    "\n",
    "df = df.sort_values('Date of Purchase').reset_index(drop=True)\n",
    "\n",
    "# Feature engineering\n",
    "df['Budget_rolling7'] = df['Budget'].rolling(7, min_periods=1).mean()\n",
    "df['Quantity_rolling7'] = df['Quantity'].rolling(7, min_periods=1).mean()\n",
    "df['Hour'] = df['Date of Purchase'].dt.hour\n",
    "df['Weekday'] = df['Date of Purchase'].dt.day_name()\n",
    "df['IsWeekend'] = df['Date of Purchase'].dt.weekday >= 5\n",
    "\n",
    "df_enc = pd.get_dummies(df, columns=['Store Name', 'Gender'], drop_first=True)\n",
    "\n",
    "# Plot dual-axis line of rolling averages\n",
    "fig = go.Figure()\n",
    "fig.add_trace(go.Scatter(\n",
    "    x=df['Date of Purchase'], y=df['Budget_rolling7'],\n",
    "    name='7-day Rolling Budget', yaxis='y1', mode='lines+markers'\n",
    "))\n",
    "fig.add_trace(go.Scatter(\n",
    "    x=df['Date of Purchase'], y=df['Quantity_rolling7'],\n",
    "    name='7-day Rolling Quantity', yaxis='y2', mode='lines+markers'\n",
    "))\n",
    "fig.update_layout(\n",
    "    title=\"7-day Rolling Averages: Budget & Quantity\",\n",
    "    yaxis=dict(title='Budget'),\n",
    "    yaxis2=dict(title='Quantity', overlaying='y', side='right'),\n",
    "    xaxis=dict(title='Date'),\n",
    "    legend=dict(x=0.01, y=0.99),\n",
    "    margin=dict(l=40, r=40, t=60, b=40),\n",
    "    title_font=dict(size=20, family=\"Arial\")\n",
    ")\n",
    "fig.show()\n",
    "\n",
    "# KMeans clustering (k=2..6), silhouette selection, PCA scatter\n",
    "features = ['Age', 'Quantity', 'Budget', 'Hour'] + \\\n",
    "           [c for c in df_enc.columns if c.startswith('Store Name_') or c.startswith('Gender_')]\n",
    "X = df_enc[features].values\n",
    "scaler = StandardScaler()\n",
    "X_scaled = scaler.fit_transform(X)\n",
    "\n",
    "best_score = -1\n",
    "best_k = 2\n",
    "best_labels = None\n",
    "for k in range(2, 7):\n",
    "    km = KMeans(n_clusters=k, random_state=42, n_init=10)\n",
    "    labels = km.fit_predict(X_scaled)\n",
    "    score = silhouette_score(X_scaled, labels)\n",
    "    if score > best_score:\n",
    "        best_score = score\n",
    "        best_k = k\n",
    "        best_labels = labels\n",
    "\n",
    "pca = PCA(n_components=2, random_state=42)\n",
    "X_pca = pca.fit_transform(X_scaled)\n",
    "fig2 = px.scatter(\n",
    "    x=X_pca[:,0], y=X_pca[:,1], color=best_labels.astype(str),\n",
    "    title=f\"PCA Scatter by KMeans Cluster (k={best_k}, Silhouette={best_score:.2f})\",\n",
    "    labels={'x':'PCA1', 'y':'PCA2', 'color':'Cluster'},\n",
    "    color_discrete_sequence=px.colors.qualitative.Set2\n",
    ")\n",
    "fig2.show()\n",
    "\n",
    "print(f\"Best KMeans k={best_k}, silhouette={best_score:.3f}\")\n",
    "\n",
    "# Regression: RidgeCV & RandomForestRegressor, GridSearchCV, RMSE/R2\n",
    "target = 'Budget'\n",
    "Xreg = df_enc[features]\n",
    "yreg = df[target]\n",
    "X_train, X_test, y_train, y_test = train_test_split(Xreg, yreg, test_size=0.25, random_state=42)\n",
    "\n",
    "# RidgeCV\n",
    "ridge = RidgeCV(alphas=np.logspace(-3, 3, 20), cv=5)\n",
    "ridge.fit(X_train, y_train)\n",
    "y_pred_ridge = ridge.predict(X_test)\n",
    "rmse_ridge = root_mean_squared_error(y_test, y_pred_ridge)\n",
    "r2_ridge = r2_score(y_test, y_pred_ridge)\n",
    "\n",
    "# RandomForestRegressor with GridSearchCV\n",
    "rf = RandomForestRegressor(random_state=42)\n",
    "param_grid = {'n_estimators': [50, 100], 'max_depth': [3, 5, 8]}\n",
    "gs = GridSearchCV(rf, param_grid, cv=3, n_jobs=-1)\n",
    "gs.fit(X_train, y_train)\n",
    "y_pred_rf = gs.predict(X_test)\n",
    "rmse_rf = root_mean_squared_error(y_test, y_pred_rf)\n",
    "r2_rf = r2_score(y_test, y_pred_rf)\n",
    "\n",
    "print(f\"RidgeCV: RMSE={rmse_ridge:.2f}, R2={r2_ridge:.2f}\")\n",
    "print(f\"RandomForest: RMSE={rmse_rf:.2f}, R2={r2_rf:.2f}\")\n",
    "\n",
    "# Feature importances/coefs\n",
    "importances = None\n",
    "feat_names = Xreg.columns\n",
    "if hasattr(gs.best_estimator_, \"feature_importances_\"):\n",
    "    importances = gs.best_estimator_.feature_importances_\n",
    "    top_idx = np.argsort(importances)[::-1][:2]\n",
    "    print(\"RandomForest top features:\")\n",
    "    for i in top_idx:\n",
    "        print(f\"  {feat_names[i]}: {importances[i]:.3f}\")\n",
    "    fig3 = px.bar(\n",
    "        x=[feat_names[i] for i in top_idx],\n",
    "        y=[importances[i] for i in top_idx],\n",
    "        labels={'x':'Feature', 'y':'Importance'},\n",
    "        title=\"Top 2 Feature Importances (RandomForest)\",\n",
    "        color=[feat_names[i] for i in top_idx],\n",
    "        color_discrete_sequence=px.colors.qualitative.Pastel\n",
    "    )\n",
    "    fig3.show()\n",
    "else:\n",
    "    coefs = ridge.coef_\n",
    "    top_idx = np.argsort(np.abs(coefs))[::-1][:2]\n",
    "    print(\"RidgeCV top features:\")\n",
    "    for i in top_idx:\n",
    "        print(f\"  {feat_names[i]}: {coefs[i]:.3f}\")\n",
    "    fig3 = px.bar(\n",
    "        x=[feat_names[i] for i in top_idx],\n",
    "        y=[coefs[i] for i in top_idx],\n",
    "        labels={'x':'Feature', 'y':'Coefficient'},\n",
    "        title=\"Top 2 Coefficients (RidgeCV)\",\n",
    "        color=[feat_names[i] for i in top_idx],\n",
    "        color_discrete_sequence=px.colors.qualitative.Pastel\n",
    "    )\n",
    "    fig3.show()\n",
    "\n",
    "# Partial dependence plot for top 2 features (RandomForest)\n",
    "import matplotlib.pyplot as plt\n",
    "pip_install('matplotlib')  # Ensure matplotlib is available\n",
    "\n",
    "fig4, ax = plt.subplots(1, 2, figsize=(10, 4))\n",
    "PartialDependenceDisplay.from_estimator(\n",
    "    gs.best_estimator_, X_test, [top_idx[0], top_idx[1]], feature_names=feat_names, ax=ax\n",
    ")\n",
    "plt.tight_layout()\n",
    "plt.show()\n",
    "\n",
    "# Save best model and results\n",
    "joblib.dump(gs.best_estimator_, \"best_model.joblib\")\n",
    "results_df = pd.DataFrame([{\n",
    "    \"Best_KMeans_k\": best_k,\n",
    "    \"Silhouette\": best_score,\n",
    "    \"RidgeCV_RMSE\": rmse_ridge,\n",
    "    \"RidgeCV_R2\": r2_ridge,\n",
    "    \"RF_RMSE\": rmse_rf,\n",
    "    \"RF_R2\": r2_rf\n",
    "}])\n",
    "results_df.to_csv(\"results.csv\", index=False)\n",
    "print(\"Best model saved as best_model.joblib and results written to results.csv\")"
   ]
  },
  {
   "cell_type": "code",
   "execution_count": null,
   "id": "a14fb48f",
   "metadata": {
    "vscode": {
     "languageId": "julia"
    }
   },
   "outputs": [],
   "source": [
    "from sklearn.inspection import PartialDependenceDisplay\n",
    "\n",
    "# Compute partial dependence using plotly only (no matplotlib)\n",
    "from sklearn.inspection import partial_dependence\n",
    "\n",
    "fig_pdp = make_subplots(rows=1, cols=2, subplot_titles=[\n",
    "    f\"Partial Dependence: {feat_names[top_idx[0]]}\",\n",
    "    f\"Partial Dependence: {feat_names[top_idx[1]]}\"\n",
    "])\n",
    "\n",
    "for i, feat_idx in enumerate(top_idx):\n",
    "    pd_result = partial_dependence(gs.best_estimator_, X_test, [feat_idx], kind=\"average\")\n",
    "    x_vals = pd_result[\"values\"][0]\n",
    "    y_vals = pd_result[\"average\"][0].ravel()\n",
    "    fig_pdp.add_trace(\n",
    "        go.Scatter(\n",
    "            x=x_vals,\n",
    "            y=y_vals,\n",
    "            mode='lines+markers',\n",
    "            name=f\"PDP: {feat_names[feat_idx]}\"\n",
    "        ),\n",
    "        row=1, col=i+1\n",
    "    )\n",
    "    fig_pdp.update_xaxes(title_text=feat_names[feat_idx], row=1, col=i+1)\n",
    "    fig_pdp.update_yaxes(title_text=\"Partial Dependence\", row=1, col=i+1)\n",
    "\n",
    "fig_pdp.update_layout(\n",
    "    title=\"Partial Dependence Plots (Top 2 Features)\",\n",
    "    margin=dict(l=40, r=40, t=60, b=40),\n",
    "    title_font=dict(size=18, family=\"Arial\"),\n",
    "    height=400\n",
    ")\n",
    "fig_pdp.show()\n",
    "    fig_pdp.add_trace(\n",
    "        go.Scatter(\n",
    "            x=x_vals,\n",
    "            y=y_vals,\n",
    "            mode='lines+markers',\n",
    "            name=f\"PDP: {feat_names[top_idx[i]]}\"\n",
    "        ),\n",
    "        row=1, col=i+1\n",
    "    )\n",
    "    fig_pdp.update_xaxes(title_text=feat_names[top_idx[i]], row=1, col=i+1)\n",
    "    fig_pdp.update_yaxes(title_text=\"Partial Dependence\", row=1, col=i+1)\n",
    "\n",
    "fig_pdp.update_layout(\n",
    "    title=\"Partial Dependence Plots (Top 2 Features)\",\n",
    "    margin=dict(l=40, r=40, t=60, b=40),\n",
    "    title_font=dict(size=18, family=\"Arial\"),\n",
    "    height=400\n",
    ")\n",
    "fig_pdp.show()"
   ]
  },
  {
   "cell_type": "code",
   "execution_count": 20,
   "id": "e571d000",
   "metadata": {},
   "outputs": [
    {
     "ename": "KeyError",
     "evalue": "'values'",
     "output_type": "error",
     "traceback": [
      "\u001b[31m---------------------------------------------------------------------------\u001b[39m",
      "\u001b[31mKeyError\u001b[39m                                  Traceback (most recent call last)",
      "\u001b[36mCell\u001b[39m\u001b[36m \u001b[39m\u001b[32mIn[20]\u001b[39m\u001b[32m, line 11\u001b[39m\n\u001b[32m      9\u001b[39m \u001b[38;5;28;01mfor\u001b[39;00m i, feat_idx \u001b[38;5;129;01min\u001b[39;00m \u001b[38;5;28menumerate\u001b[39m(top_idx):\n\u001b[32m     10\u001b[39m     pd_result = partial_dependence(gs.best_estimator_, X_test, [feat_idx], kind=\u001b[33m\"\u001b[39m\u001b[33maverage\u001b[39m\u001b[33m\"\u001b[39m)\n\u001b[32m---> \u001b[39m\u001b[32m11\u001b[39m     x_vals = \u001b[43mpd_result\u001b[49m\u001b[43m[\u001b[49m\u001b[33;43m\"\u001b[39;49m\u001b[33;43mvalues\u001b[39;49m\u001b[33;43m\"\u001b[39;49m\u001b[43m]\u001b[49m[\u001b[32m0\u001b[39m]\n\u001b[32m     12\u001b[39m     y_vals = pd_result[\u001b[33m\"\u001b[39m\u001b[33maverage\u001b[39m\u001b[33m\"\u001b[39m][\u001b[32m0\u001b[39m].ravel()\n\u001b[32m     13\u001b[39m     fig_pdp.add_trace(\n\u001b[32m     14\u001b[39m         go.Scatter(\n\u001b[32m     15\u001b[39m             x=x_vals,\n\u001b[32m   (...)\u001b[39m\u001b[32m     20\u001b[39m         row=\u001b[32m1\u001b[39m, col=i+\u001b[32m1\u001b[39m\n\u001b[32m     21\u001b[39m     )\n",
      "\u001b[36mFile \u001b[39m\u001b[32m~/Projects/LLMs_Code_Capabilities_Investigation/.conda/lib/python3.11/site-packages/sklearn/utils/_bunch.py:42\u001b[39m, in \u001b[36mBunch.__getitem__\u001b[39m\u001b[34m(self, key)\u001b[39m\n\u001b[32m     37\u001b[39m \u001b[38;5;28;01mif\u001b[39;00m key \u001b[38;5;129;01min\u001b[39;00m \u001b[38;5;28mself\u001b[39m.\u001b[34m__dict__\u001b[39m.get(\u001b[33m\"\u001b[39m\u001b[33m_deprecated_key_to_warnings\u001b[39m\u001b[33m\"\u001b[39m, {}):\n\u001b[32m     38\u001b[39m     warnings.warn(\n\u001b[32m     39\u001b[39m         \u001b[38;5;28mself\u001b[39m._deprecated_key_to_warnings[key],\n\u001b[32m     40\u001b[39m         \u001b[38;5;167;01mFutureWarning\u001b[39;00m,\n\u001b[32m     41\u001b[39m     )\n\u001b[32m---> \u001b[39m\u001b[32m42\u001b[39m \u001b[38;5;28;01mreturn\u001b[39;00m \u001b[38;5;28;43msuper\u001b[39;49m\u001b[43m(\u001b[49m\u001b[43m)\u001b[49m\u001b[43m.\u001b[49m\u001b[34;43m__getitem__\u001b[39;49m\u001b[43m(\u001b[49m\u001b[43mkey\u001b[49m\u001b[43m)\u001b[49m\n",
      "\u001b[31mKeyError\u001b[39m: 'values'"
     ]
    }
   ],
   "source": [
    "# Compute partial dependence using plotly only (no matplotlib)\n",
    "from sklearn.inspection import partial_dependence\n",
    "\n",
    "fig_pdp = make_subplots(rows=1, cols=2, subplot_titles=[\n",
    "    f\"Partial Dependence: {feat_names[top_idx[0]]}\",\n",
    "    f\"Partial Dependence: {feat_names[top_idx[1]]}\"\n",
    "])\n",
    "\n",
    "for i, feat_idx in enumerate(top_idx):\n",
    "    pd_result = partial_dependence(gs.best_estimator_, X_test, [feat_idx], kind=\"average\")\n",
    "    x_vals = pd_result[\"values\"][0]\n",
    "    y_vals = pd_result[\"average\"][0].ravel()\n",
    "    fig_pdp.add_trace(\n",
    "        go.Scatter(\n",
    "            x=x_vals,\n",
    "            y=y_vals,\n",
    "            mode='lines+markers',\n",
    "            name=f\"PDP: {feat_names[feat_idx]}\"\n",
    "        ),\n",
    "        row=1, col=i+1\n",
    "    )\n",
    "    fig_pdp.update_xaxes(title_text=feat_names[feat_idx], row=1, col=i+1)\n",
    "    fig_pdp.update_yaxes(title_text=\"Partial Dependence\", row=1, col=i+1)\n",
    "\n",
    "fig_pdp.update_layout(\n",
    "    title=\"Partial Dependence Plots (Top 2 Features)\",\n",
    "    margin=dict(l=40, r=40, t=60, b=40),\n",
    "    title_font=dict(size=18, family=\"Arial\"),\n",
    "    height=400\n",
    ")\n",
    "fig_pdp.show()\n",
    "fig_pdp.add_trace(\n",
    "    go.Scatter(\n",
    "        x=x_vals,\n",
    "        y=y_vals,\n",
    "        mode='lines+markers',\n",
    "        name=f\"PDP: {feat_names[top_idx[i]]}\"\n",
    "    ),\n",
    "    row=1, col=i+1\n",
    ")\n",
    "fig_pdp.update_xaxes(title_text=feat_names[top_idx[i]], row=1, col=i+1)\n",
    "fig_pdp.update_yaxes(title_text=\"Partial Dependence\", row=1, col=i+1)\n",
    "\n",
    "fig_pdp.update_layout(\n",
    "    title=\"Partial Dependence Plots (Top 2 Features)\",\n",
    "    margin=dict(l=40, r=40, t=60, b=40),\n",
    "    title_font=dict(size=18, family=\"Arial\"),\n",
    "    height=400\n",
    ")\n",
    "fig_pdp.show()"
   ]
  },
  {
   "cell_type": "markdown",
   "id": "da7fb36b",
   "metadata": {},
   "source": [
    "### Findings \n",
    "- In 1st run, \n",
    "    - the generated code is not able to handle missing libraries, auto-install doens't work. \n",
    "    - Also used mean_squared_error which is deprecated and refactoring was needed\n",
    "    - Finally for one of the visuals, maplotlib was used while I asked it to use plotly instead like the rest of the visuals\n",
    "\n",
    "- even after series of retries, the gpt cannot handle the request. The following promtps were given after the first one\n",
    "\n",
    "    - refactor this to plotly import matplotlib.pyplot as plt\n",
    "        pip_install('matplotlib') # Ensure matplotlib is available\n",
    "        fig4, ax = plt.subplots(1, 2, figsize=(10, 4))\n",
    "        PartialDependenceDisplay.from_estimator(\n",
    "        gs.best_estimator_, X_test, [top_idx[0], top_idx[1]], feature_names=feat_names, ax=ax\n",
    "        )\n",
    "        plt.tight_layout()\n",
    "        plt.show()\n",
    "    - i dont have partial dependence\n",
    "    - i dont want to use matplotlib\n",
    "    - PartialDependenceDisplay.from_estimator needs matplotlib\n",
    "    - error in indent"
   ]
  },
  {
   "cell_type": "markdown",
   "id": "f4073017",
   "metadata": {},
   "source": [
    "\n",
    "Στο πλαίσιο αυτής της άσκησης αξιολογήσαμε τις ικανότητες ενός LLM να παράγει σύνθετο, συνεκτικό και λειτουργικό κώδικα σε τρία βασικά σενάρια. Στόχος ήταν να εντοπίσουμε σημεία όπου η λογική του μοντέλου «σπάει» ή κάνει υποθέσεις που οδηγούν σε λάθη.\n",
    "\n",
    "### Σενάριο 3 – Complex Data Creation, Validation & Post-processing\n",
    "\n",
    "Prompt: Streaming script για 100 εγγραφές πωλήσεων με αυστηρές προδιαγραφές (διανομή ηλικιών Poisson, ώρες, timezone-aware, row-by-row I/O, …, seed=42).\n",
    "Αποτέλεσμα:\n",
    "\n",
    "- Το LLM παρήγαγε κώδικα χωρίς συντακτικά σφάλματα, αλλά εμφανίστηκαν runtime exceptions (π.χ. UnboundLocalError, λάθος παράμετροι np.random.triangular).\n",
    "- Τα λάθη αποδίδονται σε ασυνέπειες μεταξύ των πολλαπλών βημάτων του prompt (πρώιμη χρήση μεταβλητών πριν τον ορισμό τους, διπλή χρήση localize, λάθος order παραμέτρων).\n",
    "- Συμπέρασμα: Η σύνθεση μεγάλου, πολύπλοκου prompt οδήγησε σε κατακερματισμένες παραγράφους κώδικα που δεν ελέγχθηκαν end-to-end από το LLM, αποκαλύπτοντας έλλειψη ενιαίας internal δομής.\n",
    "\n",
    "### Σενάριο 4 – Visuals Generation\n",
    "Prompt: Πλήρες interactive dashboard σε Jupyter με Plotly, τέσσερα charts σε ξεχωριστά cells + 2×2 subplots (sunburst, facets, custom hover, responsive, custom palettes, updatemenus, markdown commentary).\n",
    "Αποτέλεσμα:\n",
    "\n",
    "- Παράχθηκαν τα περισσότερα διαγράμματα με Plotly, αλλά:\n",
    "    - Το sunburst υλοποιήθηκε με matplotlib, παρά το ρητό αίτημα για Plotly.\n",
    "    - Για το “Purchases & Average Budget per Day” αντί για line-line dual axis επιλέχτηκε line+barchart, αν και σε επόμενα prompts το LLM έδωσε το σωστό dual-line.\n",
    "- Συμπέρασμα: Το LLM φαίνεται να έχει bias στα παραδείγματα εκπαίδευσής του—χρησιμοποιεί matplotlib για είδη διαγραμμάτων που εκπαιδεύτηκε να βλέπει συχνότερα, ακόμα και όταν ζητείται άλλη βιβλιοθήκη.\n",
    "\n",
    "### Σενάριο 5 – Advanced Analytics\n",
    "Prompt: Ένα cell που:\n",
    "\n",
    "1. Αυτόματη εγκατάσταση ελλειπόντων βιβλιοθηκών\n",
    "2. Feature engineering (rolling averages, one-hot, ώρα, weekday, weekend)\n",
    "3. Dual-axis Plotly plot\n",
    "4. KMeans (k=2–6, silhouette) + 2-D PCA scatter\n",
    "5. Δύο regressors (RidgeCV, RandomForest) με GridSearchCV, αποτελέσματα RMSE & R²\n",
    "6. Partial dependence plots\n",
    "7. Αποθήκευση μοντέλου & results.csv\n",
    "Αποτέλεσμα:\n",
    "\n",
    "- Ο κώδικας για εγκατάσταση βιβλιοθηκών μπήκε μετά τις κλήσεις import, οπότε υπήρχε σφάλμα module not found.\n",
    "- Χρησιμοποιήθηκαν deprecated συναρτήσεις (mean_squared_error(squared=False) αντί mean_squared_error(..., squared=True) ή mean_squared_error + τετραγωνική ρίζα).\n",
    "- Συμπέρασμα: Το LLM δεν χειρίζεται σωστά την ordering των εντολών εγκατάστασης και import, και βασίζεται σε παλιές εκδόσεις API, υποδεικνύοντας ότι η βάση εκπαίδευσης δεν εκσυγχρονίστηκε πλήρως.\n",
    "\n",
    "### Κύρια Συμπεράσματα\n",
    "\n",
    "1. Fragmentation of Code Blocks: Όταν το prompt περιλαμβάνει πολλές ασύνδετες οδηγίες, το LLM συχνά δημιουργεί κομμάτια κώδικα που δεν λειτουργούν ενιαία.\n",
    "2. Library Bias: Το LLM επανέρχεται σε βιβλιοθήκες/τυπικά patterns που έχει «δει» συχνότερα (π.χ. matplotlib για sunburst), παρά τις ρητές οδηγίες.\n",
    "3. API Version Drift: Χρησιμοποιεί deprecated συναρτήσεις και δεν προσαρμόζει την εγκατάσταση βιβλιοθηκών με σωστή σειρά, δείχνοντας ότι η εκπαίδευσή του μπορεί να μην περιλαμβάνει up-to-date documentation.\n",
    "4. Partial Compliance: Συχνά καλύπτει το μεγαλύτερο μέρος των απαιτήσεων, αλλά παραλείπει κρίσιμες λεπτομέρειες (custom palettes, hover templates, margin updates, dtype consistency)."
   ]
  }
 ],
 "metadata": {
  "kernelspec": {
   "display_name": "Python 3",
   "language": "python",
   "name": "python3"
  },
  "language_info": {
   "codemirror_mode": {
    "name": "ipython",
    "version": 3
   },
   "file_extension": ".py",
   "mimetype": "text/x-python",
   "name": "python",
   "nbconvert_exporter": "python",
   "pygments_lexer": "ipython3",
   "version": "3.11.13"
  }
 },
 "nbformat": 4,
 "nbformat_minor": 5
}
