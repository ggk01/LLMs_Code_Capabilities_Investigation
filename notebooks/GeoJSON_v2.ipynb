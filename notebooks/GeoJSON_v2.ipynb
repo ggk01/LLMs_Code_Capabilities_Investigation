{
 "cells": [
  {
   "cell_type": "markdown",
   "id": "74c036cb",
   "metadata": {},
   "source": [
    "Write Python code that reads a GeoJSON file containing a FeatureCollection of Polygon geometries. Create a function that takes this FeatureCollection and returns a GeometryCollection with the outer boundary (outline) of all the polygons as a closed Polygon. Save the result as a GeoJSON file."
   ]
  },
  {
   "cell_type": "code",
   "execution_count": null,
   "id": "47f7abb9",
   "metadata": {},
   "outputs": [
    {
     "ename": "AttributeError",
     "evalue": "'MultiPolygon' object has no attribute 'exterior'",
     "output_type": "error",
     "traceback": [
      "\u001b[1;31m---------------------------------------------------------------------------\u001b[0m",
      "\u001b[1;31mAttributeError\u001b[0m                            Traceback (most recent call last)",
      "Cell \u001b[1;32mIn[2], line 33\u001b[0m\n\u001b[0;32m     30\u001b[0m     feature_collection \u001b[38;5;241m=\u001b[39m json\u001b[38;5;241m.\u001b[39mload(f)\n\u001b[0;32m     32\u001b[0m \u001b[38;5;66;03m# Get the outline geometry collection\u001b[39;00m\n\u001b[1;32m---> 33\u001b[0m geometry_collection \u001b[38;5;241m=\u001b[39m \u001b[43mfeaturecollection_to_outline_geometrycollection\u001b[49m\u001b[43m(\u001b[49m\u001b[43mfeature_collection\u001b[49m\u001b[43m)\u001b[49m\n\u001b[0;32m     35\u001b[0m \u001b[38;5;66;03m# Save the result as a GeoJSON file\u001b[39;00m\n\u001b[0;32m     36\u001b[0m \u001b[38;5;28;01mwith\u001b[39;00m \u001b[38;5;28mopen\u001b[39m(\u001b[38;5;124m'\u001b[39m\u001b[38;5;124moutline_geometrycollection.geojson\u001b[39m\u001b[38;5;124m'\u001b[39m, \u001b[38;5;124m'\u001b[39m\u001b[38;5;124mw\u001b[39m\u001b[38;5;124m'\u001b[39m) \u001b[38;5;28;01mas\u001b[39;00m f:\n",
      "Cell \u001b[1;32mIn[2], line 18\u001b[0m, in \u001b[0;36mfeaturecollection_to_outline_geometrycollection\u001b[1;34m(feature_collection)\u001b[0m\n\u001b[0;32m     16\u001b[0m \u001b[38;5;66;03m# Get the exterior boundary as a closed Polygon\u001b[39;00m\n\u001b[0;32m     17\u001b[0m \u001b[38;5;28;01mif\u001b[39;00m \u001b[38;5;28misinstance\u001b[39m(unioned, (Polygon, MultiPolygon)):\n\u001b[1;32m---> 18\u001b[0m     outline \u001b[38;5;241m=\u001b[39m Polygon(\u001b[43munioned\u001b[49m\u001b[38;5;241;43m.\u001b[39;49m\u001b[43mexterior\u001b[49m)\n\u001b[0;32m     19\u001b[0m \u001b[38;5;28;01melse\u001b[39;00m:\n\u001b[0;32m     20\u001b[0m     \u001b[38;5;28;01mraise\u001b[39;00m \u001b[38;5;167;01mValueError\u001b[39;00m(\u001b[38;5;124m\"\u001b[39m\u001b[38;5;124mUnion did not result in a Polygon or MultiPolygon.\u001b[39m\u001b[38;5;124m\"\u001b[39m)\n",
      "\u001b[1;31mAttributeError\u001b[0m: 'MultiPolygon' object has no attribute 'exterior'"
     ]
    }
   ],
   "source": [
    "import json\n",
    "from shapely.geometry import shape, mapping, Polygon, MultiPolygon\n",
    "from shapely.ops import unary_union\n",
    "\n",
    "def featurecollection_to_outline_geometrycollection(feature_collection):\n",
    "    # Extract polygons from the FeatureCollection\n",
    "    polygons = []\n",
    "    for feature in feature_collection['features']:\n",
    "        geom = shape(feature['geometry'])\n",
    "        if isinstance(geom, Polygon):\n",
    "            polygons.append(geom)\n",
    "        elif isinstance(geom, MultiPolygon):\n",
    "            polygons.extend(list(geom.geoms))\n",
    "    # Union all polygons to get the combined outline\n",
    "    unioned = unary_union(polygons)\n",
    "    # Get the exterior boundary as a closed Polygon\n",
    "    if isinstance(unioned, (Polygon, MultiPolygon)):\n",
    "        outline = Polygon(unioned.exterior)\n",
    "    else:\n",
    "        raise ValueError(\"Union did not result in a Polygon or MultiPolygon.\")\n",
    "    # Create a GeometryCollection with the outline polygon\n",
    "    geometry_collection = {\n",
    "        \"type\": \"GeometryCollection\",\n",
    "        \"geometries\": [mapping(outline)]\n",
    "    }\n",
    "    return geometry_collection\n",
    "\n",
    "# Read the input GeoJSON file\n",
    "with open('medsea_cmems_grid', 'r') as f:\n",
    "    feature_collection = json.load(f)\n",
    "\n",
    "# Get the outline geometry collection\n",
    "geometry_collection = featurecollection_to_outline_geometrycollection(feature_collection)\n",
    "\n",
    "# Save the result as a GeoJSON file\n",
    "with open('outline_geometrycollection.geojson', 'w') as f:\n",
    "    json.dump(geometry_collection, f)"
   ]
  },
  {
   "cell_type": "markdown",
   "id": "b05e6713",
   "metadata": {},
   "source": [
    "Write Python code that reads a GeoJSON FeatureCollection of Polygons, merges all the polygons into one using shapely, and returns the outer boundary (outline) as a single Polygon. Make sure the code handles both Polygon and MultiPolygon results after the union, and extracts the correct exterior boundary. Save the result as a GeoJSON file.\n"
   ]
  },
  {
   "cell_type": "code",
   "execution_count": 3,
   "id": "3c197824",
   "metadata": {},
   "outputs": [
    {
     "ename": "AttributeError",
     "evalue": "'MultiPolygon' object has no attribute 'exterior'",
     "output_type": "error",
     "traceback": [
      "\u001b[1;31m---------------------------------------------------------------------------\u001b[0m",
      "\u001b[1;31mAttributeError\u001b[0m                            Traceback (most recent call last)",
      "Cell \u001b[1;32mIn[3], line 21\u001b[0m\n\u001b[0;32m     18\u001b[0m \u001b[38;5;28;01melif\u001b[39;00m \u001b[38;5;28misinstance\u001b[39m(merged, MultiPolygon):\n\u001b[0;32m     19\u001b[0m     \u001b[38;5;66;03m# Take the exterior of the unioned MultiPolygon as a single boundary\u001b[39;00m\n\u001b[0;32m     20\u001b[0m     merged_union \u001b[38;5;241m=\u001b[39m unary_union([Polygon(p\u001b[38;5;241m.\u001b[39mexterior) \u001b[38;5;28;01mfor\u001b[39;00m p \u001b[38;5;129;01min\u001b[39;00m merged\u001b[38;5;241m.\u001b[39mgeoms])\n\u001b[1;32m---> 21\u001b[0m     outline \u001b[38;5;241m=\u001b[39m Polygon(\u001b[43mmerged_union\u001b[49m\u001b[38;5;241;43m.\u001b[39;49m\u001b[43mexterior\u001b[49m)\n\u001b[0;32m     22\u001b[0m \u001b[38;5;28;01melse\u001b[39;00m:\n\u001b[0;32m     23\u001b[0m     \u001b[38;5;28;01mraise\u001b[39;00m \u001b[38;5;167;01mValueError\u001b[39;00m(\u001b[38;5;124m\"\u001b[39m\u001b[38;5;124mUnion did not result in a Polygon or MultiPolygon.\u001b[39m\u001b[38;5;124m\"\u001b[39m)\n",
      "\u001b[1;31mAttributeError\u001b[0m: 'MultiPolygon' object has no attribute 'exterior'"
     ]
    }
   ],
   "source": [
    "# Merge all polygons in the FeatureCollection and extract the outer boundary as a single Polygon\n",
    "\n",
    "# Extract polygons from the FeatureCollection\n",
    "polygons = []\n",
    "for feature in feature_collection['features']:\n",
    "    geom = shape(feature['geometry'])\n",
    "    if isinstance(geom, Polygon):\n",
    "        polygons.append(geom)\n",
    "    elif isinstance(geom, MultiPolygon):\n",
    "        polygons.extend(list(geom.geoms))\n",
    "\n",
    "# Union all polygons\n",
    "merged = unary_union(polygons)\n",
    "\n",
    "# Extract the exterior boundary as a Polygon\n",
    "if isinstance(merged, Polygon):\n",
    "    outline = Polygon(merged.exterior)\n",
    "elif isinstance(merged, MultiPolygon):\n",
    "    # Take the exterior of the unioned MultiPolygon as a single boundary\n",
    "    merged_union = unary_union([Polygon(p.exterior) for p in merged.geoms])\n",
    "    outline = Polygon(merged_union.exterior)\n",
    "else:\n",
    "    raise ValueError(\"Union did not result in a Polygon or MultiPolygon.\")\n",
    "\n",
    "# Prepare GeoJSON output\n",
    "outline_geojson = {\n",
    "    \"type\": \"Feature\",\n",
    "    \"geometry\": mapping(outline),\n",
    "    \"properties\": {}\n",
    "}\n",
    "\n",
    "# Save the result as a GeoJSON file\n",
    "with open('merged_outline.geojson', 'w') as out_f:\n",
    "    json.dump(outline_geojson, out_f)"
   ]
  },
  {
   "cell_type": "markdown",
   "id": "5603b164",
   "metadata": {},
   "source": [
    "Write Python code that reads a GeoJSON FeatureCollection of Polygons, merges them into a single geometry using shapely, and extracts the outerline boundary as a Polygon that represents the combined area. The code should handle both Polygon and MultiPolygon results after merging, by ensuring that the final result is a GeoJSON GeometryCollection of Polygon representing the outline of the entire merged area. Save the result as a GeoJSON Feature.\n"
   ]
  },
  {
   "cell_type": "code",
   "execution_count": 4,
   "id": "dabb4c3d",
   "metadata": {},
   "outputs": [],
   "source": [
    "# Merge all polygons and extract the outerline boundary as a Polygon,\n",
    "# then save as a GeoJSON Feature containing a GeometryCollection of the outline Polygon.\n",
    "\n",
    "# Merge all polygons into a single geometry\n",
    "merged_geom = unary_union(polygons)\n",
    "\n",
    "# Extract the outer boundary as a Polygon\n",
    "if isinstance(merged_geom, Polygon):\n",
    "    outline_polygon = Polygon(merged_geom.exterior)\n",
    "elif isinstance(merged_geom, MultiPolygon):\n",
    "    # Union all exteriors to get a single outline\n",
    "    exteriors = [Polygon(p.exterior) for p in merged_geom.geoms]\n",
    "    outline_union = unary_union(exteriors)\n",
    "    # If the union results in a MultiPolygon, take the exterior of the unioned boundary\n",
    "    if isinstance(outline_union, Polygon):\n",
    "        outline_polygon = outline_union\n",
    "    elif isinstance(outline_union, MultiPolygon):\n",
    "        # Take the largest polygon as the outline\n",
    "        outline_polygon = max(outline_union.geoms, key=lambda p: p.area)\n",
    "    else:\n",
    "        raise ValueError(\"Unexpected geometry type after union of exteriors.\")\n",
    "else:\n",
    "    raise ValueError(\"Merged geometry is not a Polygon or MultiPolygon.\")\n",
    "\n",
    "# Create a GeometryCollection containing the outline Polygon\n",
    "geometry_collection = {\n",
    "    \"type\": \"GeometryCollection\",\n",
    "    \"geometries\": [mapping(outline_polygon)]\n",
    "}\n",
    "\n",
    "# Wrap the GeometryCollection in a GeoJSON Feature\n",
    "feature = {\n",
    "    \"type\": \"Feature\",\n",
    "    \"geometry\": geometry_collection,\n",
    "    \"properties\": {}\n",
    "}\n",
    "\n",
    "# Save the result as a GeoJSON Feature\n",
    "with open('outline_geometrycollection_feature.geojson', 'w') as out_f:\n",
    "    json.dump(feature, out_f)"
   ]
  },
  {
   "cell_type": "markdown",
   "id": "14ce0f77",
   "metadata": {},
   "source": [
    "I want to extract the outline from grids. Write Python code that reads a GeoJSON FeatureCollection of Polygons (grids), merges them into a single geometry, and extracts the outerline boundary as a GeometryCollection that represents the combined area. The code should handle both Polygon and MultiPolygon results after merging, by ensuring that the final result is a GeoJSON GeometryCollection of Polygons representing the outline of the entire merged area. Save the result as a GeoJSON Feature.\n"
   ]
  },
  {
   "cell_type": "code",
   "execution_count": 7,
   "id": "4ea60d8a",
   "metadata": {},
   "outputs": [],
   "source": [
    "from shapely.geometry import mapping, Polygon, MultiPolygon\n",
    "from shapely.ops import unary_union\n",
    "\n",
    "# Merge all grid polygons into a single geometry\n",
    "merged_grids = unary_union(polygons)\n",
    "\n",
    "# Extract the outerline boundary as a GeometryCollection of Polygons\n",
    "if isinstance(merged_grids, Polygon):\n",
    "    outline_polygons = [Polygon(merged_grids.exterior)]\n",
    "elif isinstance(merged_grids, MultiPolygon):\n",
    "    outline_polygons = [Polygon(p.exterior) for p in merged_grids.geoms]\n",
    "else:\n",
    "    raise ValueError(\"Merged geometry is not a Polygon or MultiPolygon.\")\n",
    "\n",
    "# Create a GeometryCollection of outline polygons\n",
    "geometry_collection = {\n",
    "    \"type\": \"GeometryCollection\",\n",
    "    \"geometries\": [mapping(p) for p in outline_polygons]\n",
    "}\n",
    "\n",
    "# Wrap the GeometryCollection in a GeoJSON Feature\n",
    "feature = {\n",
    "    \"type\": \"Feature\",\n",
    "    \"geometry\": geometry_collection,\n",
    "    \"properties\": {}\n",
    "}\n",
    "\n",
    "# Save the result as a GeoJSON Feature\n",
    "with open('outerline_geometrycollection_feature.geojson', 'w') as out_f:\n",
    "    json.dump(feature, out_f)"
   ]
  },
  {
   "cell_type": "markdown",
   "id": "9481204b",
   "metadata": {},
   "source": [
    "I want to extract the outline from grids. Write Python code that reads a GeoJSON FeatureCollection of Polygons (grids), merges them into a single geometry, and extracts the outerline boundary as a GeometryCollection that represents the combined area. The code should handle both Polygon and MultiPolygon results after merging, by ensuring that the final result is a GeoJSON GeometryCollection of Polygons representing the outline of the entire merged area. The output GeoJSON file ensure that has the type of the GeometryCollection with Polygons geometries. Save the result as a GeoJSON Feature.\n"
   ]
  },
  {
   "cell_type": "code",
   "execution_count": 11,
   "id": "ca30be67",
   "metadata": {},
   "outputs": [],
   "source": [
    "import json\n",
    "from shapely.geometry import mapping\n",
    "\n",
    "# Create a GeometryCollection of Polygon geometries from exteriors\n",
    "geometry_collection = {\n",
    "    \"type\": \"GeometryCollection\",\n",
    "    \"geometries\": [mapping(polygon) for polygon in exteriors]\n",
    "}\n",
    "\n",
    "# Wrap the GeometryCollection in a GeoJSON Feature\n",
    "feature = {\n",
    "    \"type\": \"Feature\",\n",
    "    \"geometry\": geometry_collection,\n",
    "    \"properties\": {}\n",
    "}\n",
    "\n",
    "# Save the result as a GeoJSON Feature\n",
    "with open('grids_outerline_geometrycollection_feature.geojson', 'w') as f:\n",
    "    json.dump(feature, f)"
   ]
  },
  {
   "cell_type": "markdown",
   "id": "c874b834",
   "metadata": {},
   "source": [
    "Forget what you have done so far and let's start again. I want to extract the outline from grids. Write Python code that reads a GeoJSON FeatureCollection of Polygons (grids), merges them into a single geometry, and extracts the outerline boundary as a GeometryCollection that represents the combined area. The final result should be a GeoJSON GeometryCollection of Polygons representing the outline of the entire merged area. The output GeoJSON file ensure that has the type of the GeometryCollection with Polygons geometries. Save the result as a GeoJSON Feature.\n"
   ]
  },
  {
   "cell_type": "code",
   "execution_count": 13,
   "id": "dace4377",
   "metadata": {},
   "outputs": [],
   "source": [
    "import json\n",
    "from shapely.geometry import shape, mapping, Polygon, MultiPolygon\n",
    "from shapely.ops import unary_union\n",
    "\n",
    "# Read the input GeoJSON FeatureCollection of grid polygons\n",
    "with open('medsea_cmems_grid.json', 'r') as f:\n",
    "    feature_collection = json.load(f)\n",
    "\n",
    "# Extract all polygons from the FeatureCollection\n",
    "polygons = []\n",
    "for feature in feature_collection['features']:\n",
    "    geom = shape(feature['geometry'])\n",
    "    if isinstance(geom, Polygon):\n",
    "        polygons.append(geom)\n",
    "    elif isinstance(geom, MultiPolygon):\n",
    "        polygons.extend(list(geom.geoms))\n",
    "\n",
    "# Merge all polygons into a single geometry\n",
    "merged = unary_union(polygons)\n",
    "\n",
    "# Extract the outerline boundary as a list of Polygon exteriors\n",
    "if isinstance(merged, Polygon):\n",
    "    outline_polygons = [Polygon(merged.exterior)]\n",
    "elif isinstance(merged, MultiPolygon):\n",
    "    outline_polygons = [Polygon(p.exterior) for p in merged.geoms]\n",
    "else:\n",
    "    raise ValueError(\"Merged geometry is not a Polygon or MultiPolygon.\")\n",
    "\n",
    "# Create a GeometryCollection of Polygon geometries\n",
    "geometry_collection = {\n",
    "    \"type\": \"GeometryCollection\",\n",
    "    \"geometries\": [mapping(p) for p in outline_polygons]\n",
    "}\n",
    "\n",
    "# Wrap the GeometryCollection in a GeoJSON Feature\n",
    "feature = {\n",
    "    \"type\": \"Feature\",\n",
    "    \"geometry\": geometry_collection,\n",
    "    \"properties\": {}\n",
    "}\n",
    "\n",
    "# Save the result as a GeoJSON Feature\n",
    "with open('grids_outline_geometrycollection_feature.geojson', 'w') as out_f:\n",
    "    json.dump(feature, out_f)"
   ]
  }
 ],
 "metadata": {
  "kernelspec": {
   "display_name": "Python 3",
   "language": "python",
   "name": "python3"
  },
  "language_info": {
   "codemirror_mode": {
    "name": "ipython",
    "version": 3
   },
   "file_extension": ".py",
   "mimetype": "text/x-python",
   "name": "python",
   "nbconvert_exporter": "python",
   "pygments_lexer": "ipython3",
   "version": "3.10.2"
  }
 },
 "nbformat": 4,
 "nbformat_minor": 5
}
